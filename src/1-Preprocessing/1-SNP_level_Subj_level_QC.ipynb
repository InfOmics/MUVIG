{
 "cells": [
  {
   "cell_type": "code",
   "execution_count": 1,
   "metadata": {},
   "outputs": [],
   "source": [
    "from matplotlib_venn import venn3\n",
    "from scipy.stats import norm\n",
    "\n",
    "import matplotlib.pyplot as plt\n",
    "import seaborn as sns\n",
    "import pandas as pd\n",
    "import numpy as np\n",
    "\n",
    "import subprocess\n",
    "import math\n",
    "import sys\n",
    "import os"
   ]
  },
  {
   "cell_type": "code",
   "execution_count": 2,
   "metadata": {},
   "outputs": [],
   "source": [
    "immuno_path = \"../../data/genotyping/IMMUNO/\"\n",
    "neurox_path = \"../../data/genotyping/NEUROX/\""
   ]
  },
  {
   "cell_type": "code",
   "execution_count": 3,
   "metadata": {},
   "outputs": [
    {
     "data": {
      "text/html": [
       "<div>\n",
       "<style scoped>\n",
       "    .dataframe tbody tr th:only-of-type {\n",
       "        vertical-align: middle;\n",
       "    }\n",
       "\n",
       "    .dataframe tbody tr th {\n",
       "        vertical-align: top;\n",
       "    }\n",
       "\n",
       "    .dataframe thead th {\n",
       "        text-align: right;\n",
       "    }\n",
       "</style>\n",
       "<table border=\"1\" class=\"dataframe\">\n",
       "  <thead>\n",
       "    <tr style=\"text-align: right;\">\n",
       "      <th></th>\n",
       "      <th>0</th>\n",
       "      <th>1</th>\n",
       "      <th>2</th>\n",
       "      <th>3</th>\n",
       "      <th>4</th>\n",
       "      <th>5</th>\n",
       "    </tr>\n",
       "  </thead>\n",
       "  <tbody>\n",
       "    <tr>\n",
       "      <th>0</th>\n",
       "      <td>1</td>\n",
       "      <td>imm_1_898835</td>\n",
       "      <td>0</td>\n",
       "      <td>908972</td>\n",
       "      <td>0</td>\n",
       "      <td>A</td>\n",
       "    </tr>\n",
       "    <tr>\n",
       "      <th>1</th>\n",
       "      <td>1</td>\n",
       "      <td>vh_1_1108138</td>\n",
       "      <td>0</td>\n",
       "      <td>1118275</td>\n",
       "      <td>T</td>\n",
       "      <td>C</td>\n",
       "    </tr>\n",
       "    <tr>\n",
       "      <th>2</th>\n",
       "      <td>1</td>\n",
       "      <td>vh_1_1110294</td>\n",
       "      <td>0</td>\n",
       "      <td>1120431</td>\n",
       "      <td>A</td>\n",
       "      <td>G</td>\n",
       "    </tr>\n",
       "    <tr>\n",
       "      <th>3</th>\n",
       "      <td>1</td>\n",
       "      <td>rs9729550</td>\n",
       "      <td>0</td>\n",
       "      <td>1135242</td>\n",
       "      <td>C</td>\n",
       "      <td>A</td>\n",
       "    </tr>\n",
       "    <tr>\n",
       "      <th>4</th>\n",
       "      <td>1</td>\n",
       "      <td>rs1815606</td>\n",
       "      <td>0</td>\n",
       "      <td>1140435</td>\n",
       "      <td>T</td>\n",
       "      <td>G</td>\n",
       "    </tr>\n",
       "    <tr>\n",
       "      <th>5</th>\n",
       "      <td>1</td>\n",
       "      <td>rs7515488</td>\n",
       "      <td>0</td>\n",
       "      <td>1163804</td>\n",
       "      <td>T</td>\n",
       "      <td>C</td>\n",
       "    </tr>\n",
       "    <tr>\n",
       "      <th>6</th>\n",
       "      <td>1</td>\n",
       "      <td>rs11260562</td>\n",
       "      <td>0</td>\n",
       "      <td>1165310</td>\n",
       "      <td>A</td>\n",
       "      <td>G</td>\n",
       "    </tr>\n",
       "    <tr>\n",
       "      <th>7</th>\n",
       "      <td>1</td>\n",
       "      <td>rs6697886</td>\n",
       "      <td>0</td>\n",
       "      <td>1173611</td>\n",
       "      <td>A</td>\n",
       "      <td>G</td>\n",
       "    </tr>\n",
       "    <tr>\n",
       "      <th>8</th>\n",
       "      <td>1</td>\n",
       "      <td>1_1168711</td>\n",
       "      <td>0</td>\n",
       "      <td>1178848</td>\n",
       "      <td>A</td>\n",
       "      <td>G</td>\n",
       "    </tr>\n",
       "    <tr>\n",
       "      <th>9</th>\n",
       "      <td>1</td>\n",
       "      <td>rs6603785</td>\n",
       "      <td>0</td>\n",
       "      <td>1186502</td>\n",
       "      <td>T</td>\n",
       "      <td>A</td>\n",
       "    </tr>\n",
       "  </tbody>\n",
       "</table>\n",
       "</div>"
      ],
      "text/plain": [
       "   0             1  2        3  4  5\n",
       "0  1  imm_1_898835  0   908972  0  A\n",
       "1  1  vh_1_1108138  0  1118275  T  C\n",
       "2  1  vh_1_1110294  0  1120431  A  G\n",
       "3  1     rs9729550  0  1135242  C  A\n",
       "4  1     rs1815606  0  1140435  T  G\n",
       "5  1     rs7515488  0  1163804  T  C\n",
       "6  1    rs11260562  0  1165310  A  G\n",
       "7  1     rs6697886  0  1173611  A  G\n",
       "8  1     1_1168711  0  1178848  A  G\n",
       "9  1     rs6603785  0  1186502  T  A"
      ]
     },
     "execution_count": 3,
     "metadata": {},
     "output_type": "execute_result"
    }
   ],
   "source": [
    "immuno_bim = pd.read_csv(\n",
    "    os.path.join(immuno_path, \"IMMUNO_hg19.bim\"),\n",
    "    sep = \"\\t\",\n",
    "    header = None\n",
    ")\n",
    "immuno_bim.head(n=10)"
   ]
  },
  {
   "cell_type": "code",
   "execution_count": 4,
   "metadata": {},
   "outputs": [
    {
     "data": {
      "text/html": [
       "<div>\n",
       "<style scoped>\n",
       "    .dataframe tbody tr th:only-of-type {\n",
       "        vertical-align: middle;\n",
       "    }\n",
       "\n",
       "    .dataframe tbody tr th {\n",
       "        vertical-align: top;\n",
       "    }\n",
       "\n",
       "    .dataframe thead th {\n",
       "        text-align: right;\n",
       "    }\n",
       "</style>\n",
       "<table border=\"1\" class=\"dataframe\">\n",
       "  <thead>\n",
       "    <tr style=\"text-align: right;\">\n",
       "      <th></th>\n",
       "      <th>0</th>\n",
       "      <th>1</th>\n",
       "      <th>2</th>\n",
       "      <th>3</th>\n",
       "      <th>4</th>\n",
       "      <th>5</th>\n",
       "    </tr>\n",
       "  </thead>\n",
       "  <tbody>\n",
       "    <tr>\n",
       "      <th>0</th>\n",
       "      <td>1</td>\n",
       "      <td>NeuroX_PARK7_Pro158del</td>\n",
       "      <td>0</td>\n",
       "      <td>0</td>\n",
       "      <td>0</td>\n",
       "      <td>I</td>\n",
       "    </tr>\n",
       "    <tr>\n",
       "      <th>1</th>\n",
       "      <td>1</td>\n",
       "      <td>NeuroX_PINK1_23bp_del_ex7</td>\n",
       "      <td>0</td>\n",
       "      <td>0</td>\n",
       "      <td>0</td>\n",
       "      <td>I</td>\n",
       "    </tr>\n",
       "    <tr>\n",
       "      <th>2</th>\n",
       "      <td>1</td>\n",
       "      <td>NeuroX_PINK1_534_535insQ</td>\n",
       "      <td>0</td>\n",
       "      <td>0</td>\n",
       "      <td>0</td>\n",
       "      <td>D</td>\n",
       "    </tr>\n",
       "    <tr>\n",
       "      <th>3</th>\n",
       "      <td>1</td>\n",
       "      <td>NeuroX_PINK1_Asp525fs</td>\n",
       "      <td>0</td>\n",
       "      <td>0</td>\n",
       "      <td>0</td>\n",
       "      <td>D</td>\n",
       "    </tr>\n",
       "    <tr>\n",
       "      <th>4</th>\n",
       "      <td>1</td>\n",
       "      <td>NeuroX_PINK1_Cys549fs</td>\n",
       "      <td>0</td>\n",
       "      <td>0</td>\n",
       "      <td>0</td>\n",
       "      <td>I</td>\n",
       "    </tr>\n",
       "    <tr>\n",
       "      <th>5</th>\n",
       "      <td>1</td>\n",
       "      <td>NeuroX_PINK1_Lys520fs</td>\n",
       "      <td>0</td>\n",
       "      <td>0</td>\n",
       "      <td>0</td>\n",
       "      <td>I</td>\n",
       "    </tr>\n",
       "    <tr>\n",
       "      <th>6</th>\n",
       "      <td>1</td>\n",
       "      <td>exm2268640</td>\n",
       "      <td>0</td>\n",
       "      <td>762320</td>\n",
       "      <td>T</td>\n",
       "      <td>C</td>\n",
       "    </tr>\n",
       "    <tr>\n",
       "      <th>7</th>\n",
       "      <td>1</td>\n",
       "      <td>exm41</td>\n",
       "      <td>0</td>\n",
       "      <td>861349</td>\n",
       "      <td>0</td>\n",
       "      <td>C</td>\n",
       "    </tr>\n",
       "    <tr>\n",
       "      <th>8</th>\n",
       "      <td>1</td>\n",
       "      <td>exm1916089</td>\n",
       "      <td>0</td>\n",
       "      <td>865545</td>\n",
       "      <td>0</td>\n",
       "      <td>0</td>\n",
       "    </tr>\n",
       "    <tr>\n",
       "      <th>9</th>\n",
       "      <td>1</td>\n",
       "      <td>exm44</td>\n",
       "      <td>0</td>\n",
       "      <td>865584</td>\n",
       "      <td>0</td>\n",
       "      <td>G</td>\n",
       "    </tr>\n",
       "  </tbody>\n",
       "</table>\n",
       "</div>"
      ],
      "text/plain": [
       "   0                          1  2       3  4  5\n",
       "0  1     NeuroX_PARK7_Pro158del  0       0  0  I\n",
       "1  1  NeuroX_PINK1_23bp_del_ex7  0       0  0  I\n",
       "2  1   NeuroX_PINK1_534_535insQ  0       0  0  D\n",
       "3  1      NeuroX_PINK1_Asp525fs  0       0  0  D\n",
       "4  1      NeuroX_PINK1_Cys549fs  0       0  0  I\n",
       "5  1      NeuroX_PINK1_Lys520fs  0       0  0  I\n",
       "6  1                 exm2268640  0  762320  T  C\n",
       "7  1                      exm41  0  861349  0  C\n",
       "8  1                 exm1916089  0  865545  0  0\n",
       "9  1                      exm44  0  865584  0  G"
      ]
     },
     "execution_count": 4,
     "metadata": {},
     "output_type": "execute_result"
    }
   ],
   "source": [
    "neurox_bim = pd.read_csv(\n",
    "    os.path.join(neurox_path, \"NEUROX.bim\"),\n",
    "    sep = \"\\t\",\n",
    "    header = None\n",
    ")\n",
    "neurox_bim.head(n=10)"
   ]
  },
  {
   "cell_type": "markdown",
   "metadata": {},
   "source": [
    "### Lifting"
   ]
  },
  {
   "cell_type": "markdown",
   "metadata": {},
   "source": [
    "Missingness"
   ]
  },
  {
   "cell_type": "code",
   "execution_count": 5,
   "metadata": {},
   "outputs": [
    {
     "name": "stdout",
     "output_type": "stream",
     "text": [
      "PLINK v1.90b6.12 64-bit (28 Oct 2019)          www.cog-genomics.org/plink/1.9/\n",
      "(C) 2005-2019 Shaun Purcell, Christopher Chang   GNU General Public License v3\n",
      "Logging to ../../data/genotyping/IMMUNO/IMMUNO_hg19.log.\n",
      "Options in effect:\n",
      "  --bfile ../../data/genotyping/IMMUNO/IMMUNO_hg19\n",
      "  --missing\n",
      "  --out ../../data/genotyping/IMMUNO/IMMUNO_hg19\n",
      "\n",
      "16384 MB RAM detected; reserving 8192 MB for main workspace.\n",
      "196520 variants loaded from .bim file.\n",
      "523 people (343 males, 180 females) loaded from .fam.\n",
      "Using 1 thread (no multithreaded calculations invoked).\n",
      "Before main variant filters, 523 founders and 0 nonfounders present.\n",
      "Calculating allele frequencies... 10111213141516171819202122232425262728293031323334353637383940414243444546474849505152535455565758596061626364656667686970717273747576777879808182838485868788899091929394959697989 done.\n",
      "Warning: 67239 het. haploid genotypes present (see\n",
      "../../data/genotyping/IMMUNO/IMMUNO_hg19.hh ); many commands treat these as\n",
      "missing.\n",
      "Warning: Nonmissing nonmale Y chromosome genotype(s) present; many commands\n",
      "treat these as missing.\n",
      "Total genotyping rate is 0.957444.\n",
      "--missing: Sample missing data report written to\n",
      "../../data/genotyping/IMMUNO/IMMUNO_hg19.imiss, and variant-based missing data\n",
      "report written to ../../data/genotyping/IMMUNO/IMMUNO_hg19.lmiss.\n"
     ]
    }
   ],
   "source": [
    "!plink --bfile {os.path.join(immuno_path, \"IMMUNO_hg19\")} --missing --out {os.path.join(immuno_path, \"IMMUNO_hg19\")}"
   ]
  },
  {
   "cell_type": "code",
   "execution_count": 6,
   "metadata": {},
   "outputs": [
    {
     "data": {
      "image/png": "[encoded data removed]",
      "text/plain": [
       "<Figure size 1440x576 with 2 Axes>"
      ]
     },
     "metadata": {
      "needs_background": "light"
     },
     "output_type": "display_data"
    }
   ],
   "source": [
    "immuno_indmiss = pd.read_csv(\n",
    "    os.path.join(immuno_path, \"IMMUNO_hg19.imiss\"),\n",
    "    sep = \"\\s+\"\n",
    ")\n",
    "immuno_snpmiss = pd.read_csv(\n",
    "    os.path.join(immuno_path, \"IMMUNO_hg19.lmiss\"),\n",
    "    sep = \"\\s+\"\n",
    ")\n",
    "\n",
    "f, axes = plt.subplots(1,2, figsize=(20,8))\n",
    "n, bins, patches = axes[0].hist(\n",
    "    immuno_indmiss.F_MISS.tolist(), \n",
    "    50,\n",
    "    facecolor=\"blue\", \n",
    "    alpha=0.75\n",
    ")\n",
    "axes[0].set_xlabel(\"Missingness frequency\", size=14)\n",
    "axes[0].set_ylabel(\"Counts\", size=14)\n",
    "axes[0].set_title(\"Histogram of individual missingness\", size=16)\n",
    "n, bins, patches = axes[1].hist(\n",
    "    immuno_snpmiss.F_MISS.tolist(), \n",
    "    50,\n",
    "    facecolor=\"blue\", \n",
    "    alpha=0.75\n",
    ")\n",
    "axes[1].set_xlabel(\"Missingness frequency\", size=14)\n",
    "axes[1].set_ylabel(\"Counts\", size=14)\n",
    "axes[1].set_title(\"Histogram of SNP missingness\", size=16)\n",
    "plt.suptitle(\"IMMUNO\", size=24)\n",
    "plt.show()"
   ]
  },
  {
   "cell_type": "code",
   "execution_count": 7,
   "metadata": {},
   "outputs": [
    {
     "name": "stdout",
     "output_type": "stream",
     "text": [
      "PLINK v1.90b6.12 64-bit (28 Oct 2019)          www.cog-genomics.org/plink/1.9/\n",
      "(C) 2005-2019 Shaun Purcell, Christopher Chang   GNU General Public License v3\n",
      "Logging to ../../data/genotyping/NEUROX/NEUROX.log.\n",
      "Options in effect:\n",
      "  --bfile ../../data/genotyping/NEUROX/NEUROX\n",
      "  --missing\n",
      "  --out ../../data/genotyping/NEUROX/NEUROX\n",
      "\n",
      "16384 MB RAM detected; reserving 8192 MB for main workspace.\n",
      "267607 variants loaded from .bim file.\n",
      "619 people (409 males, 210 females) loaded from .fam.\n",
      "Using 1 thread (no multithreaded calculations invoked).\n",
      "Before main variant filters, 619 founders and 0 nonfounders present.\n",
      "Calculating allele frequencies... 10111213141516171819202122232425262728293031323334353637383940414243444546474849505152535455565758596061626364656667686970717273747576777879808182838485868788899091929394959697989 done.\n",
      "Warning: 5465 het. haploid genotypes present (see\n",
      "../../data/genotyping/NEUROX/NEUROX.hh ); many commands treat these as missing.\n",
      "Warning: Nonmissing nonmale Y chromosome genotype(s) present; many commands\n",
      "treat these as missing.\n",
      "Total genotyping rate is 0.957634.\n",
      "--missing: Sample missing data report written to\n",
      "../../data/genotyping/NEUROX/NEUROX.imiss, and variant-based missing data\n",
      "report written to ../../data/genotyping/NEUROX/NEUROX.lmiss.\n"
     ]
    }
   ],
   "source": [
    "!plink --bfile {os.path.join(neurox_path, \"NEUROX\")} --missing --out {os.path.join(neurox_path, \"NEUROX\")}"
   ]
  },
  {
   "cell_type": "code",
   "execution_count": 8,
   "metadata": {},
   "outputs": [
    {
     "data": {
      "image/png": "[encoded data removed]",
      "text/plain": [
       "<Figure size 1440x576 with 2 Axes>"
      ]
     },
     "metadata": {
      "needs_background": "light"
     },
     "output_type": "display_data"
    }
   ],
   "source": [
    "neurox_indmiss = pd.read_csv(\n",
    "    os.path.join(neurox_path, \"NEUROX.imiss\"),\n",
    "    sep = \"\\s+\"\n",
    ")\n",
    "neurox_snpmiss = pd.read_csv(\n",
    "    os.path.join(neurox_path, \"NEUROX.lmiss\"),\n",
    "    sep = \"\\s+\"\n",
    ")\n",
    "\n",
    "f, axes = plt.subplots(1,2, figsize=(20,8))\n",
    "n, bins, patches = axes[0].hist(\n",
    "    neurox_indmiss.F_MISS.tolist(), \n",
    "    50,\n",
    "    facecolor=\"blue\", \n",
    "    alpha=0.75\n",
    ")\n",
    "axes[0].set_xlabel(\"Missingness frequency\", size=14)\n",
    "axes[0].set_ylabel(\"Counts\", size=14)\n",
    "axes[0].set_title(\"Histogram of individual missingness\", size=16)\n",
    "n, bins, patches = axes[1].hist(\n",
    "    neurox_snpmiss.F_MISS.tolist(), \n",
    "    50,\n",
    "    facecolor=\"blue\", \n",
    "    alpha=0.75\n",
    ")\n",
    "axes[1].set_xlabel(\"Missingness frequency\", size=14)\n",
    "axes[1].set_ylabel(\"Counts\", size=14)\n",
    "axes[1].set_title(\"Histogram of SNP missingness\", size=16)\n",
    "plt.suptitle(\"NEUROX\", size=24)\n",
    "plt.show()"
   ]
  },
  {
   "cell_type": "code",
   "execution_count": 9,
   "metadata": {},
   "outputs": [
    {
     "name": "stdout",
     "output_type": "stream",
     "text": [
      "PLINK v1.90b6.12 64-bit (28 Oct 2019)          www.cog-genomics.org/plink/1.9/\n",
      "(C) 2005-2019 Shaun Purcell, Christopher Chang   GNU General Public License v3\n",
      "Logging to ../../data/genotyping/IMMUNO/IMMUNO_qc_geno.log.\n",
      "Options in effect:\n",
      "  --bfile ../../data/genotyping/IMMUNO/IMMUNO_hg19\n",
      "  --geno 0.2\n",
      "  --make-bed\n",
      "  --out ../../data/genotyping/IMMUNO/IMMUNO_qc_geno\n",
      "\n",
      "16384 MB RAM detected; reserving 8192 MB for main workspace.\n",
      "196520 variants loaded from .bim file.\n",
      "523 people (343 males, 180 females) loaded from .fam.\n",
      "Using 1 thread (no multithreaded calculations invoked).\n",
      "Before main variant filters, 523 founders and 0 nonfounders present.\n",
      "Calculating allele frequencies... 10111213141516171819202122232425262728293031323334353637383940414243444546474849505152535455565758596061626364656667686970717273747576777879808182838485868788899091929394959697989 done.\n",
      "Warning: 67239 het. haploid genotypes present (see\n",
      "../../data/genotyping/IMMUNO/IMMUNO_qc_geno.hh ); many commands treat these as\n",
      "missing.\n",
      "Warning: Nonmissing nonmale Y chromosome genotype(s) present; many commands\n",
      "treat these as missing.\n",
      "Total genotyping rate is 0.957444.\n",
      "8203 variants removed due to missing genotype data (--geno).\n",
      "188317 variants and 523 people pass filters and QC.\n",
      "Note: No phenotypes present.\n",
      "--make-bed to ../../data/genotyping/IMMUNO/IMMUNO_qc_geno.bed +\n",
      "../../data/genotyping/IMMUNO/IMMUNO_qc_geno.bim +\n",
      "../../data/genotyping/IMMUNO/IMMUNO_qc_geno.fam ... 101112131415161718192021222324252627282930313233343536373839404142434445464748495051525354555657585960616263646566676869707172737475767778798081828384858687888990919293949596979899done.\n",
      "PLINK v1.90b6.12 64-bit (28 Oct 2019)          www.cog-genomics.org/plink/1.9/\n",
      "(C) 2005-2019 Shaun Purcell, Christopher Chang   GNU General Public License v3\n",
      "Logging to ../../data/genotyping/NEUROX/NEUROX_qc_geno.log.\n",
      "Options in effect:\n",
      "  --bfile ../../data/genotyping/NEUROX/NEUROX\n",
      "  --geno 0.2\n",
      "  --make-bed\n",
      "  --out ../../data/genotyping/NEUROX/NEUROX_qc_geno\n",
      "\n",
      "16384 MB RAM detected; reserving 8192 MB for main workspace.\n",
      "267607 variants loaded from .bim file.\n",
      "619 people (409 males, 210 females) loaded from .fam.\n",
      "Using 1 thread (no multithreaded calculations invoked).\n",
      "Before main variant filters, 619 founders and 0 nonfounders present.\n",
      "Calculating allele frequencies... 10111213141516171819202122232425262728293031323334353637383940414243444546474849505152535455565758596061626364656667686970717273747576777879808182838485868788899091929394959697989 done.\n",
      "Warning: 5465 het. haploid genotypes present (see\n",
      "../../data/genotyping/NEUROX/NEUROX_qc_geno.hh ); many commands treat these as\n",
      "missing.\n",
      "Warning: Nonmissing nonmale Y chromosome genotype(s) present; many commands\n",
      "treat these as missing.\n",
      "Total genotyping rate is 0.957634.\n",
      "11428 variants removed due to missing genotype data (--geno).\n",
      "256179 variants and 619 people pass filters and QC.\n",
      "Note: No phenotypes present.\n",
      "--make-bed to ../../data/genotyping/NEUROX/NEUROX_qc_geno.bed +\n",
      "../../data/genotyping/NEUROX/NEUROX_qc_geno.bim +\n",
      "../../data/genotyping/NEUROX/NEUROX_qc_geno.fam ... 101112131415161718192021222324252627282930313233343536373839404142434445464748495051525354555657585960616263646566676869707172737475767778798081828384858687888990919293949596979899done.\n"
     ]
    }
   ],
   "source": [
    "!plink --bfile {os.path.join(immuno_path, \"IMMUNO_hg19\")} --geno 0.2 --make-bed --out {os.path.join(immuno_path, \"IMMUNO_qc_geno\")}\n",
    "!plink --bfile {os.path.join(neurox_path, \"NEUROX\")} --geno 0.2 --make-bed --out {os.path.join(neurox_path, \"NEUROX_qc_geno\")}"
   ]
  },
  {
   "cell_type": "code",
   "execution_count": 10,
   "metadata": {},
   "outputs": [
    {
     "name": "stdout",
     "output_type": "stream",
     "text": [
      "PLINK v1.90b6.12 64-bit (28 Oct 2019)          www.cog-genomics.org/plink/1.9/\n",
      "(C) 2005-2019 Shaun Purcell, Christopher Chang   GNU General Public License v3\n",
      "Logging to ../../data/genotyping/IMMUNO/IMMUNO_qc_mind.log.\n",
      "Options in effect:\n",
      "  --bfile ../../data/genotyping/IMMUNO/IMMUNO_qc_geno\n",
      "  --make-bed\n",
      "  --mind 0.2\n",
      "  --out ../../data/genotyping/IMMUNO/IMMUNO_qc_mind\n",
      "\n",
      "16384 MB RAM detected; reserving 8192 MB for main workspace.\n",
      "188317 variants loaded from .bim file.\n",
      "523 people (343 males, 180 females) loaded from .fam.\n",
      "0 people removed due to missing genotype data (--mind).\n",
      "Using 1 thread (no multithreaded calculations invoked).\n",
      "Before main variant filters, 523 founders and 0 nonfounders present.\n",
      "Calculating allele frequencies... 10111213141516171819202122232425262728293031323334353637383940414243444546474849505152535455565758596061626364656667686970717273747576777879808182838485868788899091929394959697989 done.\n",
      "Warning: 63907 het. haploid genotypes present (see\n",
      "../../data/genotyping/IMMUNO/IMMUNO_qc_mind.hh ); many commands treat these as\n",
      "missing.\n",
      "Warning: Nonmissing nonmale Y chromosome genotype(s) present; many commands\n",
      "treat these as missing.\n",
      "Total genotyping rate is 0.994147.\n",
      "188317 variants and 523 people pass filters and QC.\n",
      "Note: No phenotypes present.\n",
      "--make-bed to ../../data/genotyping/IMMUNO/IMMUNO_qc_mind.bed +\n",
      "../../data/genotyping/IMMUNO/IMMUNO_qc_mind.bim +\n",
      "../../data/genotyping/IMMUNO/IMMUNO_qc_mind.fam ... 101112131415161718192021222324252627282930313233343536373839404142434445464748495051525354555657585960616263646566676869707172737475767778798081828384858687888990919293949596979899done.\n",
      "PLINK v1.90b6.12 64-bit (28 Oct 2019)          www.cog-genomics.org/plink/1.9/\n",
      "(C) 2005-2019 Shaun Purcell, Christopher Chang   GNU General Public License v3\n",
      "Logging to ../../data/genotyping/NEUROX/NEUROX_qc_mind.log.\n",
      "Options in effect:\n",
      "  --bfile ../../data/genotyping/NEUROX/NEUROX_qc_geno\n",
      "  --make-bed\n",
      "  --mind 0.2\n",
      "  --out ../../data/genotyping/NEUROX/NEUROX_qc_mind\n",
      "\n",
      "16384 MB RAM detected; reserving 8192 MB for main workspace.\n",
      "256179 variants loaded from .bim file.\n",
      "619 people (409 males, 210 females) loaded from .fam.\n",
      "0 people removed due to missing genotype data (--mind).\n",
      "Using 1 thread (no multithreaded calculations invoked).\n",
      "Before main variant filters, 619 founders and 0 nonfounders present.\n",
      "Calculating allele frequencies... 10111213141516171819202122232425262728293031323334353637383940414243444546474849505152535455565758596061626364656667686970717273747576777879808182838485868788899091929394959697989 done.\n",
      "Warning: 4881 het. haploid genotypes present (see\n",
      "../../data/genotyping/NEUROX/NEUROX_qc_mind.hh ); many commands treat these as\n",
      "missing.\n",
      "Warning: Nonmissing nonmale Y chromosome genotype(s) present; many commands\n",
      "treat these as missing.\n",
      "Total genotyping rate is 0.998862.\n",
      "256179 variants and 619 people pass filters and QC.\n",
      "Note: No phenotypes present.\n",
      "--make-bed to ../../data/genotyping/NEUROX/NEUROX_qc_mind.bed +\n",
      "../../data/genotyping/NEUROX/NEUROX_qc_mind.bim +\n",
      "../../data/genotyping/NEUROX/NEUROX_qc_mind.fam ... 101112131415161718192021222324252627282930313233343536373839404142434445464748495051525354555657585960616263646566676869707172737475767778798081828384858687888990919293949596979899done.\n"
     ]
    }
   ],
   "source": [
    "!plink --bfile {os.path.join(immuno_path, \"IMMUNO_qc_geno\")} --mind 0.2 --make-bed --out {os.path.join(immuno_path, \"IMMUNO_qc_mind\")}\n",
    "!plink --bfile {os.path.join(neurox_path, \"NEUROX_qc_geno\")} --mind 0.2 --make-bed --out {os.path.join(neurox_path, \"NEUROX_qc_mind\")}"
   ]
  },
  {
   "cell_type": "code",
   "execution_count": 11,
   "metadata": {},
   "outputs": [
    {
     "name": "stdout",
     "output_type": "stream",
     "text": [
      "PLINK v1.90b6.12 64-bit (28 Oct 2019)          www.cog-genomics.org/plink/1.9/\n",
      "(C) 2005-2019 Shaun Purcell, Christopher Chang   GNU General Public License v3\n",
      "Logging to ../../data/genotyping/IMMUNO/IMMUNO_qc_geno2.log.\n",
      "Options in effect:\n",
      "  --bfile ../../data/genotyping/IMMUNO/IMMUNO_qc_mind\n",
      "  --geno 0.05\n",
      "  --make-bed\n",
      "  --out ../../data/genotyping/IMMUNO/IMMUNO_qc_geno2\n",
      "\n",
      "16384 MB RAM detected; reserving 8192 MB for main workspace.\n",
      "188317 variants loaded from .bim file.\n",
      "523 people (343 males, 180 females) loaded from .fam.\n",
      "Using 1 thread (no multithreaded calculations invoked).\n",
      "Before main variant filters, 523 founders and 0 nonfounders present.\n",
      "Calculating allele frequencies... 10111213141516171819202122232425262728293031323334353637383940414243444546474849505152535455565758596061626364656667686970717273747576777879808182838485868788899091929394959697989 done.\n",
      "Warning: 63907 het. haploid genotypes present (see\n",
      "../../data/genotyping/IMMUNO/IMMUNO_qc_geno2.hh ); many commands treat these as\n",
      "missing.\n",
      "Warning: Nonmissing nonmale Y chromosome genotype(s) present; many commands\n",
      "treat these as missing.\n",
      "Total genotyping rate is 0.994147.\n",
      "6063 variants removed due to missing genotype data (--geno).\n",
      "182254 variants and 523 people pass filters and QC.\n",
      "Note: No phenotypes present.\n",
      "--make-bed to ../../data/genotyping/IMMUNO/IMMUNO_qc_geno2.bed +\n",
      "../../data/genotyping/IMMUNO/IMMUNO_qc_geno2.bim +\n",
      "../../data/genotyping/IMMUNO/IMMUNO_qc_geno2.fam ... 101112131415161718192021222324252627282930313233343536373839404142434445464748495051525354555657585960616263646566676869707172737475767778798081828384858687888990919293949596979899done.\n",
      "PLINK v1.90b6.12 64-bit (28 Oct 2019)          www.cog-genomics.org/plink/1.9/\n",
      "(C) 2005-2019 Shaun Purcell, Christopher Chang   GNU General Public License v3\n",
      "Logging to ../../data/genotyping/NEUROX/NEUROX_qc_geno2.log.\n",
      "Options in effect:\n",
      "  --bfile ../../data/genotyping/NEUROX/NEUROX_qc_mind\n",
      "  --geno 0.05\n",
      "  --make-bed\n",
      "  --out ../../data/genotyping/NEUROX/NEUROX_qc_geno2\n",
      "\n",
      "16384 MB RAM detected; reserving 8192 MB for main workspace.\n",
      "256179 variants loaded from .bim file.\n",
      "619 people (409 males, 210 females) loaded from .fam.\n",
      "Using 1 thread (no multithreaded calculations invoked).\n",
      "Before main variant filters, 619 founders and 0 nonfounders present.\n",
      "Calculating allele frequencies... 10111213141516171819202122232425262728293031323334353637383940414243444546474849505152535455565758596061626364656667686970717273747576777879808182838485868788899091929394959697989 done.\n",
      "Warning: 4881 het. haploid genotypes present (see\n",
      "../../data/genotyping/NEUROX/NEUROX_qc_geno2.hh ); many commands treat these as\n",
      "missing.\n",
      "Warning: Nonmissing nonmale Y chromosome genotype(s) present; many commands\n",
      "treat these as missing.\n",
      "Total genotyping rate is 0.998862.\n",
      "1290 variants removed due to missing genotype data (--geno).\n",
      "254889 variants and 619 people pass filters and QC.\n",
      "Note: No phenotypes present.\n",
      "--make-bed to ../../data/genotyping/NEUROX/NEUROX_qc_geno2.bed +\n",
      "../../data/genotyping/NEUROX/NEUROX_qc_geno2.bim +\n",
      "../../data/genotyping/NEUROX/NEUROX_qc_geno2.fam ... 101112131415161718192021222324252627282930313233343536373839404142434445464748495051525354555657585960616263646566676869707172737475767778798081828384858687888990919293949596979899done.\n"
     ]
    }
   ],
   "source": [
    "!plink --bfile {os.path.join(immuno_path, \"IMMUNO_qc_mind\")} --geno 0.05 --make-bed --out {os.path.join(immuno_path, \"IMMUNO_qc_geno2\")}\n",
    "!plink --bfile {os.path.join(neurox_path, \"NEUROX_qc_mind\")} --geno 0.05 --make-bed --out {os.path.join(neurox_path, \"NEUROX_qc_geno2\")}"
   ]
  },
  {
   "cell_type": "code",
   "execution_count": 12,
   "metadata": {},
   "outputs": [
    {
     "name": "stdout",
     "output_type": "stream",
     "text": [
      "PLINK v1.90b6.12 64-bit (28 Oct 2019)          www.cog-genomics.org/plink/1.9/\n",
      "(C) 2005-2019 Shaun Purcell, Christopher Chang   GNU General Public License v3\n",
      "Logging to ../../data/genotyping/IMMUNO/IMMUNO_qc_mind2.log.\n",
      "Options in effect:\n",
      "  --bfile ../../data/genotyping/IMMUNO/IMMUNO_qc_geno2\n",
      "  --make-bed\n",
      "  --mind 0.05\n",
      "  --out ../../data/genotyping/IMMUNO/IMMUNO_qc_mind2\n",
      "\n",
      "16384 MB RAM detected; reserving 8192 MB for main workspace.\n",
      "182254 variants loaded from .bim file.\n",
      "523 people (343 males, 180 females) loaded from .fam.\n",
      "0 people removed due to missing genotype data (--mind).\n",
      "Using 1 thread (no multithreaded calculations invoked).\n",
      "Before main variant filters, 523 founders and 0 nonfounders present.\n",
      "Calculating allele frequencies... 10111213141516171819202122232425262728293031323334353637383940414243444546474849505152535455565758596061626364656667686970717273747576777879808182838485868788899091929394959697989 done.\n",
      "Warning: 56215 het. haploid genotypes present (see\n",
      "../../data/genotyping/IMMUNO/IMMUNO_qc_mind2.hh ); many commands treat these as\n",
      "missing.\n",
      "Warning: Nonmissing nonmale Y chromosome genotype(s) present; many commands\n",
      "treat these as missing.\n",
      "Total genotyping rate is 0.997285.\n",
      "182254 variants and 523 people pass filters and QC.\n",
      "Note: No phenotypes present.\n",
      "--make-bed to ../../data/genotyping/IMMUNO/IMMUNO_qc_mind2.bed +\n",
      "../../data/genotyping/IMMUNO/IMMUNO_qc_mind2.bim +\n",
      "../../data/genotyping/IMMUNO/IMMUNO_qc_mind2.fam ... 101112131415161718192021222324252627282930313233343536373839404142434445464748495051525354555657585960616263646566676869707172737475767778798081828384858687888990919293949596979899done.\n",
      "PLINK v1.90b6.12 64-bit (28 Oct 2019)          www.cog-genomics.org/plink/1.9/\n",
      "(C) 2005-2019 Shaun Purcell, Christopher Chang   GNU General Public License v3\n",
      "Logging to ../../data/genotyping/NEUROX/NEUROX_qc_mind2.log.\n",
      "Options in effect:\n",
      "  --bfile ../../data/genotyping/NEUROX/NEUROX_qc_geno2\n",
      "  --make-bed\n",
      "  --mind 0.05\n",
      "  --out ../../data/genotyping/NEUROX/NEUROX_qc_mind2\n",
      "\n",
      "16384 MB RAM detected; reserving 8192 MB for main workspace.\n",
      "254889 variants loaded from .bim file.\n",
      "619 people (409 males, 210 females) loaded from .fam.\n",
      "0 people removed due to missing genotype data (--mind).\n",
      "Using 1 thread (no multithreaded calculations invoked).\n",
      "Before main variant filters, 619 founders and 0 nonfounders present.\n",
      "Calculating allele frequencies... 10111213141516171819202122232425262728293031323334353637383940414243444546474849505152535455565758596061626364656667686970717273747576777879808182838485868788899091929394959697989 done.\n",
      "Warning: 4835 het. haploid genotypes present (see\n",
      "../../data/genotyping/NEUROX/NEUROX_qc_mind2.hh ); many commands treat these as\n",
      "missing.\n",
      "Warning: Nonmissing nonmale Y chromosome genotype(s) present; many commands\n",
      "treat these as missing.\n",
      "Total genotyping rate is 0.999339.\n",
      "254889 variants and 619 people pass filters and QC.\n",
      "Note: No phenotypes present.\n",
      "--make-bed to ../../data/genotyping/NEUROX/NEUROX_qc_mind2.bed +\n",
      "../../data/genotyping/NEUROX/NEUROX_qc_mind2.bim +\n",
      "../../data/genotyping/NEUROX/NEUROX_qc_mind2.fam ... 101112131415161718192021222324252627282930313233343536373839404142434445464748495051525354555657585960616263646566676869707172737475767778798081828384858687888990919293949596979899done.\n"
     ]
    }
   ],
   "source": [
    "!plink --bfile {os.path.join(immuno_path, \"IMMUNO_qc_geno2\")} --mind 0.05 --make-bed --out {os.path.join(immuno_path, \"IMMUNO_qc_mind2\")}\n",
    "!plink --bfile {os.path.join(neurox_path, \"NEUROX_qc_geno2\")} --mind 0.05 --make-bed --out {os.path.join(neurox_path, \"NEUROX_qc_mind2\")}"
   ]
  },
  {
   "cell_type": "markdown",
   "metadata": {},
   "source": [
    "Sex discrepancies"
   ]
  },
  {
   "cell_type": "code",
   "execution_count": 16,
   "metadata": {},
   "outputs": [
    {
     "name": "stdout",
     "output_type": "stream",
     "text": [
      "PLINK v1.90b6.12 64-bit (28 Oct 2019)          www.cog-genomics.org/plink/1.9/\n",
      "(C) 2005-2019 Shaun Purcell, Christopher Chang   GNU General Public License v3\n",
      "Logging to ../../data/genotyping/IMMUNO/IMMUNO_checksex.log.\n",
      "Options in effect:\n",
      "  --bfile ../../data/genotyping/IMMUNO/IMMUNO_qc_mind2\n",
      "  --check-sex\n",
      "  --out ../../data/genotyping/IMMUNO/IMMUNO_checksex\n",
      "\n",
      "16384 MB RAM detected; reserving 8192 MB for main workspace.\n",
      "182254 variants loaded from .bim file.\n",
      "523 people (343 males, 180 females) loaded from .fam.\n",
      "Using 1 thread (no multithreaded calculations invoked).\n",
      "Before main variant filters, 523 founders and 0 nonfounders present.\n",
      "Calculating allele frequencies... 10111213141516171819202122232425262728293031323334353637383940414243444546474849505152535455565758596061626364656667686970717273747576777879808182838485868788899091929394959697989 done.\n",
      "Warning: 56215 het. haploid genotypes present (see\n",
      "../../data/genotyping/IMMUNO/IMMUNO_checksex.hh ); many commands treat these as\n",
      "missing.\n",
      "Warning: Nonmissing nonmale Y chromosome genotype(s) present; many commands\n",
      "treat these as missing.\n",
      "Total genotyping rate is 0.997285.\n",
      "182254 variants and 523 people pass filters and QC.\n",
      "Note: No phenotypes present.\n",
      "--check-sex: 1115 Xchr and 0 Ychr variant(s) scanned, 31 problems detected.\n",
      "Report written to ../../data/genotyping/IMMUNO/IMMUNO_checksex.sexcheck .\n",
      "PLINK v1.90b6.12 64-bit (28 Oct 2019)          www.cog-genomics.org/plink/1.9/\n",
      "(C) 2005-2019 Shaun Purcell, Christopher Chang   GNU General Public License v3\n",
      "Logging to ../../data/genotyping/NEUROX/NEUROX_checksex.log.\n",
      "Options in effect:\n",
      "  --bfile ../../data/genotyping/NEUROX/NEUROX_qc_mind2\n",
      "  --check-sex\n",
      "  --out ../../data/genotyping/NEUROX/NEUROX_checksex\n",
      "\n",
      "16384 MB RAM detected; reserving 8192 MB for main workspace.\n",
      "254889 variants loaded from .bim file.\n",
      "619 people (409 males, 210 females) loaded from .fam.\n",
      "Using 1 thread (no multithreaded calculations invoked).\n",
      "Before main variant filters, 619 founders and 0 nonfounders present.\n",
      "Calculating allele frequencies... 10111213141516171819202122232425262728293031323334353637383940414243444546474849505152535455565758596061626364656667686970717273747576777879808182838485868788899091929394959697989 done.\n",
      "Warning: 4835 het. haploid genotypes present (see\n",
      "../../data/genotyping/NEUROX/NEUROX_checksex.hh ); many commands treat these as\n",
      "missing.\n",
      "Warning: Nonmissing nonmale Y chromosome genotype(s) present; many commands\n",
      "treat these as missing.\n",
      "Total genotyping rate is 0.999339.\n",
      "254889 variants and 619 people pass filters and QC.\n",
      "Note: No phenotypes present.\n",
      "--check-sex: 2039 Xchr and 0 Ychr variant(s) scanned, 12 problems detected.\n",
      "Report written to ../../data/genotyping/NEUROX/NEUROX_checksex.sexcheck .\n"
     ]
    }
   ],
   "source": [
    "!plink --bfile {os.path.join(immuno_path, \"IMMUNO_qc_mind2\")} --check-sex --out {os.path.join(immuno_path, \"IMMUNO_checksex\")}\n",
    "!plink --bfile {os.path.join(neurox_path, \"NEUROX_qc_mind2\")} --check-sex --out {os.path.join(neurox_path, \"NEUROX_checksex\")}"
   ]
  },
  {
   "cell_type": "code",
   "execution_count": 44,
   "metadata": {},
   "outputs": [
    {
     "data": {
      "text/plain": [
       "[[Text(0, 0, 'Males'), Text(0, 0, 'Females')]]"
      ]
     },
     "execution_count": 44,
     "metadata": {},
     "output_type": "execute_result"
    },
    {
     "data": {
      "image/png": "[encoded data removed]",
      "text/plain": [
       "<Figure size 576x576 with 1 Axes>"
      ]
     },
     "metadata": {
      "needs_background": "light"
     },
     "output_type": "display_data"
    }
   ],
   "source": [
    "immuno_checksex = pd.read_csv(\n",
    "    os.path.join(immuno_path, \"IMMUNO_checksex.sexcheck\"),\n",
    "    sep=\"\\s+\"\n",
    ")\n",
    "\n",
    "plt.figure(figsize=(8,8))\n",
    "p = sns.boxplot(data=immuno_checksex, x=\"PEDSEX\", y=\"F\")  # males should have F > 0.8 and females < 0.2\n",
    "plt.xlabel(\"Gender\", size=14)\n",
    "plt.ylabel(\"F value\", size=14)\n",
    "plt.title(\"IMMUNO F score\", size=16)\n",
    "p.set(xticklabels=[\"Males\", \"Females\"])"
   ]
  },
  {
   "cell_type": "code",
   "execution_count": 38,
   "metadata": {},
   "outputs": [
    {
     "data": {
      "text/plain": [
       "True"
      ]
     },
     "execution_count": 38,
     "metadata": {},
     "output_type": "execute_result"
    }
   ],
   "source": [
    "np.all(np.array(immuno_checksex[immuno_checksex.STATUS == \"PROBLEM\"].PEDSEX.tolist()) == 2)  # problems all females: expected!"
   ]
  },
  {
   "cell_type": "code",
   "execution_count": 41,
   "metadata": {},
   "outputs": [
    {
     "name": "stdout",
     "output_type": "stream",
     "text": [
      "PLINK v1.90b6.12 64-bit (28 Oct 2019)          www.cog-genomics.org/plink/1.9/\n",
      "(C) 2005-2019 Shaun Purcell, Christopher Chang   GNU General Public License v3\n",
      "Logging to ../../data/genotyping/IMMUNO/IMMUNO_qc_subjs.log.\n",
      "Options in effect:\n",
      "  --bfile ../../data/genotyping/IMMUNO/IMMUNO_qc_mind2\n",
      "  --make-bed\n",
      "  --out ../../data/genotyping/IMMUNO/IMMUNO_qc_subjs\n",
      "  --remove ../../data/genotyping/IMMUNO/subjs_toremove.txt\n",
      "\n",
      "16384 MB RAM detected; reserving 8192 MB for main workspace.\n",
      "182254 variants loaded from .bim file.\n",
      "523 people (343 males, 180 females) loaded from .fam.\n",
      "--remove: 492 people remaining.\n",
      "Using 1 thread (no multithreaded calculations invoked).\n",
      "Before main variant filters, 492 founders and 0 nonfounders present.\n",
      "Calculating allele frequencies... 10111213141516171819202122232425262728293031323334353637383940414243444546474849505152535455565758596061626364656667686970717273747576777879808182838485868788899091929394959697989 done.\n",
      "Warning: 56215 het. haploid genotypes present (see\n",
      "../../data/genotyping/IMMUNO/IMMUNO_qc_subjs.hh ); many commands treat these as\n",
      "missing.\n",
      "Warning: Nonmissing nonmale Y chromosome genotype(s) present; many commands\n",
      "treat these as missing.\n",
      "Total genotyping rate in remaining samples is 0.997236.\n",
      "182254 variants and 492 people pass filters and QC.\n",
      "Note: No phenotypes present.\n",
      "--make-bed to ../../data/genotyping/IMMUNO/IMMUNO_qc_subjs.bed +\n",
      "../../data/genotyping/IMMUNO/IMMUNO_qc_subjs.bim +\n",
      "../../data/genotyping/IMMUNO/IMMUNO_qc_subjs.fam ... 101112131415161718192021222324252627282930313233343536373839404142434445464748495051525354555657585960616263646566676869707172737475767778798081828384858687888990919293949596979899done.\n"
     ]
    }
   ],
   "source": [
    "immuno_checksex[immuno_checksex.STATUS == \"PROBLEM\"].iloc[:,0:2].to_csv(\n",
    "    os.path.join(immuno_path, \"subjs_toremove.txt\"),\n",
    "    sep=\" \",\n",
    "    index=False\n",
    ")\n",
    "!plink --bfile {os.path.join(immuno_path, \"IMMUNO_qc_mind2\")} --remove {os.path.join(immuno_path, \"subjs_toremove.txt\")} --make-bed --out {os.path.join(immuno_path, \"IMMUNO_qc_subjs\")}"
   ]
  },
  {
   "cell_type": "code",
   "execution_count": 45,
   "metadata": {},
   "outputs": [
    {
     "data": {
      "text/plain": [
       "[[Text(0, 0, 'Males'), Text(0, 0, 'Females')]]"
      ]
     },
     "execution_count": 45,
     "metadata": {},
     "output_type": "execute_result"
    },
    {
     "data": {
      "image/png": "[encoded data removed]",
      "text/plain": [
       "<Figure size 576x576 with 1 Axes>"
      ]
     },
     "metadata": {
      "needs_background": "light"
     },
     "output_type": "display_data"
    }
   ],
   "source": [
    "neurox_checksex = pd.read_csv(\n",
    "    os.path.join(neurox_path, \"NEUROX_checksex.sexcheck\"),\n",
    "    sep=\"\\s+\"\n",
    ")\n",
    "\n",
    "plt.figure(figsize=(8,8))\n",
    "p = sns.boxplot(data=neurox_checksex, x=\"PEDSEX\", y=\"F\")  # males should have F > 0.8 and females < 0.2\n",
    "plt.xlabel(\"Gender\", size=14)\n",
    "plt.ylabel(\"F value\", size=14)\n",
    "plt.title(\"NEUROX F score\", size=16)\n",
    "p.set(xticklabels=[\"Males\", \"Females\"])"
   ]
  },
  {
   "cell_type": "code",
   "execution_count": 46,
   "metadata": {},
   "outputs": [
    {
     "data": {
      "text/plain": [
       "False"
      ]
     },
     "execution_count": 46,
     "metadata": {},
     "output_type": "execute_result"
    }
   ],
   "source": [
    "np.all(np.array(neurox_checksex[neurox_checksex.STATUS == \"PROBLEM\"].PEDSEX.tolist()) == 2)  # problems all females: expected!"
   ]
  },
  {
   "cell_type": "code",
   "execution_count": 47,
   "metadata": {},
   "outputs": [
    {
     "name": "stdout",
     "output_type": "stream",
     "text": [
      "PLINK v1.90b6.12 64-bit (28 Oct 2019)          www.cog-genomics.org/plink/1.9/\n",
      "(C) 2005-2019 Shaun Purcell, Christopher Chang   GNU General Public License v3\n",
      "Logging to ../../data/genotyping/NEUROX/NEUROX_qc_subjs.log.\n",
      "Options in effect:\n",
      "  --bfile ../../data/genotyping/NEUROX/NEUROX_qc_mind2\n",
      "  --make-bed\n",
      "  --out ../../data/genotyping/NEUROX/NEUROX_qc_subjs\n",
      "  --remove ../../data/genotyping/NEUROX/subjs_toremove.txt\n",
      "\n",
      "16384 MB RAM detected; reserving 8192 MB for main workspace.\n",
      "254889 variants loaded from .bim file.\n",
      "619 people (409 males, 210 females) loaded from .fam.\n",
      "--remove: 607 people remaining.\n",
      "Using 1 thread (no multithreaded calculations invoked).\n",
      "Before main variant filters, 607 founders and 0 nonfounders present.\n",
      "Calculating allele frequencies... 10111213141516171819202122232425262728293031323334353637383940414243444546474849505152535455565758596061626364656667686970717273747576777879808182838485868788899091929394959697989 done.\n",
      "Warning: 4487 het. haploid genotypes present (see\n",
      "../../data/genotyping/NEUROX/NEUROX_qc_subjs.hh ); many commands treat these as\n",
      "missing.\n",
      "Warning: Nonmissing nonmale Y chromosome genotype(s) present; many commands\n",
      "treat these as missing.\n",
      "Total genotyping rate in remaining samples is 0.999329.\n",
      "254889 variants and 607 people pass filters and QC.\n",
      "Note: No phenotypes present.\n",
      "--make-bed to ../../data/genotyping/NEUROX/NEUROX_qc_subjs.bed +\n",
      "../../data/genotyping/NEUROX/NEUROX_qc_subjs.bim +\n",
      "../../data/genotyping/NEUROX/NEUROX_qc_subjs.fam ... 101112131415161718192021222324252627282930313233343536373839404142434445464748495051525354555657585960616263646566676869707172737475767778798081828384858687888990919293949596979899done.\n"
     ]
    }
   ],
   "source": [
    "neurox_checksex[neurox_checksex.STATUS == \"PROBLEM\"].iloc[:,0:2].to_csv(\n",
    "    os.path.join(neurox_path, \"subjs_toremove.txt\"),\n",
    "    sep=\" \",\n",
    "    index=False\n",
    ")\n",
    "!plink --bfile {os.path.join(neurox_path, \"NEUROX_qc_mind2\")} --remove {os.path.join(neurox_path, \"subjs_toremove.txt\")} --make-bed --out {os.path.join(neurox_path, \"NEUROX_qc_subjs\")}"
   ]
  },
  {
   "cell_type": "markdown",
   "metadata": {},
   "source": [
    "MAF"
   ]
  },
  {
   "cell_type": "code",
   "execution_count": 48,
   "metadata": {},
   "outputs": [
    {
     "name": "stdout",
     "output_type": "stream",
     "text": [
      "PLINK v1.90b6.12 64-bit (28 Oct 2019)          www.cog-genomics.org/plink/1.9/\n",
      "(C) 2005-2019 Shaun Purcell, Christopher Chang   GNU General Public License v3\n",
      "Logging to ../../data/genotyping/IMMUNO/IMMUNO_auto.log.\n",
      "Options in effect:\n",
      "  --autosome\n",
      "  --bfile ../../data/genotyping/IMMUNO/IMMUNO_qc_subjs\n",
      "  --make-bed\n",
      "  --out ../../data/genotyping/IMMUNO/IMMUNO_auto\n",
      "\n",
      "16384 MB RAM detected; reserving 8192 MB for main workspace.\n",
      "178767 out of 182254 variants loaded from .bim file.\n",
      "492 people (343 males, 149 females) loaded from .fam.\n",
      "Using 1 thread (no multithreaded calculations invoked).\n",
      "Before main variant filters, 492 founders and 0 nonfounders present.\n",
      "Calculating allele frequencies... 10111213141516171819202122232425262728293031323334353637383940414243444546474849505152535455565758596061626364656667686970717273747576777879808182838485868788899091929394959697989 done.\n",
      "Total genotyping rate is 0.997279.\n",
      "178767 variants and 492 people pass filters and QC.\n",
      "Note: No phenotypes present.\n",
      "--make-bed to ../../data/genotyping/IMMUNO/IMMUNO_auto.bed +\n",
      "../../data/genotyping/IMMUNO/IMMUNO_auto.bim +\n",
      "../../data/genotyping/IMMUNO/IMMUNO_auto.fam ... 101112131415161718192021222324252627282930313233343536373839404142434445464748495051525354555657585960616263646566676869707172737475767778798081828384858687888990919293949596979899done.\n",
      "PLINK v1.90b6.12 64-bit (28 Oct 2019)          www.cog-genomics.org/plink/1.9/\n",
      "(C) 2005-2019 Shaun Purcell, Christopher Chang   GNU General Public License v3\n",
      "Logging to ../../data/genotyping/NEUROX/NEUROX_auto.log.\n",
      "Options in effect:\n",
      "  --autosome\n",
      "  --bfile ../../data/genotyping/NEUROX/NEUROX_qc_subjs\n",
      "  --make-bed\n",
      "  --out ../../data/genotyping/NEUROX/NEUROX_auto\n",
      "\n",
      "16384 MB RAM detected; reserving 8192 MB for main workspace.\n",
      "249384 out of 254889 variants loaded from .bim file.\n",
      "607 people (402 males, 205 females) loaded from .fam.\n",
      "Using 1 thread (no multithreaded calculations invoked).\n",
      "Before main variant filters, 607 founders and 0 nonfounders present.\n",
      "Calculating allele frequencies... 10111213141516171819202122232425262728293031323334353637383940414243444546474849505152535455565758596061626364656667686970717273747576777879808182838485868788899091929394959697989 done.\n",
      "Total genotyping rate is 0.99934.\n",
      "249384 variants and 607 people pass filters and QC.\n",
      "Note: No phenotypes present.\n",
      "--make-bed to ../../data/genotyping/NEUROX/NEUROX_auto.bed +\n",
      "../../data/genotyping/NEUROX/NEUROX_auto.bim +\n",
      "../../data/genotyping/NEUROX/NEUROX_auto.fam ... 101112131415161718192021222324252627282930313233343536373839404142434445464748495051525354555657585960616263646566676869707172737475767778798081828384858687888990919293949596979899done.\n"
     ]
    }
   ],
   "source": [
    "!plink --bfile {os.path.join(immuno_path, \"IMMUNO_qc_subjs\")} --autosome --make-bed --out {os.path.join(immuno_path, \"IMMUNO_auto\")}\n",
    "!plink --bfile {os.path.join(neurox_path, \"NEUROX_qc_subjs\")} --autosome --make-bed --out {os.path.join(neurox_path, \"NEUROX_auto\")}"
   ]
  },
  {
   "cell_type": "code",
   "execution_count": 49,
   "metadata": {},
   "outputs": [
    {
     "name": "stdout",
     "output_type": "stream",
     "text": [
      "PLINK v1.90b6.12 64-bit (28 Oct 2019)          www.cog-genomics.org/plink/1.9/\n",
      "(C) 2005-2019 Shaun Purcell, Christopher Chang   GNU General Public License v3\n",
      "Logging to ../../data/genotyping/IMMUNO/IMMUNO_freq.log.\n",
      "Options in effect:\n",
      "  --bfile ../../data/genotyping/IMMUNO/IMMUNO_auto\n",
      "  --freq\n",
      "  --out ../../data/genotyping/IMMUNO/IMMUNO_freq\n",
      "\n",
      "16384 MB RAM detected; reserving 8192 MB for main workspace.\n",
      "178767 variants loaded from .bim file.\n",
      "492 people (343 males, 149 females) loaded from .fam.\n",
      "Using 1 thread (no multithreaded calculations invoked).\n",
      "Before main variant filters, 492 founders and 0 nonfounders present.\n",
      "Calculating allele frequencies... 10111213141516171819202122232425262728293031323334353637383940414243444546474849505152535455565758596061626364656667686970717273747576777879808182838485868788899091929394959697989 done.\n",
      "Total genotyping rate is 0.997279.\n",
      "--freq: Allele frequencies (founders only) written to\n",
      "../../data/genotyping/IMMUNO/IMMUNO_freq.frq .\n",
      "PLINK v1.90b6.12 64-bit (28 Oct 2019)          www.cog-genomics.org/plink/1.9/\n",
      "(C) 2005-2019 Shaun Purcell, Christopher Chang   GNU General Public License v3\n",
      "Logging to ../../data/genotyping/NEUROX/NEUROX_freq.log.\n",
      "Options in effect:\n",
      "  --bfile ../../data/genotyping/NEUROX/NEUROX_auto\n",
      "  --freq\n",
      "  --out ../../data/genotyping/NEUROX/NEUROX_freq\n",
      "\n",
      "16384 MB RAM detected; reserving 8192 MB for main workspace.\n",
      "249384 variants loaded from .bim file.\n",
      "607 people (402 males, 205 females) loaded from .fam.\n",
      "Using 1 thread (no multithreaded calculations invoked).\n",
      "Before main variant filters, 607 founders and 0 nonfounders present.\n",
      "Calculating allele frequencies... 10111213141516171819202122232425262728293031323334353637383940414243444546474849505152535455565758596061626364656667686970717273747576777879808182838485868788899091929394959697989 done.\n",
      "Total genotyping rate is 0.99934.\n",
      "--freq: Allele frequencies (founders only) written to\n",
      "../../data/genotyping/NEUROX/NEUROX_freq.frq .\n"
     ]
    }
   ],
   "source": [
    "!plink --bfile {os.path.join(immuno_path, \"IMMUNO_auto\")} --freq --out {os.path.join(immuno_path, \"IMMUNO_freq\")}\n",
    "!plink --bfile {os.path.join(neurox_path, \"NEUROX_auto\")} --freq --out {os.path.join(neurox_path, \"NEUROX_freq\")}"
   ]
  },
  {
   "cell_type": "code",
   "execution_count": 52,
   "metadata": {},
   "outputs": [
    {
     "data": {
      "text/plain": [
       "Text(0.5, 1.0, 'Histogram of MAF (IMMUNO)')"
      ]
     },
     "execution_count": 52,
     "metadata": {},
     "output_type": "execute_result"
    },
    {
     "data": {
      "image/png": "[encoded data removed]",
      "text/plain": [
       "<Figure size 576x576 with 1 Axes>"
      ]
     },
     "metadata": {
      "needs_background": "light"
     },
     "output_type": "display_data"
    }
   ],
   "source": [
    "immuno_freq = pd.read_csv(\n",
    "    os.path.join(immuno_path, \"IMMUNO_freq.frq\"),\n",
    "    sep=\"\\s+\"\n",
    ")\n",
    "\n",
    "plt.figure(figsize=(8,8))\n",
    "n, bins, patches = plt.hist(\n",
    "    immuno_freq.MAF.tolist(), \n",
    "    50,\n",
    "    facecolor=\"blue\", \n",
    "    alpha=0.75\n",
    ")\n",
    "plt.xlabel(\"MAF\", size=14)\n",
    "plt.ylabel(\"Counts\", size=14)\n",
    "plt.title(\"Histogram of MAF (IMMUNO)\", size=16)"
   ]
  },
  {
   "cell_type": "code",
   "execution_count": 53,
   "metadata": {},
   "outputs": [
    {
     "data": {
      "text/plain": [
       "Text(0.5, 1.0, 'Histogram of MAF (NEUROX)')"
      ]
     },
     "execution_count": 53,
     "metadata": {},
     "output_type": "execute_result"
    },
    {
     "data": {
      "image/png": "[encoded data removed]",
      "text/plain": [
       "<Figure size 576x576 with 1 Axes>"
      ]
     },
     "metadata": {
      "needs_background": "light"
     },
     "output_type": "display_data"
    }
   ],
   "source": [
    "neurox_freq = pd.read_csv(\n",
    "    os.path.join(neurox_path, \"NEUROX_freq.frq\"),\n",
    "    sep=\"\\s+\"\n",
    ")\n",
    "\n",
    "plt.figure(figsize=(8,8))\n",
    "n, bins, patches = plt.hist(\n",
    "    neurox_freq.MAF.tolist(), \n",
    "    50,\n",
    "    facecolor=\"blue\", \n",
    "    alpha=0.75\n",
    ")\n",
    "plt.xlabel(\"MAF\", size=14)\n",
    "plt.ylabel(\"Counts\", size=14)\n",
    "plt.title(\"Histogram of MAF (NEUROX)\", size=16)"
   ]
  },
  {
   "cell_type": "code",
   "execution_count": 57,
   "metadata": {},
   "outputs": [
    {
     "name": "stdout",
     "output_type": "stream",
     "text": [
      "PLINK v1.90b6.12 64-bit (28 Oct 2019)          www.cog-genomics.org/plink/1.9/\n",
      "(C) 2005-2019 Shaun Purcell, Christopher Chang   GNU General Public License v3\n",
      "Logging to ../../data/genotyping/IMMUNO/IMMUNO_maf.log.\n",
      "Options in effect:\n",
      "  --bfile ../../data/genotyping/IMMUNO/IMMUNO_auto\n",
      "  --maf 0.001\n",
      "  --make-bed\n",
      "  --out ../../data/genotyping/IMMUNO/IMMUNO_maf\n",
      "\n",
      "16384 MB RAM detected; reserving 8192 MB for main workspace.\n",
      "178767 variants loaded from .bim file.\n",
      "492 people (343 males, 149 females) loaded from .fam.\n",
      "Using 1 thread (no multithreaded calculations invoked).\n",
      "Before main variant filters, 492 founders and 0 nonfounders present.\n",
      "Calculating allele frequencies... 10111213141516171819202122232425262728293031323334353637383940414243444546474849505152535455565758596061626364656667686970717273747576777879808182838485868788899091929394959697989 done.\n",
      "Total genotyping rate is 0.997279.\n",
      "22957 variants removed due to minor allele threshold(s)\n",
      "(--maf/--max-maf/--mac/--max-mac).\n",
      "155810 variants and 492 people pass filters and QC.\n",
      "Note: No phenotypes present.\n",
      "--make-bed to ../../data/genotyping/IMMUNO/IMMUNO_maf.bed +\n",
      "../../data/genotyping/IMMUNO/IMMUNO_maf.bim +\n",
      "../../data/genotyping/IMMUNO/IMMUNO_maf.fam ... 101112131415161718192021222324252627282930313233343536373839404142434445464748495051525354555657585960616263646566676869707172737475767778798081828384858687888990919293949596979899done.\n",
      "PLINK v1.90b6.12 64-bit (28 Oct 2019)          www.cog-genomics.org/plink/1.9/\n",
      "(C) 2005-2019 Shaun Purcell, Christopher Chang   GNU General Public License v3\n",
      "Logging to ../../data/genotyping/NEUROX/NEUROX_maf.log.\n",
      "Options in effect:\n",
      "  --bfile ../../data/genotyping/NEUROX/NEUROX_auto\n",
      "  --maf 0.001\n",
      "  --make-bed\n",
      "  --out ../../data/genotyping/NEUROX/NEUROX_maf\n",
      "\n",
      "16384 MB RAM detected; reserving 8192 MB for main workspace.\n",
      "249384 variants loaded from .bim file.\n",
      "607 people (402 males, 205 females) loaded from .fam.\n",
      "Using 1 thread (no multithreaded calculations invoked).\n",
      "Before main variant filters, 607 founders and 0 nonfounders present.\n",
      "Calculating allele frequencies... 10111213141516171819202122232425262728293031323334353637383940414243444546474849505152535455565758596061626364656667686970717273747576777879808182838485868788899091929394959697989 done.\n",
      "Total genotyping rate is 0.99934.\n",
      "171729 variants removed due to minor allele threshold(s)\n",
      "(--maf/--max-maf/--mac/--max-mac).\n",
      "77655 variants and 607 people pass filters and QC.\n",
      "Note: No phenotypes present.\n",
      "--make-bed to ../../data/genotyping/NEUROX/NEUROX_maf.bed +\n",
      "../../data/genotyping/NEUROX/NEUROX_maf.bim +\n",
      "../../data/genotyping/NEUROX/NEUROX_maf.fam ... 101112131415161718192021222324252627282930313233343536373839404142434445464748495051525354555657585960616263646566676869707172737475767778798081828384858687888990919293949596979899done.\n"
     ]
    }
   ],
   "source": [
    "!plink --bfile {os.path.join(immuno_path, \"IMMUNO_auto\")} --maf 0.001 --make-bed --out {os.path.join(immuno_path, \"IMMUNO_maf\")}\n",
    "!plink --bfile {os.path.join(neurox_path, \"NEUROX_auto\")} --maf 0.001 --make-bed --out {os.path.join(neurox_path, \"NEUROX_maf\")}"
   ]
  },
  {
   "cell_type": "markdown",
   "metadata": {},
   "source": [
    "HWE"
   ]
  },
  {
   "cell_type": "code",
   "execution_count": 58,
   "metadata": {},
   "outputs": [
    {
     "name": "stdout",
     "output_type": "stream",
     "text": [
      "PLINK v1.90b6.12 64-bit (28 Oct 2019)          www.cog-genomics.org/plink/1.9/\n",
      "(C) 2005-2019 Shaun Purcell, Christopher Chang   GNU General Public License v3\n",
      "Logging to ../../data/genotyping/IMMUNO/IMMUNO_hwe.log.\n",
      "Options in effect:\n",
      "  --bfile ../../data/genotyping/IMMUNO/IMMUNO_maf\n",
      "  --hwe 1e-6\n",
      "  --make-bed\n",
      "  --out ../../data/genotyping/IMMUNO/IMMUNO_hwe\n",
      "\n",
      "16384 MB RAM detected; reserving 8192 MB for main workspace.\n",
      "155810 variants loaded from .bim file.\n",
      "492 people (343 males, 149 females) loaded from .fam.\n",
      "Using 1 thread (no multithreaded calculations invoked).\n",
      "Before main variant filters, 492 founders and 0 nonfounders present.\n",
      "Calculating allele frequencies... 10111213141516171819202122232425262728293031323334353637383940414243444546474849505152535455565758596061626364656667686970717273747576777879808182838485868788899091929394959697989 done.\n",
      "Total genotyping rate is 0.997229.\n",
      "--hwe: 177 variants removed due to Hardy-Weinberg exact test.\n",
      "155633 variants and 492 people pass filters and QC.\n",
      "Note: No phenotypes present.\n",
      "--make-bed to ../../data/genotyping/IMMUNO/IMMUNO_hwe.bed +\n",
      "../../data/genotyping/IMMUNO/IMMUNO_hwe.bim +\n",
      "../../data/genotyping/IMMUNO/IMMUNO_hwe.fam ... 101112131415161718192021222324252627282930313233343536373839404142434445464748495051525354555657585960616263646566676869707172737475767778798081828384858687888990919293949596979899done.\n",
      "PLINK v1.90b6.12 64-bit (28 Oct 2019)          www.cog-genomics.org/plink/1.9/\n",
      "(C) 2005-2019 Shaun Purcell, Christopher Chang   GNU General Public License v3\n",
      "Logging to ../../data/genotyping/NEUROX/NEUROX_hwe.log.\n",
      "Options in effect:\n",
      "  --bfile ../../data/genotyping/NEUROX/NEUROX_maf\n",
      "  --hwe 1e-6\n",
      "  --make-bed\n",
      "  --out ../../data/genotyping/NEUROX/NEUROX_hwe\n",
      "\n",
      "16384 MB RAM detected; reserving 8192 MB for main workspace.\n",
      "77655 variants loaded from .bim file.\n",
      "607 people (402 males, 205 females) loaded from .fam.\n",
      "Using 1 thread (no multithreaded calculations invoked).\n",
      "Before main variant filters, 607 founders and 0 nonfounders present.\n",
      "Calculating allele frequencies... 10111213141516171819202122232425262728293031323334353637383940414243444546474849505152535455565758596061626364656667686970717273747576777879808182838485868788899091929394959697989 done.\n",
      "Total genotyping rate is 0.999163.\n",
      "--hwe: 182 variants removed due to Hardy-Weinberg exact test.\n",
      "77473 variants and 607 people pass filters and QC.\n",
      "Note: No phenotypes present.\n",
      "--make-bed to ../../data/genotyping/NEUROX/NEUROX_hwe.bed +\n",
      "../../data/genotyping/NEUROX/NEUROX_hwe.bim +\n",
      "../../data/genotyping/NEUROX/NEUROX_hwe.fam ... 101112131415161718192021222324252627282930313233343536373839404142434445464748495051525354555657585960616263646566676869707172737475767778798081828384858687888990919293949596979899done.\n"
     ]
    }
   ],
   "source": [
    "!plink --bfile {os.path.join(immuno_path, \"IMMUNO_maf\")} --hwe 1e-6 --make-bed --out {os.path.join(immuno_path, \"IMMUNO_hwe\")}\n",
    "!plink --bfile {os.path.join(neurox_path, \"NEUROX_maf\")} --hwe 1e-6 --make-bed --out {os.path.join(neurox_path, \"NEUROX_hwe\")}"
   ]
  },
  {
   "cell_type": "code",
   "execution_count": null,
   "metadata": {},
   "outputs": [],
   "source": []
  }
 ],
 "metadata": {
  "kernelspec": {
   "display_name": "Python 3",
   "language": "python",
   "name": "python3"
  },
  "language_info": {
   "codemirror_mode": {
    "name": "ipython",
    "version": 3
   },
   "file_extension": ".py",
   "mimetype": "text/x-python",
   "name": "python",
   "nbconvert_exporter": "python",
   "pygments_lexer": "ipython3",
   "version": "3.7.3"
  }
 },
 "nbformat": 4,
 "nbformat_minor": 2
}
