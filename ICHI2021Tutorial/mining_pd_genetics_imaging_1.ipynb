{
 "cells": [
  {
   "cell_type": "markdown",
   "metadata": {},
   "source": [
    "# Mining genetic, transcriptomic and imaging data in Parkinson’s disease - 1 "
   ]
  },
  {
   "cell_type": "code",
   "execution_count": 55,
   "metadata": {},
   "outputs": [],
   "source": [
    "from matplotlib_venn import venn3\n",
    "from scipy.stats import norm\n",
    "\n",
    "import matplotlib.pyplot as plt\n",
    "import seaborn as sns\n",
    "import pandas as pd\n",
    "import numpy as np\n",
    "\n",
    "import subprocess\n",
    "import math\n",
    "import sys\n",
    "import os"
   ]
  },
  {
   "cell_type": "markdown",
   "metadata": {},
   "source": [
    "## Introduction"
   ]
  },
  {
   "cell_type": "markdown",
   "metadata": {},
   "source": [
    "#### Required softwares\n",
    "\n",
    "- Plink (v1.9b)\n",
    "\n",
    "#### Data description\n",
    "PPMI genoptyping data are stored in PLINK file format. They are stored in two genotyping datasets:\n",
    "\n",
    "- IMMUNO\n",
    "\n",
    "- NEUROX\n",
    "\n",
    "IMMUNO dataset targets genetic loci that are known to be associated with major autoimmune and neuroinflammatory diseases. It contains 196,524 genetic variants: 718 indels and 195,806 SNPs. Among these genetic variants, 1920 SNPs replicates PD associated genetic loci.\n",
    "\n",
    "NeuroX dataset targets ~240,000 exonic genomic variants and ~24,000 custom variants, involved in neurological diseases.\n",
    "\n",
    "Both datasets provides 3 files:\n",
    "- BED\n",
    "- BIM\n",
    "- FAM\n",
    "\n",
    "#### PLINK BIM\n",
    "Plink BIM is a text file with no header, and one line per variant with the following six fields:\n",
    "- Chromosome code (either an integer, or 'X'/'Y'/'XY'/'MT'; '0' indicates unknown) or name\n",
    "- Variant identifier\n",
    "- Position in morgans or centimorgans\n",
    "- Base-pair coordinate (1-based)\n",
    "- Allele 1 (usually minor)\n",
    "- Allele 2 (usually major)\n",
    "\n",
    "#### PLINK FAM\n",
    "Plink FAM is a text file with no header, and one line per sample with the following six fields:\n",
    "- Family ID ('FID')\n",
    "- Within-family ID ('IID'; cannot be '0')\n",
    "- Within-family ID of father ('0' if father isn't in dataset)\n",
    "- Within-family ID of mother ('0' if mother isn't in dataset)\n",
    "- Sex code ('1' = male, '2' = female, '0' = unknown)\n",
    "- Phenotype value ('1' = control, '2' = case, '-9'/'0'/non-numeric = missing data if case/control)\n",
    "\n",
    "#### PLINK BED\n",
    "Plink BED file is the primary representation of genotype calls at biallelic variants. It must be accompanied by .bim and .fam files. Plink BED file is binary, its human-readable version is the PED file (for further information see [here](https://www.cog-genomics.org/plink/1.9/formats#ped))."
   ]
  },
  {
   "cell_type": "code",
   "execution_count": 45,
   "metadata": {},
   "outputs": [],
   "source": [
    "genotyping_path = \"data/genotyping/\"\n",
    "pheno_path = \"data/pheno/\"\n",
    "immuno_path = os.path.join(genotyping_path, \"IMMUNO\")\n",
    "neurox_path = os.path.join(genotyping_path, \"NEUROX\")\n",
    "hapmap_path = os.path.join(genotyping_path, \"HapMap3_b37\")"
   ]
  },
  {
   "cell_type": "markdown",
   "metadata": {},
   "source": [
    "## A first glimpse at data"
   ]
  },
  {
   "cell_type": "code",
   "execution_count": 3,
   "metadata": {},
   "outputs": [
    {
     "data": {
      "text/html": [
       "<div>\n",
       "<style scoped>\n",
       "    .dataframe tbody tr th:only-of-type {\n",
       "        vertical-align: middle;\n",
       "    }\n",
       "\n",
       "    .dataframe tbody tr th {\n",
       "        vertical-align: top;\n",
       "    }\n",
       "\n",
       "    .dataframe thead th {\n",
       "        text-align: right;\n",
       "    }\n",
       "</style>\n",
       "<table border=\"1\" class=\"dataframe\">\n",
       "  <thead>\n",
       "    <tr style=\"text-align: right;\">\n",
       "      <th></th>\n",
       "      <th>0</th>\n",
       "      <th>1</th>\n",
       "      <th>2</th>\n",
       "      <th>3</th>\n",
       "      <th>4</th>\n",
       "      <th>5</th>\n",
       "    </tr>\n",
       "  </thead>\n",
       "  <tbody>\n",
       "    <tr>\n",
       "      <th>0</th>\n",
       "      <td>1</td>\n",
       "      <td>imm_1_898835</td>\n",
       "      <td>0</td>\n",
       "      <td>898835</td>\n",
       "      <td>0</td>\n",
       "      <td>A</td>\n",
       "    </tr>\n",
       "    <tr>\n",
       "      <th>1</th>\n",
       "      <td>1</td>\n",
       "      <td>vh_1_1108138</td>\n",
       "      <td>0</td>\n",
       "      <td>1108138</td>\n",
       "      <td>T</td>\n",
       "      <td>C</td>\n",
       "    </tr>\n",
       "    <tr>\n",
       "      <th>2</th>\n",
       "      <td>1</td>\n",
       "      <td>vh_1_1110294</td>\n",
       "      <td>0</td>\n",
       "      <td>1110294</td>\n",
       "      <td>A</td>\n",
       "      <td>G</td>\n",
       "    </tr>\n",
       "    <tr>\n",
       "      <th>3</th>\n",
       "      <td>1</td>\n",
       "      <td>rs9729550</td>\n",
       "      <td>0</td>\n",
       "      <td>1125105</td>\n",
       "      <td>C</td>\n",
       "      <td>A</td>\n",
       "    </tr>\n",
       "    <tr>\n",
       "      <th>4</th>\n",
       "      <td>1</td>\n",
       "      <td>rs1815606</td>\n",
       "      <td>0</td>\n",
       "      <td>1130298</td>\n",
       "      <td>T</td>\n",
       "      <td>G</td>\n",
       "    </tr>\n",
       "  </tbody>\n",
       "</table>\n",
       "</div>"
      ],
      "text/plain": [
       "   0             1  2        3  4  5\n",
       "0  1  imm_1_898835  0   898835  0  A\n",
       "1  1  vh_1_1108138  0  1108138  T  C\n",
       "2  1  vh_1_1110294  0  1110294  A  G\n",
       "3  1     rs9729550  0  1125105  C  A\n",
       "4  1     rs1815606  0  1130298  T  G"
      ]
     },
     "execution_count": 3,
     "metadata": {},
     "output_type": "execute_result"
    }
   ],
   "source": [
    "immuno_bim = pd.read_csv(\n",
    "    os.path.join(immuno_path, \"IMMUNO.bim\"), \n",
    "    header=None,\n",
    "    sep=\"\\t\"\n",
    ")\n",
    "immuno_bim.head()"
   ]
  },
  {
   "cell_type": "code",
   "execution_count": 72,
   "metadata": {},
   "outputs": [
    {
     "data": {
      "text/html": [
       "<div>\n",
       "<style scoped>\n",
       "    .dataframe tbody tr th:only-of-type {\n",
       "        vertical-align: middle;\n",
       "    }\n",
       "\n",
       "    .dataframe tbody tr th {\n",
       "        vertical-align: top;\n",
       "    }\n",
       "\n",
       "    .dataframe thead th {\n",
       "        text-align: right;\n",
       "    }\n",
       "</style>\n",
       "<table border=\"1\" class=\"dataframe\">\n",
       "  <thead>\n",
       "    <tr style=\"text-align: right;\">\n",
       "      <th></th>\n",
       "      <th>0</th>\n",
       "      <th>1</th>\n",
       "      <th>2</th>\n",
       "      <th>3</th>\n",
       "      <th>4</th>\n",
       "      <th>5</th>\n",
       "    </tr>\n",
       "  </thead>\n",
       "  <tbody>\n",
       "    <tr>\n",
       "      <th>267602</th>\n",
       "      <td>26</td>\n",
       "      <td>exm2216497</td>\n",
       "      <td>0</td>\n",
       "      <td>15942</td>\n",
       "      <td>0</td>\n",
       "      <td>T</td>\n",
       "    </tr>\n",
       "    <tr>\n",
       "      <th>267603</th>\n",
       "      <td>26</td>\n",
       "      <td>exm2216498</td>\n",
       "      <td>0</td>\n",
       "      <td>15946</td>\n",
       "      <td>T</td>\n",
       "      <td>C</td>\n",
       "    </tr>\n",
       "    <tr>\n",
       "      <th>267604</th>\n",
       "      <td>26</td>\n",
       "      <td>exm2216499</td>\n",
       "      <td>0</td>\n",
       "      <td>15951</td>\n",
       "      <td>G</td>\n",
       "      <td>A</td>\n",
       "    </tr>\n",
       "    <tr>\n",
       "      <th>267605</th>\n",
       "      <td>26</td>\n",
       "      <td>exm2216500</td>\n",
       "      <td>0</td>\n",
       "      <td>15978</td>\n",
       "      <td>T</td>\n",
       "      <td>C</td>\n",
       "    </tr>\n",
       "    <tr>\n",
       "      <th>267606</th>\n",
       "      <td>26</td>\n",
       "      <td>exm-rs41378955</td>\n",
       "      <td>0</td>\n",
       "      <td>16390</td>\n",
       "      <td>0</td>\n",
       "      <td>0</td>\n",
       "    </tr>\n",
       "  </tbody>\n",
       "</table>\n",
       "</div>"
      ],
      "text/plain": [
       "         0               1  2      3  4  5\n",
       "267602  26      exm2216497  0  15942  0  T\n",
       "267603  26      exm2216498  0  15946  T  C\n",
       "267604  26      exm2216499  0  15951  G  A\n",
       "267605  26      exm2216500  0  15978  T  C\n",
       "267606  26  exm-rs41378955  0  16390  0  0"
      ]
     },
     "execution_count": 72,
     "metadata": {},
     "output_type": "execute_result"
    }
   ],
   "source": [
    "neurox_bim = pd.read_csv(\n",
    "    os.path.join(neurox_path, \"NEUROX.bim\"),\n",
    "    header=None,\n",
    "    sep=\"\\t\"\n",
    ")\n",
    "neurox_bim.tail()"
   ]
  },
  {
   "cell_type": "markdown",
   "metadata": {},
   "source": [
    "IMMUNO variant rs9729550 should be mapped at position 1135242 in hg19 release. <br>\n",
    "If it was mapped on hg18 release it should be mapped at position 1125105. <br>\n",
    "Therefore, IMMUNO SNPs have been mapped on hg18 assembly!\n",
    "\n",
    "Moreover, NEUROX SNPs have been mapped on hg19 release.\n",
    "\n",
    "This means that we need to lift IMMUNO SNPs positions. Let's do it with Plink and UCSC genome browser tools!\n",
    "\n",
    "First, we need to encode IMMUNO's BIM in a format that the UCSC genome browser can understand: UCSC BED format: \n",
    "\n",
    "```chrom start stop name```"
   ]
  },
  {
   "cell_type": "code",
   "execution_count": 5,
   "metadata": {
    "scrolled": true
   },
   "outputs": [
    {
     "name": "stdout",
     "output_type": "stream",
     "text": [
      "      0        3        3             1\n",
      "0  chr1   898835   898836  imm_1_898835\n",
      "1  chr1  1108138  1108139  vh_1_1108138\n",
      "2  chr1  1110294  1110295  vh_1_1110294\n",
      "3  chr1  1125105  1125106     rs9729550\n",
      "4  chr1  1130298  1130299     rs1815606\n",
      "            0          3          3           1\n",
      "196519   chrX  154889906  154889907   rs3093525\n",
      "196520   chrX  154889917  154889918   rs3093526\n",
      "196521   chrX  154892630  154892631   rs2742301\n",
      "196522   chrX  154907376  154907377   rs2981835\n",
      "196523  chrMT       3721       3722  MitoA3721G\n"
     ]
    }
   ],
   "source": [
    "# minimal UCSC BED file requires\n",
    "#\n",
    "# CHROM    START    STOP    FEATURE_ID \n",
    "\n",
    "tmp_chr = immuno_bim.iloc[:,0]  # chromosomes\n",
    "tmp_pos = immuno_bim.iloc[:,3]  # SNP positions\n",
    "tmp_name = immuno_bim.iloc[:,1] # SNP IDs\n",
    "\n",
    "# append 'chr' in front of chromosome numbers (required by liftOver)\n",
    "tmp_chr_str = [''.join([\"chr\", str(c)]) for c in tmp_chr.values]\n",
    "\n",
    "# replace chr23, chr24, chr25 and chr26 with chrX, chrY, chrX and chrMT\n",
    "tmp_chr_str2 = [c.replace('23', 'X') for c in tmp_chr_str]\n",
    "tmp_chr_str3 = [c.replace('24', 'Y') for c in tmp_chr_str2]\n",
    "tmp_chr_str4 = [c.replace('25', 'X') for c in tmp_chr_str3]\n",
    "tmp_chr_str5 = [c.replace('26', 'MT') for c in tmp_chr_str4]\n",
    "\n",
    "# write the resulting UCSC BED file\n",
    "bed = pd.concat(\n",
    "    [pd.DataFrame(tmp_chr_str5), tmp_pos, tmp_pos + 1, tmp_name],\n",
    "    axis=1\n",
    ")\n",
    "print(bed.head(n=5))\n",
    "print(bed.tail(n=5))\n",
    "bed.to_csv(\n",
    "    os.path.join(immuno_path, \"IMMUNO_tolift.bed\"), sep=\"\\t\",\n",
    "    index=False, header=False\n",
    ")"
   ]
  },
  {
   "cell_type": "markdown",
   "metadata": {},
   "source": [
    "Let's now use [LiftOver](http://genome.ucsc.edu/cgi-bin/hgLiftOver) tool from UCSC genome browser to lift IMMUNO SNPs positions from hg18 to hg19 genome release. Some SNPs will not be converted (four), but we can ignore it."
   ]
  },
  {
   "cell_type": "code",
   "execution_count": 6,
   "metadata": {},
   "outputs": [
    {
     "name": "stdout",
     "output_type": "stream",
     "text": [
      "PLINK v1.90b6.12 64-bit (28 Oct 2019)          www.cog-genomics.org/plink/1.9/\n",
      "(C) 2005-2019 Shaun Purcell, Christopher Chang   GNU General Public License v3\n",
      "Logging to data/genotyping/IMMUNO/IMMUNO_hg19.log.\n",
      "Options in effect:\n",
      "  --bfile data/genotyping/IMMUNO/IMMUNO\n",
      "  --extract data/genotyping/IMMUNO/good_snps.txt\n",
      "  --make-bed\n",
      "  --out data/genotyping/IMMUNO/IMMUNO_hg19\n",
      "  --update-map data/genotyping/IMMUNO/IMMUNO_lifted.bed 2 4\n",
      "\n",
      "16384 MB RAM detected; reserving 8192 MB for main workspace.\n",
      "196524 variants loaded from .bim file.\n",
      "523 people (343 males, 180 females) loaded from .fam.\n",
      "--update-map: 196520 values updated.\n",
      "Warning: Base-pair positions are now unsorted!\n",
      "--extract: 196520 variants remaining.\n",
      "Using 1 thread (no multithreaded calculations invoked).\n",
      "Before main variant filters, 523 founders and 0 nonfounders present.\n",
      "Calculating allele frequencies... 10111213141516171819202122232425262728293031323334353637383940414243444546474849505152535455565758596061626364656667686970717273747576777879808182838485868788899091929394959697989 done.\n",
      "Warning: 67239 het. haploid genotypes present (see\n",
      "data/genotyping/IMMUNO/IMMUNO_hg19.hh ); many commands treat these as missing.\n",
      "Warning: Nonmissing nonmale Y chromosome genotype(s) present; many commands\n",
      "treat these as missing.\n",
      "Total genotyping rate is 0.957444.\n",
      "196520 variants and 523 people pass filters and QC.\n",
      "Note: No phenotypes present.\n",
      "--make-bed to data/genotyping/IMMUNO/IMMUNO_hg19.bed +\n",
      "data/genotyping/IMMUNO/IMMUNO_hg19.bim + data/genotyping/IMMUNO/IMMUNO_hg19.fam\n",
      "... 101011111212131314151516161717181819202021212222232324252526262727282829303031313232333334353536363737383839404041414242434344454546464747484849505051515252535354555556565757585859606061616262636364656566666767686869707071717272737374757576767777787879808081818282838384858586868787888889909091919292939394959596969797989899done.\n"
     ]
    }
   ],
   "source": [
    "bed_lifted = pd.read_csv(os.path.join(immuno_path, \"IMMUNO_lifted.bed\"), sep=\"\\t\", header=None)\n",
    "\n",
    "# we keep succesfully mapped SNPs\n",
    "good_snps = bed_lifted.iloc[:,3]\n",
    "good_snps.to_csv(\n",
    "    os.path.join(immuno_path, \"good_snps.txt\"),\n",
    "    index=False, header=False\n",
    ")\n",
    "\n",
    "# call plink from command line\n",
    "!plink --bfile {os.path.join(immuno_path, \"IMMUNO\")} --update-map {os.path.join(immuno_path, \"IMMUNO_lifted.bed\")} 2 4 --make-bed --extract {os.path.join(immuno_path, \"good_snps.txt\")} --out {os.path.join(immuno_path, \"IMMUNO_hg19\")}"
   ]
  },
  {
   "cell_type": "code",
   "execution_count": 13,
   "metadata": {},
   "outputs": [
    {
     "data": {
      "text/html": [
       "<div>\n",
       "<style scoped>\n",
       "    .dataframe tbody tr th:only-of-type {\n",
       "        vertical-align: middle;\n",
       "    }\n",
       "\n",
       "    .dataframe tbody tr th {\n",
       "        vertical-align: top;\n",
       "    }\n",
       "\n",
       "    .dataframe thead th {\n",
       "        text-align: right;\n",
       "    }\n",
       "</style>\n",
       "<table border=\"1\" class=\"dataframe\">\n",
       "  <thead>\n",
       "    <tr style=\"text-align: right;\">\n",
       "      <th></th>\n",
       "      <th>0</th>\n",
       "      <th>1</th>\n",
       "      <th>2</th>\n",
       "      <th>3</th>\n",
       "      <th>4</th>\n",
       "      <th>5</th>\n",
       "    </tr>\n",
       "  </thead>\n",
       "  <tbody>\n",
       "    <tr>\n",
       "      <th>0</th>\n",
       "      <td>1</td>\n",
       "      <td>imm_1_898835</td>\n",
       "      <td>0</td>\n",
       "      <td>908972</td>\n",
       "      <td>0</td>\n",
       "      <td>A</td>\n",
       "    </tr>\n",
       "    <tr>\n",
       "      <th>1</th>\n",
       "      <td>1</td>\n",
       "      <td>vh_1_1108138</td>\n",
       "      <td>0</td>\n",
       "      <td>1118275</td>\n",
       "      <td>T</td>\n",
       "      <td>C</td>\n",
       "    </tr>\n",
       "    <tr>\n",
       "      <th>2</th>\n",
       "      <td>1</td>\n",
       "      <td>vh_1_1110294</td>\n",
       "      <td>0</td>\n",
       "      <td>1120431</td>\n",
       "      <td>A</td>\n",
       "      <td>G</td>\n",
       "    </tr>\n",
       "    <tr>\n",
       "      <th>3</th>\n",
       "      <td>1</td>\n",
       "      <td>rs9729550</td>\n",
       "      <td>0</td>\n",
       "      <td>1135242</td>\n",
       "      <td>C</td>\n",
       "      <td>A</td>\n",
       "    </tr>\n",
       "    <tr>\n",
       "      <th>4</th>\n",
       "      <td>1</td>\n",
       "      <td>rs1815606</td>\n",
       "      <td>0</td>\n",
       "      <td>1140435</td>\n",
       "      <td>T</td>\n",
       "      <td>G</td>\n",
       "    </tr>\n",
       "  </tbody>\n",
       "</table>\n",
       "</div>"
      ],
      "text/plain": [
       "   0             1  2        3  4  5\n",
       "0  1  imm_1_898835  0   908972  0  A\n",
       "1  1  vh_1_1108138  0  1118275  T  C\n",
       "2  1  vh_1_1110294  0  1120431  A  G\n",
       "3  1     rs9729550  0  1135242  C  A\n",
       "4  1     rs1815606  0  1140435  T  G"
      ]
     },
     "execution_count": 13,
     "metadata": {},
     "output_type": "execute_result"
    }
   ],
   "source": [
    "immuno_hg19_bim = pd.read_csv(\n",
    "    os.path.join(immuno_path, \"IMMUNO_hg19.bim\"),\n",
    "    sep=\"\\t\",\n",
    "    header=None\n",
    ")\n",
    "immuno_hg19_bim.head()"
   ]
  },
  {
   "cell_type": "markdown",
   "metadata": {},
   "source": [
    "Now rs9729550 is correctly mapped at position 1135242!"
   ]
  },
  {
   "cell_type": "markdown",
   "metadata": {},
   "source": [
    "Next we will create a single dataset combining IMMUNO and NEUROX datasets. Plink will help us doing this!"
   ]
  },
  {
   "cell_type": "code",
   "execution_count": 9,
   "metadata": {},
   "outputs": [
    {
     "name": "stdout",
     "output_type": "stream",
     "text": [
      "PLINK v1.90b6.12 64-bit (28 Oct 2019)          www.cog-genomics.org/plink/1.9/\n",
      "(C) 2005-2019 Shaun Purcell, Christopher Chang   GNU General Public License v3\n",
      "Logging to data/genotyping/IMMUNO/IMMUNO_common.log.\n",
      "Options in effect:\n",
      "  --bfile data/genotyping/IMMUNO/IMMUNO_hg19\n",
      "  --keep data/genotyping/common_subj.txt\n",
      "  --make-bed\n",
      "  --out data/genotyping/IMMUNO/IMMUNO_common\n",
      "\n",
      "16384 MB RAM detected; reserving 8192 MB for main workspace.\n",
      "196520 variants loaded from .bim file.\n",
      "523 people (343 males, 180 females) loaded from .fam.\n",
      "--keep: 520 people remaining.\n",
      "Using 1 thread (no multithreaded calculations invoked).\n",
      "Before main variant filters, 520 founders and 0 nonfounders present.\n",
      "Calculating allele frequencies... 10111213141516171819202122232425262728293031323334353637383940414243444546474849505152535455565758596061626364656667686970717273747576777879808182838485868788899091929394959697989 done.\n",
      "Warning: 66842 het. haploid genotypes present (see\n",
      "data/genotyping/IMMUNO/IMMUNO_common.hh ); many commands treat these as\n",
      "missing.\n",
      "Warning: Nonmissing nonmale Y chromosome genotype(s) present; many commands\n",
      "treat these as missing.\n",
      "Total genotyping rate in remaining samples is 0.957428.\n",
      "196520 variants and 520 people pass filters and QC.\n",
      "Note: No phenotypes present.\n",
      "--make-bed to data/genotyping/IMMUNO/IMMUNO_common.bed +\n",
      "data/genotyping/IMMUNO/IMMUNO_common.bim +\n",
      "data/genotyping/IMMUNO/IMMUNO_common.fam ... 101112131415161718192021222324252627282930313233343536373839404142434445464748495051525354555657585960616263646566676869707172737475767778798081828384858687888990919293949596979899done.\n",
      "PLINK v1.90b6.12 64-bit (28 Oct 2019)          www.cog-genomics.org/plink/1.9/\n",
      "(C) 2005-2019 Shaun Purcell, Christopher Chang   GNU General Public License v3\n",
      "Logging to data/genotyping/NEUROX/NEUROX_common.log.\n",
      "Options in effect:\n",
      "  --bfile data/genotyping/NEUROX/NEUROX\n",
      "  --keep data/genotyping/common_subj.txt\n",
      "  --make-bed\n",
      "  --out data/genotyping/NEUROX/NEUROX_common\n",
      "\n",
      "16384 MB RAM detected; reserving 8192 MB for main workspace.\n",
      "267607 variants loaded from .bim file.\n",
      "619 people (409 males, 210 females) loaded from .fam.\n",
      "--keep: 520 people remaining.\n",
      "Using 1 thread (no multithreaded calculations invoked).\n",
      "Before main variant filters, 520 founders and 0 nonfounders present.\n",
      "Calculating allele frequencies... 10111213141516171819202122232425262728293031323334353637383940414243444546474849505152535455565758596061626364656667686970717273747576777879808182838485868788899091929394959697989 done.\n",
      "Warning: 4672 het. haploid genotypes present (see\n",
      "data/genotyping/NEUROX/NEUROX_common.hh ); many commands treat these as\n",
      "missing.\n",
      "Warning: Nonmissing nonmale Y chromosome genotype(s) present; many commands\n",
      "treat these as missing.\n",
      "Total genotyping rate in remaining samples is 0.957466.\n",
      "267607 variants and 520 people pass filters and QC.\n",
      "Note: No phenotypes present.\n",
      "--make-bed to data/genotyping/NEUROX/NEUROX_common.bed +\n",
      "data/genotyping/NEUROX/NEUROX_common.bim +\n",
      "data/genotyping/NEUROX/NEUROX_common.fam ... 101112131415161718192021222324252627282930313233343536373839404142434445464748495051525354555657585960616263646566676869707172737475767778798081828384858687888990919293949596979899done.\n"
     ]
    }
   ],
   "source": [
    "immuno_fam = pd.read_csv(\n",
    "    os.path.join(immuno_path, \"IMMUNO_hg19.fam\"), \n",
    "    sep=\" \", \n",
    "    header=None\n",
    ")\n",
    "neurox_fam = pd.read_csv(\n",
    "    os.path.join(neurox_path, \"NEUROX.fam\"), \n",
    "    sep=\" \", \n",
    "    header=None\n",
    ")\n",
    "# recover subjects IDs\n",
    "immuno_subj = immuno_fam.iloc[:,1].tolist()\n",
    "neurox_subj = neurox_fam.iloc[:,1].tolist()\n",
    "\n",
    "# retrieve subjects with data in both IMMUNO and NEUROX \n",
    "common_subj = set(immuno_subj).intersection(set(neurox_subj))\n",
    "\n",
    "# write common subjects to file\n",
    "common_subj_fn = \"data/genotyping/common_subj.txt\"\n",
    "pd.DataFrame(list(zip(common_subj, common_subj)), columns=[\"FID\", \"IID\"]).to_csv(\n",
    "    common_subj_fn,\n",
    "    header=False,\n",
    "    index=False,\n",
    "    sep=\" \"\n",
    ")\n",
    "\n",
    "# call plink on IMMUNO\n",
    "!plink --bfile {os.path.join(immuno_path, \"IMMUNO_hg19\")} --keep {common_subj_fn} --make-bed --out {os.path.join(immuno_path, \"IMMUNO_common\")}\n",
    "# call plink on NEUROX\n",
    "!plink --bfile {os.path.join(neurox_path, \"NEUROX\")} --keep {common_subj_fn} --make-bed --out {os.path.join(neurox_path, \"NEUROX_common\")}"
   ]
  },
  {
   "cell_type": "markdown",
   "metadata": {},
   "source": [
    "IMMUNO and NEUROX SNPs were not named using standard variant IDs (e.g. RsIDs). Therefore, ther can be identical SNPs called with different IDs in the two datasets. <br>\n",
    "To solve this problem we rename each SNP in the two datasets as:<br>\n",
    "```chrom:pos_A1_A2```\n",
    "\n",
    "For simplicity we provide the new BIM, BED and FAM files renamed (```IMMUNO_renamed``` and ```NEUROX_renamed``` files)."
   ]
  },
  {
   "cell_type": "code",
   "execution_count": 20,
   "metadata": {},
   "outputs": [
    {
     "data": {
      "text/html": [
       "<div>\n",
       "<style scoped>\n",
       "    .dataframe tbody tr th:only-of-type {\n",
       "        vertical-align: middle;\n",
       "    }\n",
       "\n",
       "    .dataframe tbody tr th {\n",
       "        vertical-align: top;\n",
       "    }\n",
       "\n",
       "    .dataframe thead th {\n",
       "        text-align: right;\n",
       "    }\n",
       "</style>\n",
       "<table border=\"1\" class=\"dataframe\">\n",
       "  <thead>\n",
       "    <tr style=\"text-align: right;\">\n",
       "      <th></th>\n",
       "      <th>0</th>\n",
       "      <th>1</th>\n",
       "      <th>2</th>\n",
       "      <th>3</th>\n",
       "      <th>4</th>\n",
       "      <th>5</th>\n",
       "    </tr>\n",
       "  </thead>\n",
       "  <tbody>\n",
       "    <tr>\n",
       "      <th>0</th>\n",
       "      <td>1</td>\n",
       "      <td>1:908972_0_A</td>\n",
       "      <td>0</td>\n",
       "      <td>908972</td>\n",
       "      <td>0</td>\n",
       "      <td>A</td>\n",
       "    </tr>\n",
       "    <tr>\n",
       "      <th>1</th>\n",
       "      <td>1</td>\n",
       "      <td>1:1118275_T_C</td>\n",
       "      <td>0</td>\n",
       "      <td>1118275</td>\n",
       "      <td>T</td>\n",
       "      <td>C</td>\n",
       "    </tr>\n",
       "    <tr>\n",
       "      <th>2</th>\n",
       "      <td>1</td>\n",
       "      <td>1:1120431_A_G</td>\n",
       "      <td>0</td>\n",
       "      <td>1120431</td>\n",
       "      <td>A</td>\n",
       "      <td>G</td>\n",
       "    </tr>\n",
       "    <tr>\n",
       "      <th>3</th>\n",
       "      <td>1</td>\n",
       "      <td>1:1135242_C_A</td>\n",
       "      <td>0</td>\n",
       "      <td>1135242</td>\n",
       "      <td>C</td>\n",
       "      <td>A</td>\n",
       "    </tr>\n",
       "    <tr>\n",
       "      <th>4</th>\n",
       "      <td>1</td>\n",
       "      <td>1:1140435_T_G</td>\n",
       "      <td>0</td>\n",
       "      <td>1140435</td>\n",
       "      <td>T</td>\n",
       "      <td>G</td>\n",
       "    </tr>\n",
       "  </tbody>\n",
       "</table>\n",
       "</div>"
      ],
      "text/plain": [
       "   0              1  2        3  4  5\n",
       "0  1   1:908972_0_A  0   908972  0  A\n",
       "1  1  1:1118275_T_C  0  1118275  T  C\n",
       "2  1  1:1120431_A_G  0  1120431  A  G\n",
       "3  1  1:1135242_C_A  0  1135242  C  A\n",
       "4  1  1:1140435_T_G  0  1140435  T  G"
      ]
     },
     "execution_count": 20,
     "metadata": {},
     "output_type": "execute_result"
    }
   ],
   "source": [
    "immuno_bim = pd.read_csv(\n",
    "    os.path.join(immuno_path, \"IMMUNO_renamed.bim\"),\n",
    "    sep=\"\\t\",\n",
    "    header=None\n",
    ")\n",
    "immuno_bim.head()"
   ]
  },
  {
   "cell_type": "code",
   "execution_count": 23,
   "metadata": {},
   "outputs": [
    {
     "name": "stdout",
     "output_type": "stream",
     "text": [
      "PLINK v1.90b6.12 64-bit (28 Oct 2019)          www.cog-genomics.org/plink/1.9/\n",
      "(C) 2005-2019 Shaun Purcell, Christopher Chang   GNU General Public License v3\n",
      "Logging to data/genotyping/IMMUNO/IMMUNO_uniquesnps.log.\n",
      "Options in effect:\n",
      "  --bfile data/genotyping/IMMUNO/IMMUNO_renamed\n",
      "  --extract data/genotyping/onlyIMMUNOsnps.txt\n",
      "  --make-bed\n",
      "  --out data/genotyping/IMMUNO/IMMUNO_uniquesnps\n",
      "\n",
      "16384 MB RAM detected; reserving 8192 MB for main workspace.\n",
      "196520 variants loaded from .bim file.\n",
      "520 people (341 males, 179 females) loaded from .fam.\n",
      "--extract: 189564 variants remaining.\n",
      "Warning: At least 402 duplicate IDs in --extract file.\n",
      "Using 1 thread (no multithreaded calculations invoked).\n",
      "Before main variant filters, 520 founders and 0 nonfounders present.\n",
      "Calculating allele frequencies... 10111213141516171819202122232425262728293031323334353637383940414243444546474849505152535455565758596061626364656667686970717273747576777879808182838485868788899091929394959697989 done.\n",
      "Warning: 66671 het. haploid genotypes present (see\n",
      "data/genotyping/IMMUNO/IMMUNO_uniquesnps.hh ); many commands treat these as\n",
      "missing.\n",
      "Warning: Nonmissing nonmale Y chromosome genotype(s) present; many commands\n",
      "treat these as missing.\n",
      "Total genotyping rate is 0.956414.\n",
      "189564 variants and 520 people pass filters and QC.\n",
      "Note: No phenotypes present.\n",
      "--make-bed to data/genotyping/IMMUNO/IMMUNO_uniquesnps.bed +\n",
      "data/genotyping/IMMUNO/IMMUNO_uniquesnps.bim +\n",
      "data/genotyping/IMMUNO/IMMUNO_uniquesnps.fam ... 101112131415161718192021222324252627282930313233343536373839404142434445464748495051525354555657585960616263646566676869707172737475767778798081828384858687888990919293949596979899done.\n"
     ]
    }
   ],
   "source": [
    "# get the names of SNPs only available in IMMUNO and write \n",
    "# the SNPs appearing uniquely in IMMUNO to a TXT file\n",
    "neurox_bim = pd.read_csv(\n",
    "    os.path.join(neurox_path, \"NEUROX_renamed.bim\"),\n",
    "    sep=\"\\t\",\n",
    "    header=None\n",
    ")\n",
    "only_immuno_snps_fn = \"data/genotyping/onlyIMMUNOsnps.txt\"\n",
    "neurox_snpids_set = set(neurox_bim.iloc[:,1].to_list())\n",
    "immuno_bim[~immuno_bim[1].isin(neurox_snpids_set)].iloc[:,1].to_csv(\n",
    "    only_immuno_snps_fn, header=False, index=False\n",
    ")\n",
    "\n",
    "# call plink\n",
    "!plink --bfile {os.path.join(immuno_path, \"IMMUNO_renamed\")} --extract {only_immuno_snps_fn} --make-bed --out {os.path.join(immuno_path, \"IMMUNO_uniquesnps\")}"
   ]
  },
  {
   "cell_type": "markdown",
   "metadata": {},
   "source": [
    "We can now merge the two datasets."
   ]
  },
  {
   "cell_type": "code",
   "execution_count": 28,
   "metadata": {},
   "outputs": [
    {
     "name": "stdout",
     "output_type": "stream",
     "text": [
      "PLINK v1.90b6.12 64-bit (28 Oct 2019)          www.cog-genomics.org/plink/1.9/\n",
      "(C) 2005-2019 Shaun Purcell, Christopher Chang   GNU General Public License v3\n",
      "Logging to data/genotyping/PPMI_merge.log.\n",
      "Options in effect:\n",
      "  --bfile data/genotyping/NEUROX/NEUROX_renamed\n",
      "  --bmerge data/genotyping/IMMUNO/IMMUNO_uniquesnps\n",
      "  --make-bed\n",
      "  --out data/genotyping/PPMI_merge\n",
      "\n",
      "16384 MB RAM detected; reserving 8192 MB for main workspace.\n",
      "520 people loaded from data/genotyping/NEUROX/NEUROX_renamed.fam.\n",
      "520 people to be merged from data/genotyping/IMMUNO/IMMUNO_uniquesnps.fam.\n",
      "Of these, 0 are new, while 520 are present in the base dataset.\n",
      "266454 markers loaded from data/genotyping/NEUROX/NEUROX_renamed.bim.\n",
      "189564 markers to be merged from data/genotyping/IMMUNO/IMMUNO_uniquesnps.bim.\n",
      "Of these, 189162 are new, while 402 are present in the base dataset.\n",
      "Warning: Variants 'NeuroX_PINK1_23bp_del_ex7' and 'NeuroX_PARK7_Pro158del' have\n",
      "the same position.\n",
      "Warning: Variants 'NeuroX_PINK1_534_535insQ' and 'NeuroX_PINK1_23bp_del_ex7'\n",
      "have the same position.\n",
      "Warning: Variants 'NeuroX_PINK1_Asp525fs' and 'NeuroX_PINK1_534_535insQ' have\n",
      "the same position.\n",
      "1770 more same-position warnings: see log file.\n",
      "Performing single-pass merge (520 people, 455616 variants).\n",
      "Merged fileset written to data/genotyping/PPMI_merge-merge.bed +\n",
      "data/genotyping/PPMI_merge-merge.bim + data/genotyping/PPMI_merge-merge.fam .\n",
      "455616 variants loaded from .bim file.\n",
      "520 people (341 males, 179 females) loaded from .fam.\n",
      "Using 1 thread (no multithreaded calculations invoked).\n",
      "Before main variant filters, 520 founders and 0 nonfounders present.\n",
      "Calculating allele frequencies... 10111213141516171819202122232425262728293031323334353637383940414243444546474849505152535455565758596061626364656667686970717273747576777879808182838485868788899091929394959697989 done.\n",
      "Warning: 70174 het. haploid genotypes present (see\n",
      "data/genotyping/PPMI_merge.hh ); many commands treat these as missing.\n",
      "Warning: Nonmissing nonmale Y chromosome genotype(s) present; many commands\n",
      "treat these as missing.\n",
      "Total genotyping rate is 0.957196.\n",
      "455616 variants and 520 people pass filters and QC.\n",
      "Note: No phenotypes present.\n",
      "--make-bed to data/genotyping/PPMI_merge.bed + data/genotyping/PPMI_merge.bim +\n",
      "data/genotyping/PPMI_merge.fam ... 101112131415161718192021222324252627282930313233343536373839404142434445464748495051525354555657585960616263646566676869707172737475767778798081828384858687888990919293949596979899done.\n"
     ]
    }
   ],
   "source": [
    "ppmi_merge_fn = \"data/genotyping/PPMI_merge\"\n",
    "\n",
    "!plink --bfile {os.path.join(neurox_path, \"NEUROX_renamed\")} --bmerge {os.path.join(immuno_path, \"IMMUNO_uniquesnps\")} --make-bed --out {ppmi_merge_fn}"
   ]
  },
  {
   "cell_type": "markdown",
   "metadata": {},
   "source": [
    "Plink produces some warnings on SNPs with different positions and same positions with different SNP names. <br>\n",
    "To make our lives easier, we remove them.\n",
    "\n",
    "Very easy with Unix shell: <br>\n",
    "```\n",
    "cat data/genotyping/PPMI_merge.log | grep 'Warning' | grep 'Variants' | grep -o \"'.*'\" | cut -d' ' -f1,3 | awk '{print $1\"\\n\"$2;}' | tr -d \"'\" | sort -u > data/genotyping/merge_rm_snps.txt\n",
    "```\n",
    "\n",
    "We can now run again Plink excluding the annoying SNPs!"
   ]
  },
  {
   "cell_type": "code",
   "execution_count": 30,
   "metadata": {
    "scrolled": false
   },
   "outputs": [
    {
     "name": "stdout",
     "output_type": "stream",
     "text": [
      "PLINK v1.90b6.12 64-bit (28 Oct 2019)          www.cog-genomics.org/plink/1.9/\n",
      "(C) 2005-2019 Shaun Purcell, Christopher Chang   GNU General Public License v3\n",
      "Logging to data/genotyping/PPMI_merge.log.\n",
      "Options in effect:\n",
      "  --bfile data/genotyping/NEUROX/NEUROX_renamed\n",
      "  --bmerge data/genotyping/IMMUNO/IMMUNO_uniquesnps\n",
      "  --exclude data/genotyping/merge_rm_snps.txt\n",
      "  --make-bed\n",
      "  --out data/genotyping/PPMI_merge\n",
      "\n",
      "16384 MB RAM detected; reserving 8192 MB for main workspace.\n",
      "520 people loaded from data/genotyping/NEUROX/NEUROX_renamed.fam.\n",
      "520 people to be merged from data/genotyping/IMMUNO/IMMUNO_uniquesnps.fam.\n",
      "Of these, 0 are new, while 520 are present in the base dataset.\n",
      "266454 markers loaded from data/genotyping/NEUROX/NEUROX_renamed.bim.\n",
      "189564 markers to be merged from data/genotyping/IMMUNO/IMMUNO_uniquesnps.bim.\n",
      "Of these, 189162 are new, while 402 are present in the base dataset.\n",
      "Warning: Variants 'NeuroX_PINK1_23bp_del_ex7' and 'NeuroX_PARK7_Pro158del' have\n",
      "the same position.\n",
      "Warning: Variants 'NeuroX_PINK1_534_535insQ' and 'NeuroX_PINK1_23bp_del_ex7'\n",
      "have the same position.\n",
      "Warning: Variants 'NeuroX_PINK1_Asp525fs' and 'NeuroX_PINK1_534_535insQ' have\n",
      "the same position.\n",
      "1770 more same-position warnings: see log file.\n",
      "Performing single-pass merge (520 people, 455616 variants).\n",
      "Merged fileset written to data/genotyping/PPMI_merge-merge.bed +\n",
      "data/genotyping/PPMI_merge-merge.bim + data/genotyping/PPMI_merge-merge.fam .\n",
      "455616 variants loaded from .bim file.\n",
      "520 people (341 males, 179 females) loaded from .fam.\n",
      "--exclude: 452102 variants remaining.\n",
      "Using 1 thread (no multithreaded calculations invoked).\n",
      "Before main variant filters, 520 founders and 0 nonfounders present.\n",
      "Calculating allele frequencies... 10111213141516171819202122232425262728293031323334353637383940414243444546474849505152535455565758596061626364656667686970717273747576777879808182838485868788899091929394959697989 done.\n",
      "Warning: 69837 het. haploid genotypes present (see\n",
      "data/genotyping/PPMI_merge.hh ); many commands treat these as missing.\n",
      "Warning: Nonmissing nonmale Y chromosome genotype(s) present; many commands\n",
      "treat these as missing.\n",
      "Total genotyping rate is 0.958159.\n",
      "452102 variants and 520 people pass filters and QC.\n",
      "Note: No phenotypes present.\n",
      "--make-bed to data/genotyping/PPMI_merge.bed + data/genotyping/PPMI_merge.bim +\n",
      "data/genotyping/PPMI_merge.fam ... 101112131415161718192021222324252627282930313233343536373839404142434445464748495051525354555657585960616263646566676869707172737475767778798081828384858687888990919293949596979899done.\n"
     ]
    }
   ],
   "source": [
    "!plink --bfile {os.path.join(neurox_path, \"NEUROX_renamed\")} --bmerge {os.path.join(immuno_path, \"IMMUNO_uniquesnps\")} --exclude data/genotyping/merge_rm_snps.txt --make-bed --out {merged_ppmi_fn}"
   ]
  },
  {
   "cell_type": "markdown",
   "metadata": {},
   "source": [
    "Now that our starting dataset is ready, we can move on."
   ]
  },
  {
   "cell_type": "markdown",
   "metadata": {},
   "source": [
    "## Quality Control"
   ]
  },
  {
   "cell_type": "markdown",
   "metadata": {},
   "source": [
    "Quality control (QC) is one of the key steps of GWAS analysis. <br>\n",
    "\n",
    "QC ensures that potential errors or artifacts (e.g. contaminations, poor quality of DNA samples, etc.) that could provide wrong or biased results are removed from our data.\n",
    "\n",
    "Let's use Plink to perform QC on PPMI data!"
   ]
  },
  {
   "cell_type": "markdown",
   "metadata": {},
   "source": [
    "### Individual and SNP missingness"
   ]
  },
  {
   "cell_type": "markdown",
   "metadata": {},
   "source": [
    "Let's begin by investigating the missingness per individual and per SNPs.\n",
    "\n",
    "We first remove SNPs with missingess rate > 5%."
   ]
  },
  {
   "cell_type": "code",
   "execution_count": 31,
   "metadata": {},
   "outputs": [
    {
     "name": "stdout",
     "output_type": "stream",
     "text": [
      "PLINK v1.90b6.12 64-bit (28 Oct 2019)          www.cog-genomics.org/plink/1.9/\n",
      "(C) 2005-2019 Shaun Purcell, Christopher Chang   GNU General Public License v3\n",
      "Logging to data/genotyping/PPMI_merge_geno.log.\n",
      "Options in effect:\n",
      "  --bfile data/genotyping/PPMI_merge\n",
      "  --geno 0.05\n",
      "  --make-bed\n",
      "  --out data/genotyping/PPMI_merge_geno\n",
      "\n",
      "16384 MB RAM detected; reserving 8192 MB for main workspace.\n",
      "452102 variants loaded from .bim file.\n",
      "520 people (341 males, 179 females) loaded from .fam.\n",
      "Using 1 thread (no multithreaded calculations invoked).\n",
      "Before main variant filters, 520 founders and 0 nonfounders present.\n",
      "Calculating allele frequencies... 10111213141516171819202122232425262728293031323334353637383940414243444546474849505152535455565758596061626364656667686970717273747576777879808182838485868788899091929394959697989 done.\n",
      "Warning: 69837 het. haploid genotypes present (see\n",
      "data/genotyping/PPMI_merge_geno.hh ); many commands treat these as missing.\n",
      "Warning: Nonmissing nonmale Y chromosome genotype(s) present; many commands\n",
      "treat these as missing.\n",
      "Total genotyping rate is 0.958159.\n",
      "25994 variants removed due to missing genotype data (--geno).\n",
      "426108 variants and 520 people pass filters and QC.\n",
      "Note: No phenotypes present.\n",
      "--make-bed to data/genotyping/PPMI_merge_geno.bed +\n",
      "data/genotyping/PPMI_merge_geno.bim + data/genotyping/PPMI_merge_geno.fam ...\n",
      "101112131415161718192021222324252627282930313233343536373839404142434445464748495051525354555657585960616263646566676869707172737475767778798081828384858687888990919293949596979899done.\n"
     ]
    }
   ],
   "source": [
    "!plink --bfile {ppmi_merge_fn} --geno 0.05 --make-bed --out {\"_\".join([ppmi_merge_fn, \"geno\"])}"
   ]
  },
  {
   "cell_type": "markdown",
   "metadata": {},
   "source": [
    "And remove also those individuals with missingness rate > 5%."
   ]
  },
  {
   "cell_type": "code",
   "execution_count": 32,
   "metadata": {},
   "outputs": [
    {
     "name": "stdout",
     "output_type": "stream",
     "text": [
      "PLINK v1.90b6.12 64-bit (28 Oct 2019)          www.cog-genomics.org/plink/1.9/\n",
      "(C) 2005-2019 Shaun Purcell, Christopher Chang   GNU General Public License v3\n",
      "Logging to data/genotyping/PPMI_merge_mind.log.\n",
      "Options in effect:\n",
      "  --bfile data/genotyping/PPMI_merge_geno\n",
      "  --make-bed\n",
      "  --mind 0.05\n",
      "  --out data/genotyping/PPMI_merge_mind\n",
      "\n",
      "16384 MB RAM detected; reserving 8192 MB for main workspace.\n",
      "426108 variants loaded from .bim file.\n",
      "520 people (341 males, 179 females) loaded from .fam.\n",
      "0 people removed due to missing genotype data (--mind).\n",
      "Using 1 thread (no multithreaded calculations invoked).\n",
      "Before main variant filters, 520 founders and 0 nonfounders present.\n",
      "Calculating allele frequencies... 10111213141516171819202122232425262728293031323334353637383940414243444546474849505152535455565758596061626364656667686970717273747576777879808182838485868788899091929394959697989 done.\n",
      "Warning: 58612 het. haploid genotypes present (see\n",
      "data/genotyping/PPMI_merge_mind.hh ); many commands treat these as missing.\n",
      "Warning: Nonmissing nonmale Y chromosome genotype(s) present; many commands\n",
      "treat these as missing.\n",
      "Total genotyping rate is 0.998461.\n",
      "426108 variants and 520 people pass filters and QC.\n",
      "Note: No phenotypes present.\n",
      "--make-bed to data/genotyping/PPMI_merge_mind.bed +\n",
      "data/genotyping/PPMI_merge_mind.bim + data/genotyping/PPMI_merge_mind.fam ...\n",
      "101112131415161718192021222324252627282930313233343536373839404142434445464748495051525354555657585960616263646566676869707172737475767778798081828384858687888990919293949596979899done.\n"
     ]
    }
   ],
   "source": [
    "!plink --bfile {\"_\".join([ppmi_merge_fn, \"geno\"])} --mind 0.05 --make-bed --out {\"_\".join([ppmi_merge_fn, \"mind\"])}"
   ]
  },
  {
   "cell_type": "markdown",
   "metadata": {},
   "source": [
    "### Sex discrepancies"
   ]
  },
  {
   "cell_type": "markdown",
   "metadata": {},
   "source": [
    "Let's continue our QC by performing some simple subject level QC. <br>\n",
    "We now remove subjects where provided sex information does not match the genotype inferred sex (could be a data quality issue!)."
   ]
  },
  {
   "cell_type": "code",
   "execution_count": 74,
   "metadata": {},
   "outputs": [
    {
     "data": {
      "text/html": [
       "<div>\n",
       "<style scoped>\n",
       "    .dataframe tbody tr th:only-of-type {\n",
       "        vertical-align: middle;\n",
       "    }\n",
       "\n",
       "    .dataframe tbody tr th {\n",
       "        vertical-align: top;\n",
       "    }\n",
       "\n",
       "    .dataframe thead th {\n",
       "        text-align: right;\n",
       "    }\n",
       "</style>\n",
       "<table border=\"1\" class=\"dataframe\">\n",
       "  <thead>\n",
       "    <tr style=\"text-align: right;\">\n",
       "      <th></th>\n",
       "      <th>0</th>\n",
       "      <th>1</th>\n",
       "      <th>2</th>\n",
       "      <th>3</th>\n",
       "      <th>4</th>\n",
       "      <th>5</th>\n",
       "    </tr>\n",
       "  </thead>\n",
       "  <tbody>\n",
       "    <tr>\n",
       "      <th>0</th>\n",
       "      <td>3000</td>\n",
       "      <td>3000</td>\n",
       "      <td>0</td>\n",
       "      <td>0</td>\n",
       "      <td>2</td>\n",
       "      <td>-9</td>\n",
       "    </tr>\n",
       "    <tr>\n",
       "      <th>1</th>\n",
       "      <td>3001</td>\n",
       "      <td>3001</td>\n",
       "      <td>0</td>\n",
       "      <td>0</td>\n",
       "      <td>1</td>\n",
       "      <td>-9</td>\n",
       "    </tr>\n",
       "    <tr>\n",
       "      <th>2</th>\n",
       "      <td>3002</td>\n",
       "      <td>3002</td>\n",
       "      <td>0</td>\n",
       "      <td>0</td>\n",
       "      <td>2</td>\n",
       "      <td>-9</td>\n",
       "    </tr>\n",
       "    <tr>\n",
       "      <th>3</th>\n",
       "      <td>3004</td>\n",
       "      <td>3004</td>\n",
       "      <td>0</td>\n",
       "      <td>0</td>\n",
       "      <td>1</td>\n",
       "      <td>-9</td>\n",
       "    </tr>\n",
       "    <tr>\n",
       "      <th>4</th>\n",
       "      <td>3006</td>\n",
       "      <td>3006</td>\n",
       "      <td>0</td>\n",
       "      <td>0</td>\n",
       "      <td>2</td>\n",
       "      <td>-9</td>\n",
       "    </tr>\n",
       "  </tbody>\n",
       "</table>\n",
       "</div>"
      ],
      "text/plain": [
       "      0     1  2  3  4  5\n",
       "0  3000  3000  0  0  2 -9\n",
       "1  3001  3001  0  0  1 -9\n",
       "2  3002  3002  0  0  2 -9\n",
       "3  3004  3004  0  0  1 -9\n",
       "4  3006  3006  0  0  2 -9"
      ]
     },
     "execution_count": 74,
     "metadata": {},
     "output_type": "execute_result"
    }
   ],
   "source": [
    "ppmi_merge_fam = pd.read_csv(\n",
    "    os.path.join(genotyping_path, \"PPMI_merge_mind.fam\"),\n",
    "    sep=\"\\s+\",\n",
    "    header=None\n",
    ")\n",
    "ppmi_merge_fam.head()"
   ]
  },
  {
   "cell_type": "code",
   "execution_count": 33,
   "metadata": {},
   "outputs": [
    {
     "name": "stdout",
     "output_type": "stream",
     "text": [
      "PLINK v1.90b6.12 64-bit (28 Oct 2019)          www.cog-genomics.org/plink/1.9/\n",
      "(C) 2005-2019 Shaun Purcell, Christopher Chang   GNU General Public License v3\n",
      "Logging to data/genotyping/PPMI_merge_sexcheck.log.\n",
      "Options in effect:\n",
      "  --bfile data/genotyping/PPMI_merge_mind\n",
      "  --check-sex\n",
      "  --out data/genotyping/PPMI_merge_sexcheck\n",
      "\n",
      "16384 MB RAM detected; reserving 8192 MB for main workspace.\n",
      "426108 variants loaded from .bim file.\n",
      "520 people (341 males, 179 females) loaded from .fam.\n",
      "Using 1 thread (no multithreaded calculations invoked).\n",
      "Before main variant filters, 520 founders and 0 nonfounders present.\n",
      "Calculating allele frequencies... 10111213141516171819202122232425262728293031323334353637383940414243444546474849505152535455565758596061626364656667686970717273747576777879808182838485868788899091929394959697989 done.\n",
      "Warning: 58612 het. haploid genotypes present (see\n",
      "data/genotyping/PPMI_merge_sexcheck.hh ); many commands treat these as missing.\n",
      "Warning: Nonmissing nonmale Y chromosome genotype(s) present; many commands\n",
      "treat these as missing.\n",
      "Total genotyping rate is 0.998461.\n",
      "426108 variants and 520 people pass filters and QC.\n",
      "Note: No phenotypes present.\n",
      "--check-sex: 2925 Xchr and 0 Ychr variant(s) scanned, 9 problems detected.\n",
      "Report written to data/genotyping/PPMI_merge_sexcheck.sexcheck .\n"
     ]
    }
   ],
   "source": [
    "!plink --bfile {\"_\".join([ppmi_merge_fn, \"mind\"])} --check-sex --out {\"_\".join([ppmi_merge_fn, \"sexcheck\"])}"
   ]
  },
  {
   "cell_type": "code",
   "execution_count": 36,
   "metadata": {},
   "outputs": [
    {
     "data": {
      "text/html": [
       "<div>\n",
       "<style scoped>\n",
       "    .dataframe tbody tr th:only-of-type {\n",
       "        vertical-align: middle;\n",
       "    }\n",
       "\n",
       "    .dataframe tbody tr th {\n",
       "        vertical-align: top;\n",
       "    }\n",
       "\n",
       "    .dataframe thead th {\n",
       "        text-align: right;\n",
       "    }\n",
       "</style>\n",
       "<table border=\"1\" class=\"dataframe\">\n",
       "  <thead>\n",
       "    <tr style=\"text-align: right;\">\n",
       "      <th></th>\n",
       "      <th>FID</th>\n",
       "      <th>IID</th>\n",
       "      <th>PEDSEX</th>\n",
       "      <th>SNPSEX</th>\n",
       "      <th>STATUS</th>\n",
       "      <th>F</th>\n",
       "    </tr>\n",
       "  </thead>\n",
       "  <tbody>\n",
       "    <tr>\n",
       "      <th>0</th>\n",
       "      <td>3000</td>\n",
       "      <td>3000</td>\n",
       "      <td>2</td>\n",
       "      <td>2</td>\n",
       "      <td>OK</td>\n",
       "      <td>0.06790</td>\n",
       "    </tr>\n",
       "    <tr>\n",
       "      <th>1</th>\n",
       "      <td>3001</td>\n",
       "      <td>3001</td>\n",
       "      <td>1</td>\n",
       "      <td>1</td>\n",
       "      <td>OK</td>\n",
       "      <td>0.96140</td>\n",
       "    </tr>\n",
       "    <tr>\n",
       "      <th>2</th>\n",
       "      <td>3002</td>\n",
       "      <td>3002</td>\n",
       "      <td>2</td>\n",
       "      <td>2</td>\n",
       "      <td>OK</td>\n",
       "      <td>0.13460</td>\n",
       "    </tr>\n",
       "    <tr>\n",
       "      <th>3</th>\n",
       "      <td>3004</td>\n",
       "      <td>3004</td>\n",
       "      <td>1</td>\n",
       "      <td>1</td>\n",
       "      <td>OK</td>\n",
       "      <td>0.97360</td>\n",
       "    </tr>\n",
       "    <tr>\n",
       "      <th>4</th>\n",
       "      <td>3006</td>\n",
       "      <td>3006</td>\n",
       "      <td>2</td>\n",
       "      <td>2</td>\n",
       "      <td>OK</td>\n",
       "      <td>0.06881</td>\n",
       "    </tr>\n",
       "  </tbody>\n",
       "</table>\n",
       "</div>"
      ],
      "text/plain": [
       "    FID   IID  PEDSEX  SNPSEX STATUS        F\n",
       "0  3000  3000       2       2     OK  0.06790\n",
       "1  3001  3001       1       1     OK  0.96140\n",
       "2  3002  3002       2       2     OK  0.13460\n",
       "3  3004  3004       1       1     OK  0.97360\n",
       "4  3006  3006       2       2     OK  0.06881"
      ]
     },
     "execution_count": 36,
     "metadata": {},
     "output_type": "execute_result"
    }
   ],
   "source": [
    "ppmi_checksex = pd.read_csv(\n",
    "    \".\".join([\"_\".join([ppmi_merge_fn, \"sexcheck\"]), \"sexcheck\"]),\n",
    "    sep=\"\\s+\"\n",
    ")\n",
    "ppmi_checksex.head()"
   ]
  },
  {
   "cell_type": "code",
   "execution_count": 37,
   "metadata": {},
   "outputs": [
    {
     "data": {
      "text/html": [
       "<div>\n",
       "<style scoped>\n",
       "    .dataframe tbody tr th:only-of-type {\n",
       "        vertical-align: middle;\n",
       "    }\n",
       "\n",
       "    .dataframe tbody tr th {\n",
       "        vertical-align: top;\n",
       "    }\n",
       "\n",
       "    .dataframe thead th {\n",
       "        text-align: right;\n",
       "    }\n",
       "</style>\n",
       "<table border=\"1\" class=\"dataframe\">\n",
       "  <thead>\n",
       "    <tr style=\"text-align: right;\">\n",
       "      <th></th>\n",
       "      <th>FID</th>\n",
       "      <th>IID</th>\n",
       "      <th>PEDSEX</th>\n",
       "      <th>SNPSEX</th>\n",
       "      <th>STATUS</th>\n",
       "      <th>F</th>\n",
       "    </tr>\n",
       "  </thead>\n",
       "  <tbody>\n",
       "    <tr>\n",
       "      <th>9</th>\n",
       "      <td>3013</td>\n",
       "      <td>3013</td>\n",
       "      <td>2</td>\n",
       "      <td>0</td>\n",
       "      <td>PROBLEM</td>\n",
       "      <td>0.2074</td>\n",
       "    </tr>\n",
       "    <tr>\n",
       "      <th>139</th>\n",
       "      <td>3260</td>\n",
       "      <td>3260</td>\n",
       "      <td>2</td>\n",
       "      <td>0</td>\n",
       "      <td>PROBLEM</td>\n",
       "      <td>0.3316</td>\n",
       "    </tr>\n",
       "    <tr>\n",
       "      <th>177</th>\n",
       "      <td>3325</td>\n",
       "      <td>3325</td>\n",
       "      <td>2</td>\n",
       "      <td>0</td>\n",
       "      <td>PROBLEM</td>\n",
       "      <td>0.2033</td>\n",
       "    </tr>\n",
       "    <tr>\n",
       "      <th>340</th>\n",
       "      <td>3593</td>\n",
       "      <td>3593</td>\n",
       "      <td>2</td>\n",
       "      <td>0</td>\n",
       "      <td>PROBLEM</td>\n",
       "      <td>0.2271</td>\n",
       "    </tr>\n",
       "    <tr>\n",
       "      <th>344</th>\n",
       "      <td>3604</td>\n",
       "      <td>3604</td>\n",
       "      <td>2</td>\n",
       "      <td>0</td>\n",
       "      <td>PROBLEM</td>\n",
       "      <td>0.2068</td>\n",
       "    </tr>\n",
       "    <tr>\n",
       "      <th>357</th>\n",
       "      <td>3621</td>\n",
       "      <td>3621</td>\n",
       "      <td>2</td>\n",
       "      <td>0</td>\n",
       "      <td>PROBLEM</td>\n",
       "      <td>0.2666</td>\n",
       "    </tr>\n",
       "    <tr>\n",
       "      <th>381</th>\n",
       "      <td>3660</td>\n",
       "      <td>3660</td>\n",
       "      <td>2</td>\n",
       "      <td>0</td>\n",
       "      <td>PROBLEM</td>\n",
       "      <td>0.2159</td>\n",
       "    </tr>\n",
       "    <tr>\n",
       "      <th>444</th>\n",
       "      <td>4019</td>\n",
       "      <td>4019</td>\n",
       "      <td>2</td>\n",
       "      <td>0</td>\n",
       "      <td>PROBLEM</td>\n",
       "      <td>0.2462</td>\n",
       "    </tr>\n",
       "    <tr>\n",
       "      <th>488</th>\n",
       "      <td>4092</td>\n",
       "      <td>4092</td>\n",
       "      <td>2</td>\n",
       "      <td>0</td>\n",
       "      <td>PROBLEM</td>\n",
       "      <td>0.2057</td>\n",
       "    </tr>\n",
       "  </tbody>\n",
       "</table>\n",
       "</div>"
      ],
      "text/plain": [
       "      FID   IID  PEDSEX  SNPSEX   STATUS       F\n",
       "9    3013  3013       2       0  PROBLEM  0.2074\n",
       "139  3260  3260       2       0  PROBLEM  0.3316\n",
       "177  3325  3325       2       0  PROBLEM  0.2033\n",
       "340  3593  3593       2       0  PROBLEM  0.2271\n",
       "344  3604  3604       2       0  PROBLEM  0.2068\n",
       "357  3621  3621       2       0  PROBLEM  0.2666\n",
       "381  3660  3660       2       0  PROBLEM  0.2159\n",
       "444  4019  4019       2       0  PROBLEM  0.2462\n",
       "488  4092  4092       2       0  PROBLEM  0.2057"
      ]
     },
     "execution_count": 37,
     "metadata": {},
     "output_type": "execute_result"
    }
   ],
   "source": [
    "ppmi_checksex[ppmi_checksex.STATUS==\"PROBLEM\"]"
   ]
  },
  {
   "cell_type": "code",
   "execution_count": 38,
   "metadata": {},
   "outputs": [
    {
     "name": "stdout",
     "output_type": "stream",
     "text": [
      "PLINK v1.90b6.12 64-bit (28 Oct 2019)          www.cog-genomics.org/plink/1.9/\n",
      "(C) 2005-2019 Shaun Purcell, Christopher Chang   GNU General Public License v3\n",
      "Logging to data/genotyping/PPMI_merge_qc_subjs.log.\n",
      "Options in effect:\n",
      "  --bfile data/genotyping/PPMI_merge_mind\n",
      "  --make-bed\n",
      "  --out data/genotyping/PPMI_merge_qc_subjs\n",
      "  --remove data/genotyping/subjs_toremove.txt\n",
      "\n",
      "16384 MB RAM detected; reserving 8192 MB for main workspace.\n",
      "426108 variants loaded from .bim file.\n",
      "520 people (341 males, 179 females) loaded from .fam.\n",
      "--remove: 511 people remaining.\n",
      "Using 1 thread (no multithreaded calculations invoked).\n",
      "Before main variant filters, 511 founders and 0 nonfounders present.\n",
      "Calculating allele frequencies... 10111213141516171819202122232425262728293031323334353637383940414243444546474849505152535455565758596061626364656667686970717273747576777879808182838485868788899091929394959697989 done.\n",
      "Warning: 58612 het. haploid genotypes present (see\n",
      "data/genotyping/PPMI_merge_qc_subjs.hh ); many commands treat these as missing.\n",
      "Warning: Nonmissing nonmale Y chromosome genotype(s) present; many commands\n",
      "treat these as missing.\n",
      "Total genotyping rate in remaining samples is 0.998453.\n",
      "426108 variants and 511 people pass filters and QC.\n",
      "Note: No phenotypes present.\n",
      "--make-bed to data/genotyping/PPMI_merge_qc_subjs.bed +\n",
      "data/genotyping/PPMI_merge_qc_subjs.bim +\n",
      "data/genotyping/PPMI_merge_qc_subjs.fam ... 101112131415161718192021222324252627282930313233343536373839404142434445464748495051525354555657585960616263646566676869707172737475767778798081828384858687888990919293949596979899done.\n"
     ]
    }
   ],
   "source": [
    "subj_problem_fn = \"data/genotyping/subjs_toremove.txt\"\n",
    "ppmi_checksex[ppmi_checksex.STATUS == \"PROBLEM\"].iloc[:,0:2].to_csv(\n",
    "    subj_problem_fn,\n",
    "    sep=\" \",\n",
    "    index=False\n",
    ")\n",
    "\n",
    "!plink --bfile {\"_\".join([ppmi_merge_fn, \"mind\"])} --remove {subj_problem_fn} --make-bed --out {\"_\".join([ppmi_merge_fn, \"qc_subjs\"])}"
   ]
  },
  {
   "cell_type": "markdown",
   "metadata": {},
   "source": [
    "For simplicity, we restrict our analysis to autosomal chromosomes."
   ]
  },
  {
   "cell_type": "code",
   "execution_count": 39,
   "metadata": {},
   "outputs": [
    {
     "name": "stdout",
     "output_type": "stream",
     "text": [
      "PLINK v1.90b6.12 64-bit (28 Oct 2019)          www.cog-genomics.org/plink/1.9/\n",
      "(C) 2005-2019 Shaun Purcell, Christopher Chang   GNU General Public License v3\n",
      "Logging to data/genotyping/PPMI_merge_autosome.log.\n",
      "Options in effect:\n",
      "  --autosome\n",
      "  --bfile data/genotyping/PPMI_merge_qc_subjs\n",
      "  --make-bed\n",
      "  --out data/genotyping/PPMI_merge_autosome\n",
      "\n",
      "16384 MB RAM detected; reserving 8192 MB for main workspace.\n",
      "417404 out of 426108 variants loaded from .bim file.\n",
      "511 people (341 males, 170 females) loaded from .fam.\n",
      "Using 1 thread (no multithreaded calculations invoked).\n",
      "Before main variant filters, 511 founders and 0 nonfounders present.\n",
      "Calculating allele frequencies... 10111213141516171819202122232425262728293031323334353637383940414243444546474849505152535455565758596061626364656667686970717273747576777879808182838485868788899091929394959697989 done.\n",
      "Total genotyping rate is 0.998475.\n",
      "417404 variants and 511 people pass filters and QC.\n",
      "Note: No phenotypes present.\n",
      "--make-bed to data/genotyping/PPMI_merge_autosome.bed +\n",
      "data/genotyping/PPMI_merge_autosome.bim +\n",
      "data/genotyping/PPMI_merge_autosome.fam ... 101112131415161718192021222324252627282930313233343536373839404142434445464748495051525354555657585960616263646566676869707172737475767778798081828384858687888990919293949596979899done.\n"
     ]
    }
   ],
   "source": [
    "!plink --bfile {\"_\".join([ppmi_merge_fn, \"qc_subjs\"])} --autosome --make-bed --out {\"_\".join([ppmi_merge_fn, \"autosome\"])}"
   ]
  },
  {
   "cell_type": "markdown",
   "metadata": {},
   "source": [
    "### Minor Allele Frequency (MAF) QC"
   ]
  },
  {
   "cell_type": "markdown",
   "metadata": {},
   "source": [
    "We continue by removing SNPs with low minor allele frequency. <br>\n",
    "This depends on dataset size, we used < 1% here."
   ]
  },
  {
   "cell_type": "code",
   "execution_count": 80,
   "metadata": {},
   "outputs": [
    {
     "name": "stdout",
     "output_type": "stream",
     "text": [
      "PLINK v1.90b6.12 64-bit (28 Oct 2019)          www.cog-genomics.org/plink/1.9/\n",
      "(C) 2005-2019 Shaun Purcell, Christopher Chang   GNU General Public License v3\n",
      "Logging to data/genotyping/PPMI_merge_maf.log.\n",
      "Options in effect:\n",
      "  --bfile data/genotyping/PPMI_merge_autosome\n",
      "  --maf 0.01\n",
      "  --make-bed\n",
      "  --out data/genotyping/PPMI_merge_maf\n",
      "\n",
      "16384 MB RAM detected; reserving 8192 MB for main workspace.\n",
      "417404 variants loaded from .bim file.\n",
      "511 people (341 males, 170 females) loaded from .fam.\n",
      "Using 1 thread (no multithreaded calculations invoked).\n",
      "Before main variant filters, 511 founders and 0 nonfounders present.\n",
      "Calculating allele frequencies... 10111213141516171819202122232425262728293031323334353637383940414243444546474849505152535455565758596061626364656667686970717273747576777879808182838485868788899091929394959697989 done.\n",
      "Total genotyping rate is 0.998475.\n",
      "243852 variants removed due to minor allele threshold(s)\n",
      "(--maf/--max-maf/--mac/--max-mac).\n",
      "173552 variants and 511 people pass filters and QC.\n",
      "Note: No phenotypes present.\n",
      "--make-bed to data/genotyping/PPMI_merge_maf.bed +\n",
      "data/genotyping/PPMI_merge_maf.bim + data/genotyping/PPMI_merge_maf.fam ...\n",
      "101112131415161718192021222324252627282930313233343536373839404142434445464748495051525354555657585960616263646566676869707172737475767778798081828384858687888990919293949596979899done.\n"
     ]
    }
   ],
   "source": [
    "!plink --bfile {\"_\".join([ppmi_merge_fn, \"autosome\"])} --maf 0.01 --make-bed --out {\"_\".join([ppmi_merge_fn, \"maf\"])}"
   ]
  },
  {
   "cell_type": "markdown",
   "metadata": {},
   "source": [
    "### Hardy-Weinberg equilibrium QC"
   ]
  },
  {
   "cell_type": "markdown",
   "metadata": {},
   "source": [
    "We also remove those SNPs not following Hardy-Weinberg equilibrium (we used a threshold of $1e^{-6}$ here)."
   ]
  },
  {
   "cell_type": "code",
   "execution_count": 41,
   "metadata": {},
   "outputs": [
    {
     "name": "stdout",
     "output_type": "stream",
     "text": [
      "PLINK v1.90b6.12 64-bit (28 Oct 2019)          www.cog-genomics.org/plink/1.9/\n",
      "(C) 2005-2019 Shaun Purcell, Christopher Chang   GNU General Public License v3\n",
      "Logging to data/genotyping/PPMI_merge_hwe.log.\n",
      "Options in effect:\n",
      "  --bfile data/genotyping/PPMI_merge_maf\n",
      "  --hwe 1e-6\n",
      "  --make-bed\n",
      "  --out data/genotyping/PPMI_merge_hwe\n",
      "\n",
      "16384 MB RAM detected; reserving 8192 MB for main workspace.\n",
      "173552 variants loaded from .bim file.\n",
      "511 people (341 males, 170 females) loaded from .fam.\n",
      "Using 1 thread (no multithreaded calculations invoked).\n",
      "Before main variant filters, 511 founders and 0 nonfounders present.\n",
      "Calculating allele frequencies... 10111213141516171819202122232425262728293031323334353637383940414243444546474849505152535455565758596061626364656667686970717273747576777879808182838485868788899091929394959697989 done.\n",
      "Total genotyping rate is 0.997714.\n",
      "--hwe: 344 variants removed due to Hardy-Weinberg exact test.\n",
      "173208 variants and 511 people pass filters and QC.\n",
      "Note: No phenotypes present.\n",
      "--make-bed to data/genotyping/PPMI_merge_hwe.bed +\n",
      "data/genotyping/PPMI_merge_hwe.bim + data/genotyping/PPMI_merge_hwe.fam ...\n",
      "101112131415161718192021222324252627282930313233343536373839404142434445464748495051525354555657585960616263646566676869707172737475767778798081828384858687888990919293949596979899done.\n"
     ]
    }
   ],
   "source": [
    "!plink --bfile {\"_\".join([ppmi_merge_fn, \"maf\"])} --hwe 1e-6 --make-bed --out {\"_\".join([ppmi_merge_fn, \"hwe\"])}"
   ]
  },
  {
   "cell_type": "markdown",
   "metadata": {},
   "source": [
    "### Remove ambigous SNPs"
   ]
  },
  {
   "cell_type": "markdown",
   "metadata": {},
   "source": [
    "Let's now find A/T and C/G SNPs:"
   ]
  },
  {
   "cell_type": "code",
   "execution_count": 42,
   "metadata": {},
   "outputs": [
    {
     "name": "stdout",
     "output_type": "stream",
     "text": [
      "PLINK v1.90b6.12 64-bit (28 Oct 2019)          www.cog-genomics.org/plink/1.9/\n",
      "(C) 2005-2019 Shaun Purcell, Christopher Chang   GNU General Public License v3\n",
      "Logging to data/genotyping/PPMI_merge_snp.log.\n",
      "Options in effect:\n",
      "  --bfile data/genotyping/PPMI_merge_hwe\n",
      "  --exclude data/genotyping/badsnps.txt\n",
      "  --make-bed\n",
      "  --out data/genotyping/PPMI_merge_snp\n",
      "\n",
      "16384 MB RAM detected; reserving 8192 MB for main workspace.\n",
      "173208 variants loaded from .bim file.\n",
      "511 people (341 males, 170 females) loaded from .fam.\n",
      "--exclude: 153609 variants remaining.\n",
      "Using 1 thread (no multithreaded calculations invoked).\n",
      "Before main variant filters, 511 founders and 0 nonfounders present.\n",
      "Calculating allele frequencies... 10111213141516171819202122232425262728293031323334353637383940414243444546474849505152535455565758596061626364656667686970717273747576777879808182838485868788899091929394959697989 done.\n",
      "Total genotyping rate is 0.997827.\n",
      "153609 variants and 511 people pass filters and QC.\n",
      "Note: No phenotypes present.\n",
      "--make-bed to data/genotyping/PPMI_merge_snp.bed +\n",
      "data/genotyping/PPMI_merge_snp.bim + data/genotyping/PPMI_merge_snp.fam ...\n",
      "101112131415161718192021222324252627282930313233343536373839404142434445464748495051525354555657585960616263646566676869707172737475767778798081828384858687888990919293949596979899done.\n"
     ]
    }
   ],
   "source": [
    "ppmi_merge_bim = pd.read_csv(\n",
    "    \"_\".join([ppmi_merge_fn, \"hwe.bim\"]),\n",
    "    sep=\"\\t\",\n",
    "    header=None\n",
    ")\n",
    "bad1 = ppmi_merge_bim[(ppmi_merge_bim.iloc[:,4] == 'A') & (ppmi_merge_bim.iloc[:,5] == 'T')]\n",
    "bad2 = ppmi_merge_bim[(ppmi_merge_bim.iloc[:,4] == 'T') & (ppmi_merge_bim.iloc[:,5] == 'A')]\n",
    "bad3 = ppmi_merge_bim[(ppmi_merge_bim.iloc[:,4] == 'C') & (ppmi_merge_bim.iloc[:,5] == 'G')]\n",
    "bad4 = ppmi_merge_bim[(ppmi_merge_bim.iloc[:,4] == 'G') & (ppmi_merge_bim.iloc[:,5] == 'C')]\n",
    "\n",
    "badSnps = pd.concat([bad1, bad2, bad3, bad4])\n",
    "badSnps_set = set(badSnps.iloc[:,1].values.tolist())\n",
    "\n",
    "badsnps_fn = \"data/genotyping/badsnps.txt\"\n",
    "pd.DataFrame(list(badSnps_set)).to_csv(badsnps_fn, header=False, index=False)\n",
    "\n",
    "# call plink\n",
    "!plink --bfile {\"_\".join([ppmi_merge_fn, \"hwe\"])} --exclude {badsnps_fn} --make-bed --out {\"_\".join([ppmi_merge_fn, \"snp\"])}"
   ]
  },
  {
   "cell_type": "markdown",
   "metadata": {},
   "source": [
    "### Genetic ancestry QC"
   ]
  },
  {
   "cell_type": "markdown",
   "metadata": {},
   "source": [
    "Let's now analyse population genetic stratification.<br>\n",
    "We will merge our dataset with data from the HapMap consortium, who genotyped a lot of people from different populations around the world."
   ]
  },
  {
   "cell_type": "code",
   "execution_count": 48,
   "metadata": {},
   "outputs": [
    {
     "name": "stdout",
     "output_type": "stream",
     "text": [
      "PLINK v1.90b6.12 64-bit (28 Oct 2019)          www.cog-genomics.org/plink/1.9/\n",
      "(C) 2005-2019 Shaun Purcell, Christopher Chang   GNU General Public License v3\n",
      "Logging to data/genotyping/PPMI_HM.log.\n",
      "Options in effect:\n",
      "  --bfile data/genotyping/PPMI_merge_snp\n",
      "  --bmerge data/genotyping/HapMap3_b37/HM3_b37_renamed\n",
      "  --extract data/genotyping/common_snps.txt\n",
      "  --make-bed\n",
      "  --out data/genotyping/PPMI_HM\n",
      "\n",
      "16384 MB RAM detected; reserving 8192 MB for main workspace.\n",
      "511 people loaded from data/genotyping/PPMI_merge_snp.fam.\n",
      "988 people to be merged from data/genotyping/HapMap3_b37/HM3_b37_renamed.fam.\n",
      "Of these, 988 are new, while 0 are present in the base dataset.\n",
      "153609 markers loaded from data/genotyping/PPMI_merge_snp.bim.\n",
      "995932 markers to be merged from\n",
      "data/genotyping/HapMap3_b37/HM3_b37_renamed.bim.\n",
      "Of these, 950436 are new, while 45496 are present in the base dataset.\n",
      "Warning: Variants '1:1135242_C_A' and '1:1135242_A_C' have the same position.\n",
      "Warning: Variants '1:1140435_T_G' and '1:1140435_G_T' have the same position.\n",
      "Warning: Variants '1:1218086_T_C' and '1:1218086_C_T' have the same position.\n",
      "14529 more same-position warnings: see log file.\n",
      "Performing single-pass merge (1499 people, 1104045 variants).\n",
      "Merged fileset written to data/genotyping/PPMI_HM-merge.bed +\n",
      "data/genotyping/PPMI_HM-merge.bim + data/genotyping/PPMI_HM-merge.fam .\n",
      "1104045 variants loaded from .bim file.\n",
      "1499 people (829 males, 670 females) loaded from .fam.\n",
      "--extract: 43544 variants remaining.\n",
      "Using 1 thread (no multithreaded calculations invoked).\n",
      "Before main variant filters, 1499 founders and 0 nonfounders present.\n",
      "Calculating allele frequencies... 10111213141516171819202122232425262728293031323334353637383940414243444546474849505152535455565758596061626364656667686970717273747576777879808182838485868788899091929394959697989 done.\n",
      "Total genotyping rate is 0.997984.\n",
      "43544 variants and 1499 people pass filters and QC.\n",
      "Note: No phenotypes present.\n",
      "--make-bed to data/genotyping/PPMI_HM.bed + data/genotyping/PPMI_HM.bim +\n",
      "data/genotyping/PPMI_HM.fam ... 101112131415161718192021222324252627282930313233343536373839404142434445464748495051525354555657585960616263646566676869707172737475767778798081828384858687888990919293949596979899done.\n"
     ]
    }
   ],
   "source": [
    "hp_fn = \"data/genotyping/PPMI_HM\"\n",
    "ppmi_merge_bim = pd.read_csv(\n",
    "    \"_\".join([ppmi_merge_fn, \"snp.bim\"]),\n",
    "    sep=\"\\t\",\n",
    "    header=None\n",
    ")\n",
    "\n",
    "# renaming for HM3 was done as described above\n",
    "hapmap_bim = pd.read_csv(\n",
    "    os.path.join(hapmap_path, \"HM3_b37_renamed.bim\"),\n",
    "    sep=\"\\t\",\n",
    "    header=None\n",
    ")\n",
    "\n",
    "# get SNPs in common between the two datasets\n",
    "A = set(ppmi_merge_bim.iloc[:,1].tolist())\n",
    "B = set(hapmap_bim.iloc[:,1].tolist())\n",
    "hp_snps = A.intersection(B)\n",
    "pd.DataFrame(list(hp_snps)).to_csv(\n",
    "    \"data/genotyping/common_snps.txt\",\n",
    "    index=False,\n",
    "    header=False\n",
    ")\n",
    "\n",
    "# call plink\n",
    "!plink --bfile {\"_\".join([ppmi_merge_fn, \"snp\"])} --bmerge {os.path.join(hapmap_path, \"HM3_b37_renamed\")} --extract data/genotyping/common_snps.txt --make-bed --out {hp_fn} "
   ]
  },
  {
   "cell_type": "markdown",
   "metadata": {},
   "source": [
    "As during the previous merge we got some warnings from Plink on SNPs from different datasets with different names mappoed at the same position. <br>\n",
    "Let's use again Unix shell to recover them:\n",
    "```\n",
    "cat data/genotyping/PPMI_HM.log | grep 'Warning' | grep 'Variants' | grep -o \"'.*'\" | cut -d' ' -f1,3 | awk '{print $1\"\\n\"$2;}' | tr -d \"'\" | sort -u > data/genotyping/merge_rm_snps.txt\n",
    "```\n",
    "\n",
    "Now we can rerun Plink excluding the annoying SNPs:"
   ]
  },
  {
   "cell_type": "code",
   "execution_count": 50,
   "metadata": {},
   "outputs": [
    {
     "name": "stdout",
     "output_type": "stream",
     "text": [
      "PLINK v1.90b6.12 64-bit (28 Oct 2019)          www.cog-genomics.org/plink/1.9/\n",
      "(C) 2005-2019 Shaun Purcell, Christopher Chang   GNU General Public License v3\n",
      "Logging to data/genotyping/PPMI_HM.log.\n",
      "Options in effect:\n",
      "  --bfile data/genotyping/PPMI_merge_snp\n",
      "  --bmerge data/genotyping/HapMap3_b37/HM3_b37_renamed\n",
      "  --exclude data/genotyping/merge_rm_snps.txt\n",
      "  --extract data/genotyping/common_snps.txt\n",
      "  --make-bed\n",
      "  --out data/genotyping/PPMI_HM\n",
      "\n",
      "16384 MB RAM detected; reserving 8192 MB for main workspace.\n",
      "511 people loaded from data/genotyping/PPMI_merge_snp.fam.\n",
      "988 people to be merged from data/genotyping/HapMap3_b37/HM3_b37_renamed.fam.\n",
      "Of these, 988 are new, while 0 are present in the base dataset.\n",
      "153609 markers loaded from data/genotyping/PPMI_merge_snp.bim.\n",
      "995932 markers to be merged from\n",
      "data/genotyping/HapMap3_b37/HM3_b37_renamed.bim.\n",
      "Of these, 950436 are new, while 45496 are present in the base dataset.\n",
      "Warning: Variants '1:1135242_C_A' and '1:1135242_A_C' have the same position.\n",
      "Warning: Variants '1:1140435_T_G' and '1:1140435_G_T' have the same position.\n",
      "Warning: Variants '1:1218086_T_C' and '1:1218086_C_T' have the same position.\n",
      "14529 more same-position warnings: see log file.\n",
      "Performing single-pass merge (1499 people, 1104045 variants).\n",
      "Merged fileset written to data/genotyping/PPMI_HM-merge.bed +\n",
      "data/genotyping/PPMI_HM-merge.bim + data/genotyping/PPMI_HM-merge.fam .\n",
      "1104045 variants loaded from .bim file.\n",
      "1499 people (829 males, 670 females) loaded from .fam.\n",
      "--extract: 43544 variants remaining.\n",
      "--exclude: 43544 variants remaining.\n",
      "Using 1 thread (no multithreaded calculations invoked).\n",
      "Before main variant filters, 1499 founders and 0 nonfounders present.\n",
      "Calculating allele frequencies... 10111213141516171819202122232425262728293031323334353637383940414243444546474849505152535455565758596061626364656667686970717273747576777879808182838485868788899091929394959697989 done.\n",
      "Total genotyping rate is 0.997984.\n",
      "43544 variants and 1499 people pass filters and QC.\n",
      "Note: No phenotypes present.\n",
      "--make-bed to data/genotyping/PPMI_HM.bed + data/genotyping/PPMI_HM.bim +\n",
      "data/genotyping/PPMI_HM.fam ... 101112131415161718192021222324252627282930313233343536373839404142434445464748495051525354555657585960616263646566676869707172737475767778798081828384858687888990919293949596979899done.\n"
     ]
    }
   ],
   "source": [
    "!plink --bfile {\"_\".join([ppmi_merge_fn, \"snp\"])} --bmerge {os.path.join(hapmap_path, \"HM3_b37_renamed\")} --exclude data/genotyping/merge_rm_snps.txt --extract data/genotyping/common_snps.txt --make-bed --out {hp_fn} "
   ]
  },
  {
   "cell_type": "markdown",
   "metadata": {},
   "source": [
    "Now we remove SNPs with high missingness in the data (```--geno 0.1```) and low minor allele frequency (```--maf 0.05```)."
   ]
  },
  {
   "cell_type": "code",
   "execution_count": 51,
   "metadata": {},
   "outputs": [
    {
     "name": "stdout",
     "output_type": "stream",
     "text": [
      "PLINK v1.90b6.12 64-bit (28 Oct 2019)          www.cog-genomics.org/plink/1.9/\n",
      "(C) 2005-2019 Shaun Purcell, Christopher Chang   GNU General Public License v3\n",
      "Logging to data/genotyping/PPMI_HM_qc.log.\n",
      "Options in effect:\n",
      "  --bfile data/genotyping/PPMI_HM\n",
      "  --geno 0.1\n",
      "  --maf 0.05\n",
      "  --make-bed\n",
      "  --out data/genotyping/PPMI_HM_qc\n",
      "\n",
      "16384 MB RAM detected; reserving 8192 MB for main workspace.\n",
      "43544 variants loaded from .bim file.\n",
      "1499 people (829 males, 670 females) loaded from .fam.\n",
      "Using 1 thread (no multithreaded calculations invoked).\n",
      "Before main variant filters, 1499 founders and 0 nonfounders present.\n",
      "Calculating allele frequencies... 10111213141516171819202122232425262728293031323334353637383940414243444546474849505152535455565758596061626364656667686970717273747576777879808182838485868788899091929394959697989 done.\n",
      "Total genotyping rate is 0.997984.\n",
      "0 variants removed due to missing genotype data (--geno).\n",
      "296 variants removed due to minor allele threshold(s)\n",
      "(--maf/--max-maf/--mac/--max-mac).\n",
      "43248 variants and 1499 people pass filters and QC.\n",
      "Note: No phenotypes present.\n",
      "--make-bed to data/genotyping/PPMI_HM_qc.bed + data/genotyping/PPMI_HM_qc.bim +\n",
      "data/genotyping/PPMI_HM_qc.fam ... 101112131415161718192021222324252627282930313233343536373839404142434445464748495051525354555657585960616263646566676869707172737475767778798081828384858687888990919293949596979899done.\n"
     ]
    }
   ],
   "source": [
    "!plink --bfile {hp_fn} --geno 0.1 --maf 0.05 --make-bed --out {\"_\".join([hp_fn, \"qc\"])}"
   ]
  },
  {
   "cell_type": "markdown",
   "metadata": {},
   "source": [
    "Now we use PLINK to compute the first few principal components of the relatedness matrix. <br>\n",
    "This will help us to visualize the population structure."
   ]
  },
  {
   "cell_type": "code",
   "execution_count": 52,
   "metadata": {},
   "outputs": [
    {
     "name": "stdout",
     "output_type": "stream",
     "text": [
      "PLINK v1.90b6.12 64-bit (28 Oct 2019)          www.cog-genomics.org/plink/1.9/\n",
      "(C) 2005-2019 Shaun Purcell, Christopher Chang   GNU General Public License v3\n",
      "Logging to data/genotyping/PPMI_HM_qc.log.\n",
      "Options in effect:\n",
      "  --bfile data/genotyping/PPMI_HM_qc\n",
      "  --out data/genotyping/PPMI_HM_qc\n",
      "  --pca 20\n",
      "\n",
      "16384 MB RAM detected; reserving 8192 MB for main workspace.\n",
      "43248 variants loaded from .bim file.\n",
      "1499 people (829 males, 670 females) loaded from .fam.\n",
      "Using up to 15 threads (change this with --threads).\n",
      "Before main variant filters, 1499 founders and 0 nonfounders present.\n",
      "Calculating allele frequencies... 10111213141516171819202122232425262728293031323334353637383940414243444546474849505152535455565758596061626364656667686970717273747576777879808182838485868788899091929394959697989 done.\n",
      "Total genotyping rate is 0.997994.\n",
      "43248 variants and 1499 people pass filters and QC.\n",
      "Note: No phenotypes present.\n",
      "Relationship matrix calculation complete.\n",
      "--pca: Results saved to data/genotyping/PPMI_HM_qc.eigenval and\n",
      "data/genotyping/PPMI_HM_qc.eigenvec .\n"
     ]
    }
   ],
   "source": [
    "!plink --bfile {\"_\".join([hp_fn, \"qc\"])} --pca 20 --out {\"_\".join([hp_fn, \"qc\"])} "
   ]
  },
  {
   "cell_type": "code",
   "execution_count": 53,
   "metadata": {},
   "outputs": [
    {
     "data": {
      "text/html": [
       "<div>\n",
       "<style scoped>\n",
       "    .dataframe tbody tr th:only-of-type {\n",
       "        vertical-align: middle;\n",
       "    }\n",
       "\n",
       "    .dataframe tbody tr th {\n",
       "        vertical-align: top;\n",
       "    }\n",
       "\n",
       "    .dataframe thead th {\n",
       "        text-align: right;\n",
       "    }\n",
       "</style>\n",
       "<table border=\"1\" class=\"dataframe\">\n",
       "  <thead>\n",
       "    <tr style=\"text-align: right;\">\n",
       "      <th></th>\n",
       "      <th>FID</th>\n",
       "      <th>IID</th>\n",
       "      <th>PC1</th>\n",
       "      <th>PC2</th>\n",
       "      <th>PC3</th>\n",
       "      <th>PC4</th>\n",
       "      <th>PC5</th>\n",
       "      <th>PC6</th>\n",
       "      <th>PC7</th>\n",
       "      <th>PC8</th>\n",
       "      <th>...</th>\n",
       "      <th>PC11</th>\n",
       "      <th>PC12</th>\n",
       "      <th>PC13</th>\n",
       "      <th>PC14</th>\n",
       "      <th>PC15</th>\n",
       "      <th>PC16</th>\n",
       "      <th>PC17</th>\n",
       "      <th>PC18</th>\n",
       "      <th>PC19</th>\n",
       "      <th>PC20</th>\n",
       "    </tr>\n",
       "  </thead>\n",
       "  <tbody>\n",
       "    <tr>\n",
       "      <th>0</th>\n",
       "      <td>3000</td>\n",
       "      <td>3000</td>\n",
       "      <td>0.014199</td>\n",
       "      <td>-0.022363</td>\n",
       "      <td>0.005330</td>\n",
       "      <td>-0.007857</td>\n",
       "      <td>0.007212</td>\n",
       "      <td>0.013383</td>\n",
       "      <td>0.010641</td>\n",
       "      <td>-0.004949</td>\n",
       "      <td>...</td>\n",
       "      <td>-0.029566</td>\n",
       "      <td>-0.020125</td>\n",
       "      <td>-0.029422</td>\n",
       "      <td>0.011722</td>\n",
       "      <td>-0.003471</td>\n",
       "      <td>0.015556</td>\n",
       "      <td>0.040779</td>\n",
       "      <td>-0.054679</td>\n",
       "      <td>0.036779</td>\n",
       "      <td>-0.010776</td>\n",
       "    </tr>\n",
       "    <tr>\n",
       "      <th>1</th>\n",
       "      <td>3001</td>\n",
       "      <td>3001</td>\n",
       "      <td>0.014259</td>\n",
       "      <td>-0.022726</td>\n",
       "      <td>0.009665</td>\n",
       "      <td>0.002360</td>\n",
       "      <td>0.008867</td>\n",
       "      <td>0.003409</td>\n",
       "      <td>-0.002289</td>\n",
       "      <td>-0.011102</td>\n",
       "      <td>...</td>\n",
       "      <td>-0.006368</td>\n",
       "      <td>0.007559</td>\n",
       "      <td>-0.006933</td>\n",
       "      <td>0.024344</td>\n",
       "      <td>-0.050017</td>\n",
       "      <td>0.015054</td>\n",
       "      <td>0.023612</td>\n",
       "      <td>0.030105</td>\n",
       "      <td>-0.015304</td>\n",
       "      <td>-0.001240</td>\n",
       "    </tr>\n",
       "    <tr>\n",
       "      <th>2</th>\n",
       "      <td>3002</td>\n",
       "      <td>3002</td>\n",
       "      <td>0.013718</td>\n",
       "      <td>-0.019740</td>\n",
       "      <td>0.007748</td>\n",
       "      <td>0.004200</td>\n",
       "      <td>0.012205</td>\n",
       "      <td>0.007144</td>\n",
       "      <td>-0.058856</td>\n",
       "      <td>-0.015514</td>\n",
       "      <td>...</td>\n",
       "      <td>-0.029435</td>\n",
       "      <td>0.016537</td>\n",
       "      <td>0.008505</td>\n",
       "      <td>0.036425</td>\n",
       "      <td>0.001925</td>\n",
       "      <td>0.005491</td>\n",
       "      <td>0.022792</td>\n",
       "      <td>-0.017242</td>\n",
       "      <td>0.031872</td>\n",
       "      <td>0.009745</td>\n",
       "    </tr>\n",
       "    <tr>\n",
       "      <th>3</th>\n",
       "      <td>3004</td>\n",
       "      <td>3004</td>\n",
       "      <td>0.015421</td>\n",
       "      <td>-0.022612</td>\n",
       "      <td>0.005892</td>\n",
       "      <td>-0.007516</td>\n",
       "      <td>0.010274</td>\n",
       "      <td>0.002451</td>\n",
       "      <td>0.016992</td>\n",
       "      <td>0.004550</td>\n",
       "      <td>...</td>\n",
       "      <td>0.003034</td>\n",
       "      <td>0.011353</td>\n",
       "      <td>-0.019769</td>\n",
       "      <td>0.000459</td>\n",
       "      <td>-0.015540</td>\n",
       "      <td>-0.029349</td>\n",
       "      <td>0.016942</td>\n",
       "      <td>0.026551</td>\n",
       "      <td>0.031799</td>\n",
       "      <td>0.003434</td>\n",
       "    </tr>\n",
       "    <tr>\n",
       "      <th>4</th>\n",
       "      <td>3006</td>\n",
       "      <td>3006</td>\n",
       "      <td>0.016211</td>\n",
       "      <td>-0.018947</td>\n",
       "      <td>-0.000547</td>\n",
       "      <td>-0.002796</td>\n",
       "      <td>0.003093</td>\n",
       "      <td>0.022201</td>\n",
       "      <td>0.004152</td>\n",
       "      <td>0.036022</td>\n",
       "      <td>...</td>\n",
       "      <td>-0.047044</td>\n",
       "      <td>0.010629</td>\n",
       "      <td>0.020218</td>\n",
       "      <td>-0.029900</td>\n",
       "      <td>-0.014717</td>\n",
       "      <td>-0.023586</td>\n",
       "      <td>0.031074</td>\n",
       "      <td>0.043454</td>\n",
       "      <td>-0.022936</td>\n",
       "      <td>0.029820</td>\n",
       "    </tr>\n",
       "  </tbody>\n",
       "</table>\n",
       "<p>5 rows × 22 columns</p>\n",
       "</div>"
      ],
      "text/plain": [
       "    FID   IID       PC1       PC2       PC3       PC4       PC5       PC6  \\\n",
       "0  3000  3000  0.014199 -0.022363  0.005330 -0.007857  0.007212  0.013383   \n",
       "1  3001  3001  0.014259 -0.022726  0.009665  0.002360  0.008867  0.003409   \n",
       "2  3002  3002  0.013718 -0.019740  0.007748  0.004200  0.012205  0.007144   \n",
       "3  3004  3004  0.015421 -0.022612  0.005892 -0.007516  0.010274  0.002451   \n",
       "4  3006  3006  0.016211 -0.018947 -0.000547 -0.002796  0.003093  0.022201   \n",
       "\n",
       "        PC7       PC8  ...      PC11      PC12      PC13      PC14      PC15  \\\n",
       "0  0.010641 -0.004949  ... -0.029566 -0.020125 -0.029422  0.011722 -0.003471   \n",
       "1 -0.002289 -0.011102  ... -0.006368  0.007559 -0.006933  0.024344 -0.050017   \n",
       "2 -0.058856 -0.015514  ... -0.029435  0.016537  0.008505  0.036425  0.001925   \n",
       "3  0.016992  0.004550  ...  0.003034  0.011353 -0.019769  0.000459 -0.015540   \n",
       "4  0.004152  0.036022  ... -0.047044  0.010629  0.020218 -0.029900 -0.014717   \n",
       "\n",
       "       PC16      PC17      PC18      PC19      PC20  \n",
       "0  0.015556  0.040779 -0.054679  0.036779 -0.010776  \n",
       "1  0.015054  0.023612  0.030105 -0.015304 -0.001240  \n",
       "2  0.005491  0.022792 -0.017242  0.031872  0.009745  \n",
       "3 -0.029349  0.016942  0.026551  0.031799  0.003434  \n",
       "4 -0.023586  0.031074  0.043454 -0.022936  0.029820  \n",
       "\n",
       "[5 rows x 22 columns]"
      ]
     },
     "execution_count": 53,
     "metadata": {},
     "output_type": "execute_result"
    }
   ],
   "source": [
    "hp_pca = pd.read_csv(\n",
    "    \"_\".join([hp_fn, \"qc.eigenvec\"]),\n",
    "    sep=\" \",\n",
    "    header=None\n",
    ")\n",
    "cnames = ['FID','IID']\n",
    "for i in range(1,21):\n",
    "    cnames.append(\"PC\"+str(i))\n",
    "hp_pca.columns = cnames\n",
    "hp_pca.head()"
   ]
  },
  {
   "cell_type": "code",
   "execution_count": 56,
   "metadata": {},
   "outputs": [
    {
     "data": {
      "text/plain": [
       "Text(0, 0.5, 'PC2')"
      ]
     },
     "execution_count": 56,
     "metadata": {},
     "output_type": "execute_result"
    },
    {
     "data": {
      "image/png": "[encoded data removed]",
      "text/plain": [
       "<Figure size 576x576 with 1 Axes>"
      ]
     },
     "metadata": {
      "needs_background": "light"
     },
     "output_type": "display_data"
    }
   ],
   "source": [
    "def assign_pop(pop):\n",
    "    if pop.isdigit():\n",
    "        return \"PPMI\"\n",
    "    return pop\n",
    "hp_pca[\"FID\"] = hp_pca.apply(lambda x : assign_pop(x[0]), axis=1)\n",
    "\n",
    "# plot population structure\n",
    "palette = [\n",
    "    \"#000000\", \n",
    "    \"#fbb696\", \n",
    "    \"#913502\", \n",
    "    \"#b48060\", \n",
    "    \"#724a20\", \n",
    "    \"#ffb55f\", \n",
    "    \"#108300\", \n",
    "    \"#006435\", \n",
    "    \"#59dda7\", \n",
    "    \"#508aff\", \n",
    "    \"#53459f\", \n",
    "    \"#cd87ff\"\n",
    "]\n",
    "\n",
    "# PC1 vs PC2\n",
    "plt.figure(figsize=(8,8))\n",
    "sns.scatterplot(data=hp_pca, x=\"PC1\", y=\"PC2\", hue=\"FID\", palette=palette)\n",
    "plt.title(\"Population structure\", size=16)\n",
    "plt.xlabel(\"PC1\", size=14)\n",
    "plt.ylabel(\"PC2\", size=14)"
   ]
  },
  {
   "cell_type": "code",
   "execution_count": 57,
   "metadata": {},
   "outputs": [
    {
     "data": {
      "text/plain": [
       "Text(0, 0.5, 'PC3')"
      ]
     },
     "execution_count": 57,
     "metadata": {},
     "output_type": "execute_result"
    },
    {
     "data": {
      "image/png": "[encoded data removed]",
      "text/plain": [
       "<Figure size 576x576 with 1 Axes>"
      ]
     },
     "metadata": {
      "needs_background": "light"
     },
     "output_type": "display_data"
    }
   ],
   "source": [
    "# PC2 vs PC3\n",
    "plt.figure(figsize=(8,8))\n",
    "sns.scatterplot(data=hp_pca, x=\"PC2\", y=\"PC3\", hue=\"FID\", palette=palette)\n",
    "plt.title(\"Population structure\", size=16)\n",
    "plt.xlabel(\"PC2\", size=14)\n",
    "plt.ylabel(\"PC3\", size=14)"
   ]
  },
  {
   "cell_type": "markdown",
   "metadata": {},
   "source": [
    "We now select only those subjects of European (CEU and TSI) ancestry."
   ]
  },
  {
   "cell_type": "code",
   "execution_count": 58,
   "metadata": {},
   "outputs": [
    {
     "data": {
      "text/html": [
       "<div>\n",
       "<style scoped>\n",
       "    .dataframe tbody tr th:only-of-type {\n",
       "        vertical-align: middle;\n",
       "    }\n",
       "\n",
       "    .dataframe tbody tr th {\n",
       "        vertical-align: top;\n",
       "    }\n",
       "\n",
       "    .dataframe thead th {\n",
       "        text-align: right;\n",
       "    }\n",
       "</style>\n",
       "<table border=\"1\" class=\"dataframe\">\n",
       "  <thead>\n",
       "    <tr style=\"text-align: right;\">\n",
       "      <th></th>\n",
       "      <th>PC1</th>\n",
       "      <th>PC2</th>\n",
       "      <th>PC3</th>\n",
       "      <th>PC4</th>\n",
       "      <th>PC5</th>\n",
       "    </tr>\n",
       "  </thead>\n",
       "  <tbody>\n",
       "    <tr>\n",
       "      <th>0</th>\n",
       "      <td>0.049471</td>\n",
       "      <td>-0.437687</td>\n",
       "      <td>-0.339140</td>\n",
       "      <td>-1.000899</td>\n",
       "      <td>0.145310</td>\n",
       "    </tr>\n",
       "    <tr>\n",
       "      <th>1</th>\n",
       "      <td>0.097057</td>\n",
       "      <td>-0.672377</td>\n",
       "      <td>0.182176</td>\n",
       "      <td>0.268751</td>\n",
       "      <td>0.305452</td>\n",
       "    </tr>\n",
       "    <tr>\n",
       "      <th>2</th>\n",
       "      <td>-0.336265</td>\n",
       "      <td>1.258896</td>\n",
       "      <td>-0.048404</td>\n",
       "      <td>0.497407</td>\n",
       "      <td>0.628326</td>\n",
       "    </tr>\n",
       "    <tr>\n",
       "      <th>3</th>\n",
       "      <td>1.028431</td>\n",
       "      <td>-0.598568</td>\n",
       "      <td>-0.271582</td>\n",
       "      <td>-0.958484</td>\n",
       "      <td>0.441488</td>\n",
       "    </tr>\n",
       "    <tr>\n",
       "      <th>4</th>\n",
       "      <td>1.661231</td>\n",
       "      <td>1.772199</td>\n",
       "      <td>-1.046118</td>\n",
       "      <td>-0.371996</td>\n",
       "      <td>-0.253007</td>\n",
       "    </tr>\n",
       "  </tbody>\n",
       "</table>\n",
       "</div>"
      ],
      "text/plain": [
       "        PC1       PC2       PC3       PC4       PC5\n",
       "0  0.049471 -0.437687 -0.339140 -1.000899  0.145310\n",
       "1  0.097057 -0.672377  0.182176  0.268751  0.305452\n",
       "2 -0.336265  1.258896 -0.048404  0.497407  0.628326\n",
       "3  1.028431 -0.598568 -0.271582 -0.958484  0.441488\n",
       "4  1.661231  1.772199 -1.046118 -0.371996 -0.253007"
      ]
     },
     "execution_count": 58,
     "metadata": {},
     "output_type": "execute_result"
    }
   ],
   "source": [
    "# we measure the distance from the central european (CEU) and italian (TSI) cluster\n",
    "hp_ceu = hp_pca[(hp_pca.FID =='CEU') | (hp_pca.FID =='TSI')]\n",
    "ceu_means = hp_ceu.loc[:,'PC1':'PC5'].apply(np.mean)\n",
    "ceu_sds   = hp_ceu.loc[:,'PC1':'PC5'].apply(np.std)\n",
    "\n",
    "#compute z-scores for PPMI subjects\n",
    "ppmi_pca = hp_pca[hp_pca.FID == \"PPMI\"]\n",
    "ppmi_ceu_z = ppmi_pca.loc[:,'PC1':'PC5'].apply(lambda x: (x - ceu_means)/ceu_sds, axis=1)\n",
    "\n",
    "ppmi_ceu_z.head()"
   ]
  },
  {
   "cell_type": "code",
   "execution_count": 70,
   "metadata": {},
   "outputs": [
    {
     "data": {
      "image/png": "[encoded data removed]",
      "text/plain": [
       "<Figure size 576x576 with 1 Axes>"
      ]
     },
     "metadata": {
      "needs_background": "light"
     },
     "output_type": "display_data"
    }
   ],
   "source": [
    "keep_ppmi = ppmi_ceu_z.apply(lambda x: abs(x) > 6).apply(np.sum,axis=1) == 0\n",
    "\n",
    "ppmi_color=[\"b\"] * len(keep_ppmi)\n",
    "idx = [i for i, x in enumerate(keep_ppmi.values) if not x]\n",
    "for i in idx:\n",
    "    ppmi_color[i] = \"r\"\n",
    "\n",
    "cuse = hp_pca.apply(lambda x: \"#000000\", axis=1)\n",
    "plt.figure(figsize=(8,8))\n",
    "sns.scatterplot(data=hp_pca, x=\"PC1\", y=\"PC2\", hue=\"FID\", palette=palette)\n",
    "plt.scatter(ppmi_pca.PC1, ppmi_pca.PC2, s=2, c=ppmi_color)\n",
    "plt.title(\"Population structure\", size=16)\n",
    "plt.xlabel(\"PC1\", size=14)\n",
    "plt.ylabel(\"PC2\", size=14)\n",
    "plt.show()"
   ]
  },
  {
   "cell_type": "code",
   "execution_count": 71,
   "metadata": {},
   "outputs": [
    {
     "name": "stdout",
     "output_type": "stream",
     "text": [
      "PLINK v1.90b6.12 64-bit (28 Oct 2019)          www.cog-genomics.org/plink/1.9/\n",
      "(C) 2005-2019 Shaun Purcell, Christopher Chang   GNU General Public License v3\n",
      "Logging to data/genotyping/PPMI_merge_ceu.log.\n",
      "Options in effect:\n",
      "  --bfile data/genotyping/PPMI_merge_snp\n",
      "  --keep data/genotyping/ceu_subjs.txt\n",
      "  --make-bed\n",
      "  --out data/genotyping/PPMI_merge_ceu\n",
      "\n",
      "16384 MB RAM detected; reserving 8192 MB for main workspace.\n",
      "153609 variants loaded from .bim file.\n",
      "511 people (341 males, 170 females) loaded from .fam.\n",
      "--keep: 480 people remaining.\n",
      "Using 1 thread (no multithreaded calculations invoked).\n",
      "Before main variant filters, 480 founders and 0 nonfounders present.\n",
      "Calculating allele frequencies... 10111213141516171819202122232425262728293031323334353637383940414243444546474849505152535455565758596061626364656667686970717273747576777879808182838485868788899091929394959697989 done.\n",
      "Total genotyping rate in remaining samples is 0.99786.\n",
      "153609 variants and 480 people pass filters and QC.\n",
      "Note: No phenotypes present.\n",
      "--make-bed to data/genotyping/PPMI_merge_ceu.bed +\n",
      "data/genotyping/PPMI_merge_ceu.bim + data/genotyping/PPMI_merge_ceu.fam ...\n",
      "101112131415161718192021222324252627282930313233343536373839404142434445464748495051525354555657585960616263646566676869707172737475767778798081828384858687888990919293949596979899done.\n"
     ]
    }
   ],
   "source": [
    "ppmi_pca_ceu = ppmi_pca[keep_ppmi]\n",
    "pd.DataFrame(\n",
    "    zip(ppmi_pca_ceu.IID.tolist(), ppmi_pca_ceu.IID.tolist())\n",
    ").to_csv(\n",
    "    \"data/genotyping/ceu_subjs.txt\",\n",
    "    sep=\" \",\n",
    "    index=False,\n",
    "    header=False\n",
    ")\n",
    "\n",
    "# call plink\n",
    "!plink --bfile {\"_\".join([ppmi_merge_fn, \"snp\"])} --keep data/genotyping/ceu_subjs.txt --make-bed --out {\"_\".join([ppmi_merge_fn, \"ceu\"])}"
   ]
  },
  {
   "cell_type": "markdown",
   "metadata": {},
   "source": [
    "We can now recover the subset of samples with complete genotyping, transcriptomic and neuroimaging data for the following analyses. <br>\n",
    "We also recompute the first 20 PCs of the relatedness matrix which will be used during SNP-phenotype associations."
   ]
  },
  {
   "cell_type": "code",
   "execution_count": 68,
   "metadata": {},
   "outputs": [
    {
     "name": "stdout",
     "output_type": "stream",
     "text": [
      "PLINK v1.90b6.12 64-bit (28 Oct 2019)          www.cog-genomics.org/plink/1.9/\n",
      "(C) 2005-2019 Shaun Purcell, Christopher Chang   GNU General Public License v3\n",
      "Logging to data/genotyping/PPMI_merge_final.log.\n",
      "Options in effect:\n",
      "  --bfile data/genotyping/PPMI_merge_ceu\n",
      "  --keep data/pheno/rnaseq_subjs.txt\n",
      "  --make-bed\n",
      "  --out data/genotyping/PPMI_merge_final\n",
      "\n",
      "16384 MB RAM detected; reserving 8192 MB for main workspace.\n",
      "153609 variants loaded from .bim file.\n",
      "478 people (320 males, 158 females) loaded from .fam.\n",
      "--keep: 260 people remaining.\n",
      "Using 1 thread (no multithreaded calculations invoked).\n",
      "Before main variant filters, 260 founders and 0 nonfounders present.\n",
      "Calculating allele frequencies... 10111213141516171819202122232425262728293031323334353637383940414243444546474849505152535455565758596061626364656667686970717273747576777879808182838485868788899091929394959697989 done.\n",
      "Total genotyping rate in remaining samples is 0.997763.\n",
      "153609 variants and 260 people pass filters and QC.\n",
      "Note: No phenotypes present.\n",
      "--make-bed to data/genotyping/PPMI_merge_final.bed +\n",
      "data/genotyping/PPMI_merge_final.bim + data/genotyping/PPMI_merge_final.fam ...\n",
      "101112131415161718192021222324252627282930313233343536373839404142434445464748495051525354555657585960616263646566676869707172737475767778798081828384858687888990919293949596979899done.\n"
     ]
    }
   ],
   "source": [
    "!plink --bfile {\"_\".join([ppmi_merge_fn, \"ceu\"])} --keep {os.path.join(pheno_path, \"rnaseq_subjs.txt\")} --make-bed --out {os.path.join(genotyping_path, \"PPMI_merge_final\")} "
   ]
  },
  {
   "cell_type": "code",
   "execution_count": 69,
   "metadata": {},
   "outputs": [
    {
     "name": "stdout",
     "output_type": "stream",
     "text": [
      "PLINK v1.90b6.12 64-bit (28 Oct 2019)          www.cog-genomics.org/plink/1.9/\n",
      "(C) 2005-2019 Shaun Purcell, Christopher Chang   GNU General Public License v3\n",
      "Logging to data/genotyping/PPMI_merge_final.log.\n",
      "Options in effect:\n",
      "  --bfile data/genotyping/PPMI_merge_final\n",
      "  --out data/genotyping/PPMI_merge_final\n",
      "  --pca 20\n",
      "\n",
      "16384 MB RAM detected; reserving 8192 MB for main workspace.\n",
      "153609 variants loaded from .bim file.\n",
      "260 people (168 males, 92 females) loaded from .fam.\n",
      "Using up to 15 threads (change this with --threads).\n",
      "Before main variant filters, 260 founders and 0 nonfounders present.\n",
      "Calculating allele frequencies... 10111213141516171819202122232425262728293031323334353637383940414243444546474849505152535455565758596061626364656667686970717273747576777879808182838485868788899091929394959697989 done.\n",
      "Total genotyping rate is 0.997763.\n",
      "153609 variants and 260 people pass filters and QC.\n",
      "Note: No phenotypes present.\n",
      "Relationship matrix calculation complete.\n",
      "--pca: Results saved to data/genotyping/PPMI_merge_final.eigenval and\n",
      "data/genotyping/PPMI_merge_final.eigenvec .\n"
     ]
    }
   ],
   "source": [
    "!plink --bfile {os.path.join(genotyping_path, \"PPMI_merge_final\")}  --pca 20 --out {os.path.join(genotyping_path, \"PPMI_merge_final\")} "
   ]
  },
  {
   "cell_type": "code",
   "execution_count": null,
   "metadata": {},
   "outputs": [],
   "source": []
  }
 ],
 "metadata": {
  "kernelspec": {
   "display_name": "Python 3",
   "language": "python",
   "name": "python3"
  },
  "language_info": {
   "codemirror_mode": {
    "name": "ipython",
    "version": 3
   },
   "file_extension": ".py",
   "mimetype": "text/x-python",
   "name": "python",
   "nbconvert_exporter": "python",
   "pygments_lexer": "ipython3",
   "version": "3.7.3"
  }
 },
 "nbformat": 4,
 "nbformat_minor": 2
}
