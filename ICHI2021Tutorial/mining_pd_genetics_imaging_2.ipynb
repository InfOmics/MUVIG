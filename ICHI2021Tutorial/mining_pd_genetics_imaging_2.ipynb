{
 "cells": [
  {
   "cell_type": "markdown",
   "metadata": {},
   "source": [
    "# Mining genetic, transcriptomic and imaging data in Parkinson’s disease - 1 "
   ]
  },
  {
   "cell_type": "code",
   "execution_count": null,
   "metadata": {},
   "outputs": [],
   "source": [
    "from IPython.display import Image, display\n",
    "from matplotlib_venn import venn3\n",
    "from scipy.stats import norm\n",
    "\n",
    "import matplotlib.pyplot as plt\n",
    "import seaborn as sns\n",
    "import pandas as pd\n",
    "import numpy as np\n",
    "\n",
    "import subprocess\n",
    "import math\n",
    "import sys\n",
    "import os"
   ]
  },
  {
   "cell_type": "markdown",
   "metadata": {},
   "source": [
    "## Introduction"
   ]
  },
  {
   "cell_type": "markdown",
   "metadata": {},
   "source": [
    "#### Required software\n",
    "\n",
    "- Plink (v1.9b)\n",
    "\n",
    "#### Overview\n",
    "GWA studies on complex diseases focus on statistical association between SNP and single phenotypes. However, several studies showed that one genetic variant can affect different traits (pleiotropy), particularly in complex diseases.<br>\n",
    "Therefore, considering single phenotypic traits could result in a loss of statistical power in the identification of genetic mechanisms underlying complex diseases. Instead, taking into account multiple correlated phenotypes can improve the discovery of genetic variants, which could influence different traits underlying the onset of the studied complex disease providing new potential biological insights.<br>\n",
    "\n",
    "Currently there are two main approaches to analyze multivariate phenotypes:\n",
    "-  computing summary statistics from univariate analysis (namely individual GWAS)\n",
    "-  providing generalized models combining phenotypic measures used to test for variant-trait associations\n",
    "\n",
    "Here we apply to our data both these approaches, showing that exploring data from different perspectives improve our results. In the following we also show how to combine and validate these results using transcriptomic data."
   ]
  },
  {
   "cell_type": "code",
   "execution_count": null,
   "metadata": {},
   "outputs": [],
   "source": [
    "genotyping_path = \"data/genotyping/\"\n",
    "pheno_path = \"data/pheno/\"\n",
    "gwasres_path = \"resultsGWAS/\""
   ]
  },
  {
   "cell_type": "markdown",
   "metadata": {},
   "source": [
    "## Let's prepare data for GWAS !"
   ]
  },
  {
   "cell_type": "markdown",
   "metadata": {},
   "source": [
    "Let's begin by loading our phenotype data."
   ]
  },
  {
   "cell_type": "code",
   "execution_count": null,
   "metadata": {},
   "outputs": [],
   "source": [
    "pheno = pd.read_csv(\n",
    "    os.path.join(pheno_path, \"PPMI-baseline_pheno.csv\")\n",
    ")\n",
    "pheno.head()"
   ]
  },
  {
   "cell_type": "markdown",
   "metadata": {},
   "source": [
    "In addition to the genome-wide genetic data, plink requres a phenotype file, and a file for the confounds. <br>\n",
    "In python we can generate those quite quickly from our ```pheno``` data frame.\n",
    "\n",
    "So, let's begin by creating the phenotype file!"
   ]
  },
  {
   "cell_type": "code",
   "execution_count": null,
   "metadata": {},
   "outputs": [],
   "source": [
    "# phenotype files for DaTscan\n",
    "pheno_fn = os.path.join(gwasres_path, \"individualView/pheno_datscan.txt\")\n",
    "pheno_datscan = pheno.loc[:,[\"PATNO\", \"ENROLL_CAT\", \"CAUDATE_R_norm\", \"CAUDATE_L_norm\", \"PUTAMEN_R_norm\", \"PUTAMEN_L_norm\"]]\n",
    "# plink requires FID + IID for all samples\n",
    "pheno_datscan[\"FID\"] = pheno_datscan[\"PATNO\"]\n",
    "# move FID and IID to first two columns\n",
    "cols = pheno_datscan.columns.tolist()\n",
    "cols = cols[-1:] + cols[:-1] \n",
    "pheno_datscan = pheno_datscan[cols]\n",
    "pheno_datscan = pheno_datscan.rename({\"PATNO\":\"IID\"}, axis=1)\n",
    "pheno_datscan.to_csv(\n",
    "    pheno_fn,\n",
    "    header=True,\n",
    "    index=False,\n",
    "    sep=\" \"\n",
    ")\n",
    "\n",
    "pheno_fn = os.path.join(gwasres_path, \"integratedView/pheno_datscan.txt\")\n",
    "pheno_datscan = pheno.loc[:,[\"PATNO\", \"ENROLL_CAT\", \"DPS_DaTscan\"]]\n",
    "# plink requires FID + IID for all samples\n",
    "pheno_datscan[\"FID\"] = pheno_datscan[\"PATNO\"]\n",
    "# move FID and IID to first two columns\n",
    "cols = pheno_datscan.columns.tolist()\n",
    "cols = cols[-1:] + cols[:-1] \n",
    "pheno_datscan = pheno_datscan[cols]\n",
    "pheno_datscan = pheno_datscan.rename({\"PATNO\":\"IID\"}, axis=1)\n",
    "pheno_datscan.to_csv(\n",
    "    pheno_fn,\n",
    "    header=True,\n",
    "    index=False,\n",
    "    sep=\" \"\n",
    ")"
   ]
  },
  {
   "cell_type": "code",
   "execution_count": null,
   "metadata": {},
   "outputs": [],
   "source": [
    "# phenotype files for MRI\n",
    "pheno_fn = os.path.join(gwasres_path, \"individualView/pheno_mri.txt\")\n",
    "pheno_mri = pheno.loc[\n",
    "    :,[\n",
    "        \"PATNO\", \n",
    "        \"ENROLL_CAT\", \n",
    "        \"rh_parahippocampal_area_norm\", \n",
    "        \"lh_parahippocampal_area_norm\",\n",
    "        \"rh_parahippocampal_volume_norm\", \n",
    "        \"lh_parahippocampal_volume_norm\",\n",
    "        \"rh_parahippocampal_thickness_norm\",\n",
    "        \"lh_parahippocampal_thickness_norm\"\n",
    "    ]\n",
    "]\n",
    "# plink requires FID + IID for all samples\n",
    "pheno_mri[\"FID\"] = pheno_mri[\"PATNO\"]\n",
    "# move FID and IID to first two columns\n",
    "cols = pheno_mri.columns.tolist()\n",
    "cols = cols[-1:] + cols[:-1] \n",
    "pheno_mri = pheno_mri[cols]\n",
    "pheno_mri = pheno_mri.rename({\"PATNO\":\"IID\"}, axis=1)\n",
    "pheno_mri.to_csv(\n",
    "    pheno_fn,\n",
    "    header=True,\n",
    "    index=False,\n",
    "    sep=\" \"\n",
    ")\n",
    "\n",
    "pheno_fn = os.path.join(gwasres_path, \"integratedView/pheno_mri.txt\")\n",
    "pheno_mri = pheno.loc[:,[\"PATNO\", \"ENROLL_CAT\", \"DPS_MRI\"]]\n",
    "# plink requires FID + IID for all samples\n",
    "pheno_mri[\"FID\"] = pheno_mri[\"PATNO\"]\n",
    "# move FID and IID to first two columns\n",
    "cols = pheno_mri.columns.tolist()\n",
    "cols = cols[-1:] + cols[:-1] \n",
    "pheno_mri = pheno_mri[cols]\n",
    "pheno_mri = pheno_mri.rename({\"PATNO\":\"IID\"}, axis=1)\n",
    "pheno_mri.to_csv(\n",
    "    pheno_fn,\n",
    "    header=True,\n",
    "    index=False,\n",
    "    sep=\" \"\n",
    ")"
   ]
  },
  {
   "cell_type": "markdown",
   "metadata": {},
   "source": [
    "And create the covariate file..."
   ]
  },
  {
   "cell_type": "code",
   "execution_count": null,
   "metadata": {},
   "outputs": [],
   "source": [
    "# take age category, gender and years of education\n",
    "covariate_fn = os.path.join(gwasres_path, \"covariate.txt\")\n",
    "covariate = pheno.loc[:,[\"PATNO\", \"age_cat\", \"gen\", \"educ\"]]\n",
    "# add relatedness matrix PCs\n",
    "ppmi_ceu_pca = pd.read_csv(\n",
    "    os.path.join(genotyping_path, \"PPMI_merge_final.eigenvec\"),\n",
    "    sep=\"\\s+\",\n",
    "    header=None\n",
    ")\n",
    "cnames = [\"FID\",\"IID\"]\n",
    "for i in range(1,21):\n",
    "    cnames.append(\"PC\"+str(i))\n",
    "ppmi_ceu_pca.columns = cnames\n",
    "covariate = covariate.merge(ppmi_ceu_pca, left_on=\"PATNO\", right_on=\"FID\").drop([\"PATNO\"], axis=1)\n",
    "# put FID and IID on front\n",
    "cols = covariate.columns.tolist()\n",
    "cols = [cols[3], cols[4]] + cols[:3] + cols[5:] \n",
    "covariate = covariate[cols]\n",
    "covariate.to_csv(\n",
    "    covariate_fn,\n",
    "    header=True,\n",
    "    index=False,\n",
    "    sep=\" \"\n",
    ")"
   ]
  },
  {
   "cell_type": "markdown",
   "metadata": {},
   "source": [
    "Now, finally we have everything to run our GWAS!"
   ]
  },
  {
   "cell_type": "markdown",
   "metadata": {},
   "source": [
    "## Individual View"
   ]
  },
  {
   "cell_type": "markdown",
   "metadata": {},
   "source": [
    "*Individual View* focuses on finding potential genetic biomarkers by interpolating genotyping and neuroimaging data, considering phenotypic traits individually.<br> \n",
    "In other words, we apply to our data the first GWAS approach previously described!\n",
    "\n",
    "Let's perform GWAS analysis with Plink on DaTscan!"
   ]
  },
  {
   "cell_type": "code",
   "execution_count": null,
   "metadata": {},
   "outputs": [],
   "source": [
    "pheno_datscan_fn = os.path.join(gwasres_path, \"individualView/pheno_datscan.txt\")\n",
    "!plink --bfile {os.path.join(genotyping_path, \"PPMI_merge_final\")} --pheno {pheno_datscan_fn} --all-pheno --covar {covariate_fn} --covar-name age_cat,educ,PC1-PC5 --linear hide-covar sex --out {os.path.join(gwasres_path, \"individualView/DaTscan_results\")} "
   ]
  },
  {
   "cell_type": "markdown",
   "metadata": {},
   "source": [
    "And on MRI phenotypic data..."
   ]
  },
  {
   "cell_type": "code",
   "execution_count": null,
   "metadata": {},
   "outputs": [],
   "source": [
    "pheno_mri_fn = os.path.join(gwasres_path, \"individualView/pheno_mri.txt\")\n",
    "!plink --bfile {os.path.join(genotyping_path, \"PPMI_merge_final\")} --pheno {pheno_mri_fn} --all-pheno --covar {covariate_fn} --covar-name age_cat,educ,PC1-PC5 --linear hide-covar sex --out {os.path.join(gwasres_path, \"individualView/MRI_results\")} "
   ]
  },
  {
   "cell_type": "code",
   "execution_count": null,
   "metadata": {},
   "outputs": [],
   "source": [
    "pd.read_csv(os.path.join(gwasres_path, \"individualView/DaTscan_results.CAUDATE_R_norm.assoc.linear\"), sep=\"\\s+\")\\\n",
    ".sort_values(\"P\", ascending=True)\\\n",
    ".reset_index(drop=True)\\\n",
    ".head()"
   ]
  },
  {
   "cell_type": "markdown",
   "metadata": {},
   "source": [
    "Let's now combine our multivariate GWAS results in a single-trait based summary statistics with TATES!<br>\n",
    "As input TATES requires:\n",
    "- a file named ```defdims``` with execution parameters\n",
    "- a file containing the phenotypes correlation matrix \n",
    "- a file storing the single trait P-values\n",
    "\n",
    "**NB** TATES requires that all input files are in the same directory of TATES executable binary!\n",
    "\n",
    "These files can be easily created with Python. Let's begin with DaTscan!"
   ]
  },
  {
   "cell_type": "code",
   "execution_count": null,
   "metadata": {},
   "outputs": [],
   "source": [
    "tateswd = os.path.join(gwasres_path, \"individualView/\")\n",
    "\n",
    "# compute correlation matrix\n",
    "corrmat_fn = \"corrmat_datscan\"\n",
    "datscan = np.array(pheno_datscan.iloc[:,[3,4,5,6]])\n",
    "corrmat_datascan = np.corrcoef(datscan, rowvar=False)  # observation are on rows\n",
    "corrmat_datascan = np.float32(corrmat_datascan)  # make sure that values are float32\n",
    "pd.DataFrame(corrmat_datascan)\\\n",
    ".to_csv(\n",
    "    os.path.join(tateswd, corrmat_fn),\n",
    "    header=False,\n",
    "    index=False,\n",
    "    sep=\" \"\n",
    ")\n",
    "# pvals file\n",
    "pvals_fn = \"pvals_datscan\"\n",
    "caudate_r = pd.read_csv(os.path.join(gwasres_path, \"individualView/DaTscan_results.CAUDATE_R_norm.assoc.linear\"), sep=\"\\s+\")\n",
    "caudate_l = pd.read_csv(os.path.join(gwasres_path, \"individualView/DaTscan_results.CAUDATE_L_norm.assoc.linear\"), sep=\"\\s+\")\n",
    "putamen_r = pd.read_csv(os.path.join(gwasres_path, \"individualView/DaTscan_results.PUTAMEN_R_norm.assoc.linear\"), sep=\"\\s+\")\n",
    "putamen_l = pd.read_csv(os.path.join(gwasres_path, \"individualView/DaTscan_results.PUTAMEN_L_norm.assoc.linear\"), sep=\"\\s+\")\n",
    "pd.DataFrame(\n",
    "    {\n",
    "        0:caudate_r.iloc[:,0],  # chromosome\n",
    "        1:caudate_r.iloc[:,1],  # SNP name\n",
    "        2:caudate_r.iloc[:,8],  # caudate_r pvals\n",
    "        3:caudate_l.iloc[:,8],  # caudate_l pvals\n",
    "        4:putamen_r.iloc[:,8],  # putamen_r pvals\n",
    "        5:putamen_l.iloc[:,8]   # putamen_l pvals\n",
    "    }\n",
    ")\\\n",
    ".dropna()\\\n",
    ".to_csv(\n",
    "   os.path.join(tateswd, pvals_fn),\n",
    "    header=False,\n",
    "    index=False,\n",
    "    sep=\" \"\n",
    ")\n",
    "# defdims file\n",
    "pheno_num = 4  # 4 phenotypes (DaTscan)\n",
    "corrmat_type = \"full\"  # full correlation matrix\n",
    "snp_num = pd.read_csv(os.path.join(tateswd, pvals_fn), header=None, sep=\" \").shape[0]\n",
    "tatesres_fn = \"DaTscan_tates_results\"\n",
    "towrite = \"{0} {1}\\n{2}\\n{3}\\n{4}\\n{5}\".format(\n",
    "    pheno_num,      # number of phenotype\n",
    "    snp_num,        # number of snps\n",
    "    corrmat_type,   # correlation matrix type\n",
    "    pvals_fn,       # pvals file\n",
    "    corrmat_fn,     # correlation matrix file\n",
    "    tatesres_fn\n",
    ")\n",
    "try:\n",
    "    with open(os.path.join(tateswd, \"defdims\"), mode=\"w+\") as outfile:\n",
    "        outfile.write(towrite)\n",
    "except Exception as e:\n",
    "    raise e\n",
    "finally:\n",
    "    outfile.close()\n",
    "\n",
    "# run TATES from command line\n",
    "cwd = os.getcwd()\n",
    "os.chdir(tateswd)\n",
    "! ./tates\n",
    "os.chdir(cwd)"
   ]
  },
  {
   "cell_type": "markdown",
   "metadata": {},
   "source": [
    "And let's do the same with MRI data..."
   ]
  },
  {
   "cell_type": "code",
   "execution_count": null,
   "metadata": {},
   "outputs": [],
   "source": [
    "pheno_mri.head()"
   ]
  },
  {
   "cell_type": "code",
   "execution_count": null,
   "metadata": {},
   "outputs": [],
   "source": [
    "tateswd = os.path.join(gwasres_path, \"individualView/\")\n",
    "\n",
    "# compute correlation matrix\n",
    "corrmat_fn = \"corrmat_mri\"\n",
    "mri = np.array(pheno_mri.iloc[:,[3,4,5,6,7,8]])\n",
    "corrmat_mri = np.corrcoef(mri, rowvar=False)  # observation are on rows\n",
    "corrmat_mri = np.float32(corrmat_mri)  # make sure that values are float32\n",
    "pd.DataFrame(corrmat_mri)\\\n",
    ".to_csv(\n",
    "    os.path.join(tateswd, corrmat_fn),\n",
    "    header=False,\n",
    "    index=False,\n",
    "    sep=\" \"\n",
    ")\n",
    "# pvals file\n",
    "pvals_fn = \"pvals_mri\"\n",
    "parahippo_area_r = pd.read_csv(os.path.join(gwasres_path, \"individualView/MRI_results.rh_parahippocampal_area_norm.assoc.linear\"), sep=\"\\s+\")\n",
    "parahippo_area_l = pd.read_csv(os.path.join(gwasres_path, \"individualView/MRI_results.lh_parahippocampal_area_norm.assoc.linear\"), sep=\"\\s+\")\n",
    "parahippo_vol_r = pd.read_csv(os.path.join(gwasres_path, \"individualView/MRI_results.rh_parahippocampal_volume_norm.assoc.linear\"), sep=\"\\s+\")\n",
    "parahippo_vol_l = pd.read_csv(os.path.join(gwasres_path, \"individualView/MRI_results.lh_parahippocampal_volume_norm.assoc.linear\"), sep=\"\\s+\")\n",
    "parahippo_thick_r = pd.read_csv(os.path.join(gwasres_path, \"individualView/MRI_results.rh_parahippocampal_thickness_norm.assoc.linear\"), sep=\"\\s+\")\n",
    "parahippo_thick_l = pd.read_csv(os.path.join(gwasres_path, \"individualView/MRI_results.lh_parahippocampal_thickness_norm.assoc.linear\"), sep=\"\\s+\")\n",
    "pd.DataFrame(\n",
    "    {\n",
    "        0:parahippo_area_r.iloc[:,0],  # chromosome\n",
    "        1:parahippo_area_r.iloc[:,1],  # SNP name\n",
    "        2:parahippo_area_r.iloc[:,8],  # parahippo_area_r pvals\n",
    "        3:parahippo_area_l.iloc[:,8],  # parahippo_area_l pvals\n",
    "        4:parahippo_vol_r.iloc[:,8],   # parahippo_volume_r pvals\n",
    "        5:parahippo_vol_l.iloc[:,8],   # parahippo_volume_l pvals\n",
    "        6:parahippo_thick_r.iloc[:,8], # parahippo_thickness_r pvals\n",
    "        7:parahippo_thick_l.iloc[:,8]  # parahippo_thickness_l pvals\n",
    "    }\n",
    ")\\\n",
    ".dropna()\\\n",
    ".to_csv(\n",
    "   os.path.join(tateswd, pvals_fn),\n",
    "    header=False,\n",
    "    index=False,\n",
    "    sep=\" \"\n",
    ")\n",
    "# defdims file\n",
    "pheno_num = 6  # 6 phenotypes (MRI)\n",
    "corrmat_type = \"full\"  # full correlation matrix\n",
    "snp_num = pd.read_csv(os.path.join(tateswd, pvals_fn), header=None, sep=\" \").shape[0]\n",
    "tatesres_fn = \"MRI_tates_results\"\n",
    "towrite = \"{0} {1}\\n{2}\\n{3}\\n{4}\\n{5}\".format(\n",
    "    pheno_num,      # number of phenotype\n",
    "    snp_num,        # number of snps\n",
    "    corrmat_type,   # correlation matrix type\n",
    "    pvals_fn,       # pvals file\n",
    "    corrmat_fn,     # correlation matrix file\n",
    "    tatesres_fn\n",
    ")\n",
    "try:\n",
    "    with open(os.path.join(tateswd, \"defdims\"), mode=\"w+\") as outfile:\n",
    "        outfile.write(towrite)\n",
    "except Exception as e:\n",
    "    raise e\n",
    "finally:\n",
    "    outfile.close()\n",
    "\n",
    "# run TATES from command line\n",
    "cwd = os.getcwd()\n",
    "os.chdir(tateswd)\n",
    "! ./tates\n",
    "os.chdir(cwd)"
   ]
  },
  {
   "cell_type": "markdown",
   "metadata": {},
   "source": [
    "We can now visualize combined GWAS results through Manhattan plots.<br>\n",
    "To do this we will use ```qqman``` package, an R library specifically designed to provide publication-quality plots."
   ]
  },
  {
   "cell_type": "code",
   "execution_count": null,
   "metadata": {},
   "outputs": [],
   "source": [
    "os.chdir(\"src\")\n",
    "!Rscript plotManhattanIndView.R\n",
    "os.chdir(cwd)"
   ]
  },
  {
   "cell_type": "code",
   "execution_count": null,
   "metadata": {},
   "outputs": [],
   "source": [
    "display(Image(os.path.join(gwasres_path, \"individualView/DaTscan_Manhattan.png\")))"
   ]
  },
  {
   "cell_type": "code",
   "execution_count": null,
   "metadata": {},
   "outputs": [],
   "source": [
    "display(Image(os.path.join(gwasres_path, \"individualView/MRI_Manhattan.png\")))"
   ]
  },
  {
   "cell_type": "markdown",
   "metadata": {},
   "source": [
    "## Integrated View"
   ]
  },
  {
   "cell_type": "markdown",
   "metadata": {},
   "source": [
    "*Integrated View* is aimed to search for genetic variants-phenotype associations using generalized models as phenotypic measures. <br>\n",
    "Therefore, will be searched \"SNP-model\" associations rather than simple SNP-trait associations.\n",
    "\n",
    "Let's perform GWAS analyses!"
   ]
  },
  {
   "cell_type": "code",
   "execution_count": null,
   "metadata": {},
   "outputs": [],
   "source": [
    "pheno_datscan_fn = os.path.join(gwasres_path, \"integratedView/pheno_datscan.txt\")\n",
    "!plink --bfile {os.path.join(genotyping_path, \"PPMI_merge_final\")} --pheno {pheno_datscan_fn} --all-pheno --covar {covariate_fn} --covar-name age_cat,educ,PC1-PC5 --linear hide-covar sex --out {os.path.join(gwasres_path, \"integratedView/DaTscan_results\")} "
   ]
  },
  {
   "cell_type": "code",
   "execution_count": null,
   "metadata": {},
   "outputs": [],
   "source": [
    "pheno_mri_fn = os.path.join(gwasres_path, \"integratedView/pheno_mri.txt\")\n",
    "!plink --bfile {os.path.join(genotyping_path, \"PPMI_merge_final\")} --pheno {pheno_mri_fn} --all-pheno --covar {covariate_fn} --covar-name age_cat,educ,PC1-PC5 --linear hide-covar sex --out {os.path.join(gwasres_path, \"integratedView/MRI_results\")} "
   ]
  },
  {
   "cell_type": "markdown",
   "metadata": {},
   "source": [
    "We can now visualize GWAS results.<br>\n",
    "As before we will use ```qqman``` R package."
   ]
  },
  {
   "cell_type": "code",
   "execution_count": null,
   "metadata": {},
   "outputs": [],
   "source": [
    "os.chdir(\"src\")\n",
    "!Rscript plotManhattanIntView.R\n",
    "os.chdir(cwd)"
   ]
  },
  {
   "cell_type": "code",
   "execution_count": null,
   "metadata": {},
   "outputs": [],
   "source": [
    "display(Image(os.path.join(gwasres_path, \"integratedView/DaTscan_Manhattan.png\")))"
   ]
  },
  {
   "cell_type": "code",
   "execution_count": null,
   "metadata": {},
   "outputs": [],
   "source": [
    "display(Image(os.path.join(gwasres_path, \"integratedView/MRI_Manhattan.png\")))"
   ]
  },
  {
   "cell_type": "code",
   "execution_count": null,
   "metadata": {},
   "outputs": [],
   "source": []
  }
 ],
 "metadata": {
  "kernelspec": {
   "display_name": "Python 3",
   "language": "python",
   "name": "python3"
  },
  "language_info": {
   "codemirror_mode": {
    "name": "ipython",
    "version": 3
   },
   "file_extension": ".py",
   "mimetype": "text/x-python",
   "name": "python",
   "nbconvert_exporter": "python",
   "pygments_lexer": "ipython3",
   "version": "3.7.3"
  }
 },
 "nbformat": 4,
 "nbformat_minor": 2
}
